import warnings
warnings.simplefilter(action='ignore', category=FutureWarning)

from vivarium import InteractiveContext #, Artifact

from datetime import datetime, timedelta
from pathlib import Path
import itertools
import matplotlib.pyplot as plt
import ipywidgets
import pandas as pd, numpy as np
pd.set_option('display.max_rows', 60)

import numpy as np
import researchpy as rp
import statsmodels.api as sm
import statsmodels.formula.api as smf
from matplotlib.backends.backend_pdf import PdfPages
import seaborn as sns
import scipy.stats

from db_queries import get_outputs as go
from db_queries import get_ids
from get_draws.api import get_draws





path = Path('/ihme/homes/lutzes/vivarium_nih_us_cvd/src/vivarium_nih_us_cvd/model_specifications/nih_us_cvd.yaml')
sim = InteractiveContext(path, setup=False)


sim.configuration.update({
                          'population':
                              {'population_size': 50_000,
                              },
                          'time':
                              {'start':
                                  {'year': 2023
                                  }
                              }
                          }
                        )
sim.setup()


pop0 = sim.get_population()
pop0.head()


#pop0.columns


#sim.list_values()


data1 = pd.concat([pop0,
                   sim.get_value('high_ldl_cholesterol.exposure')(pop0.index).rename('high_ldl'),
                   sim.get_value('high_systolic_blood_pressure.exposure')(pop0.index).rename('high_sbp'),
                   sim.get_value('high_body_mass_index_in_adults.exposure')(pop0.index).rename('high_bmi'),
                   sim.get_value('high_fasting_plasma_glucose.exposure')(pop0.index).rename('high_fpg'),
                  ], axis=1)
data1.head()


data1 = data1.loc[(data1.age > 25) & (data1.alive == 'alive')]
data1['age_start'] = ((data1.age/5).astype(int) * 5).astype(float)





## Starting with the NOT age specific correlation testing 

# SBP/LDL-C, SBP/FPG, LDL-C/BMI, and FPG/BMI
sbp_ldl, pval = scipy.stats.spearmanr(data1['high_sbp'], data1['high_ldl'])
sbp_fpg, pval = scipy.stats.spearmanr(data1['high_sbp'], data1['high_fpg'])
ldl_bmi, pval = scipy.stats.spearmanr(data1['high_ldl'], data1['high_bmi'])
bmi_fpg, pval = scipy.stats.spearmanr(data1['high_bmi'], data1['high_fpg'])

print(sbp_ldl, sbp_fpg, ldl_bmi, bmi_fpg)  


correlation = pd.read_csv('/ihme/homes/lutzes/correlation.csv')
correlation = correlation.drop('Unnamed: 0',axis=1)
correlation


## Now for SBP and BMI which is actually age specific! 
sbp_bmi_ages = pd.DataFrame()
for i in range(len(correlation)):
    age = correlation.iloc[i,0]
    subdata = data1.loc[data1.age_start==age]
    bmi_sbp, pval = scipy.stats.spearmanr(subdata['high_sbp'], subdata['high_bmi'])
    small_data = pd.DataFrame([age,bmi_sbp,pval]).transpose()
    sbp_bmi_ages = pd.concat([sbp_bmi_ages, small_data], ignore_index=True)
sbp_bmi_ages = sbp_bmi_ages.rename(columns={0: 'age', 1:'corr', 2:'pval'})
sbp_bmi_ages.head()


plt.figure() 
plt.plot(sbp_bmi_ages['age'], sbp_bmi_ages['corr'], marker='o')
plt.plot(correlation['age_start'], correlation['sbp_bmi'], marker='o')





sim_data = pd.DataFrame()
for step in list(range(0,25)):
    sim.step()
    pop_t = sim.get_population()
    data_t = pd.concat([pop_t, 
                   sim.get_value('high_ldl_cholesterol.exposure')(pop0.index).rename('high_ldl'),
                   sim.get_value('high_systolic_blood_pressure.exposure')(pop0.index).rename('high_sbp'),
                   sim.get_value('high_body_mass_index_in_adults.exposure')(pop0.index).rename('high_bmi'),
                   sim.get_value('high_fasting_plasma_glucose.exposure')(pop0.index).rename('high_fpg'),
                       ],axis=1)
    data_t['step'] = step
    print(step)
    sim_data = pd.concat([sim_data, data_t])


last_step = sim_data.loc[(sim_data.step==24) & (sim_data.age > 25) & (sim_data.alive == 'alive')]
last_step['age_start'] = ((last_step.age/5).astype(int) * 5).astype(float)
last_step.head()


## Starting with the NOT age specific correlation testing 

# SBP/LDL-C, SBP/FPG, LDL-C/BMI, and FPG/BMI
sbp_ldl, pval = scipy.stats.spearmanr(last_step['high_sbp'], last_step['high_ldl'])
sbp_fpg, pval = scipy.stats.spearmanr(last_step['high_sbp'], last_step['high_fpg'])
ldl_bmi, pval = scipy.stats.spearmanr(last_step['high_ldl'], last_step['high_bmi'])
bmi_fpg, pval = scipy.stats.spearmanr(last_step['high_bmi'], last_step['high_fpg'])

print(sbp_ldl, sbp_fpg, ldl_bmi, bmi_fpg)  


## Now for SBP and BMI which is actually age specific! 
sbp_bmi_ages = pd.DataFrame()
for i in range(len(correlation)):
    age = correlation.iloc[i,0]
    subdata = last_step.loc[last_step.age_start==age]
    bmi_sbp, pval = scipy.stats.spearmanr(subdata['high_sbp'], subdata['high_bmi'])
    small_data = pd.DataFrame([age,bmi_sbp,pval]).transpose()
    sbp_bmi_ages = pd.concat([sbp_bmi_ages, small_data], ignore_index=True)
sbp_bmi_ages = sbp_bmi_ages.rename(columns={0: 'age', 1:'corr', 2:'pval'})
sbp_bmi_ages.head()


plt.figure() 
plt.plot(sbp_bmi_ages['age'], sbp_bmi_ages['corr'], marker='o')
plt.plot(correlation['age_start'], correlation['sbp_bmi'], marker='o')



