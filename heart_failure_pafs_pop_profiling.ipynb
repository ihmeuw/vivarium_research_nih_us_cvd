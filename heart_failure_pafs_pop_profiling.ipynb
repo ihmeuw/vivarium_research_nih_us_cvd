{
 "cells": [
  {
   "cell_type": "code",
   "execution_count": 71,
   "id": "704b7d52",
   "metadata": {},
   "outputs": [],
   "source": [
    "import pandas as pd\n",
    "import glob\n",
    "import numpy as np"
   ]
  },
  {
   "cell_type": "code",
   "execution_count": 72,
   "id": "19165452",
   "metadata": {},
   "outputs": [],
   "source": [
    "file_pattern = \"/share/costeffectiveness/artifacts/vivarium_nih_us_cvd/raw_data/heart_failure_paf_pop_size_profiling/*.hdf\"\n",
    "\n",
    "def get_age_and_sex(measure_str):\n",
    "    age = measure_str.split('AGE_GROUP_')[1].split('SEX')[0][:-1]\n",
    "    sex = measure_str.split('AGE_GROUP_')[1].split('SEX')[1][1:]\n",
    "    \n",
    "    return age + ',' + sex"
   ]
  },
  {
   "cell_type": "code",
   "execution_count": 101,
   "id": "4ef862e8",
   "metadata": {},
   "outputs": [],
   "source": [
    "plotting_data = pd.DataFrame()\n",
    "\n",
    "for file_name in glob.glob(file_pattern):\n",
    "    pop_size = file_name.split('.hdf')[0].split('output_')[1]\n",
    "    df = pd.read_hdf(file_name)\n",
    "    df = df[[col for col in df.columns if 'blood_pressure' in col]].T # either blood_pressure or high_body_mass_index\n",
    "    df.columns = [f\"draw_{i}\" for i in range(25)]\n",
    "    df = df.reset_index()\n",
    "    df['demographics'] = df['index'].apply(get_age_and_sex)\n",
    "    df = df.drop('index', axis=1)\n",
    "    df[['age', 'sex']] = df['demographics'].str.split(',', expand=True)\n",
    "    df = df.drop('demographics', axis=1)\n",
    "    df['pop_size'] = pop_size\n",
    "    plotting_data = pd.concat([plotting_data, df])"
   ]
  },
  {
   "cell_type": "code",
   "execution_count": 110,
   "id": "a828082d",
   "metadata": {},
   "outputs": [],
   "source": [
    "age = '95_plus'\n",
    "sex = 'Female'\n",
    "\n",
    "subset = plotting_data.query(\"age==@age & sex==@sex\")"
   ]
  },
  {
   "cell_type": "code",
   "execution_count": 113,
   "id": "22048bb3",
   "metadata": {},
   "outputs": [
    {
     "name": "stdout",
     "output_type": "stream",
     "text": [
      "0.07869190673061091\n",
      "0.07952400993569868\n",
      "0.07866689618332497\n",
      "0.14820015097189046\n"
     ]
    }
   ],
   "source": [
    "print(np.std(subset.query(\"pop_size=='1_000_000'\")[[f\"draw_{i}\" for i in range(25)]].values))\n",
    "print(np.std(subset.query(\"pop_size=='100_000'\")[[f\"draw_{i}\" for i in range(25)]].values))\n",
    "print(np.std(subset.query(\"pop_size=='10_000'\")[[f\"draw_{i}\" for i in range(25)]].values))\n",
    "print(np.std(subset.query(\"pop_size=='1000'\")[[f\"draw_{i}\" for i in range(25)]].values))"
   ]
  },
  {
   "cell_type": "code",
   "execution_count": null,
   "id": "36231f2e",
   "metadata": {},
   "outputs": [],
   "source": []
  }
 ],
 "metadata": {
  "kernelspec": {
   "display_name": "Python 3 (ipykernel)",
   "language": "python",
   "name": "python3"
  },
  "language_info": {
   "codemirror_mode": {
    "name": "ipython",
    "version": 3
   },
   "file_extension": ".py",
   "mimetype": "text/x-python",
   "name": "python",
   "nbconvert_exporter": "python",
   "pygments_lexer": "ipython3",
   "version": "3.8.18"
  }
 },
 "nbformat": 4,
 "nbformat_minor": 5
}
