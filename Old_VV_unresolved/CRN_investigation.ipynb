{
 "cells": [
  {
   "cell_type": "markdown",
   "id": "d495a449-fceb-4ebd-945e-3832cb447616",
   "metadata": {},
   "source": [
    "### Loading Packages and Data"
   ]
  },
  {
   "cell_type": "code",
   "execution_count": 1,
   "id": "cd3d6483-2cb2-49a5-a8a1-19b34851e8e5",
   "metadata": {
    "tags": []
   },
   "outputs": [],
   "source": [
    "%matplotlib inline\n",
    "import matplotlib.pyplot as plt\n",
    "import numpy as np\n",
    "import pandas as pd\n",
    "pd.set_option('display.max_rows', 100)\n",
    "\n",
    "#import xarray as xr\n",
    "import warnings\n",
    "warnings.filterwarnings('ignore')\n",
    "from matplotlib.backends.backend_pdf import PdfPages\n",
    "\n",
    "from db_queries import get_outputs as go\n",
    "from db_queries import get_ids\n",
    "from get_draws.api import get_draws\n",
    "from db_queries import get_population"
   ]
  },
  {
   "cell_type": "code",
   "execution_count": 2,
   "id": "836af9e8-96d1-458f-848b-ca8de78678ae",
   "metadata": {
    "tags": []
   },
   "outputs": [
    {
     "name": "stdout",
     "output_type": "stream",
     "text": [
      "binned_ldl_exposure_time.csv     risk_exposure_time.csv\n",
      "binned_ldl_exposure_time.hdf     risk_exposure_time.hdf\n",
      "binned_sbp_exposure_time.csv     sbp_medication_person_time.csv\n",
      "binned_sbp_exposure_time.hdf     sbp_medication_person_time.hdf\n",
      "deaths.csv                       state_person_time.csv\n",
      "deaths.hdf                       state_person_time.hdf\n",
      "healthcare_visits.csv            transition_count.csv\n",
      "healthcare_visits.hdf            transition_count.hdf\n",
      "intervention_person_time.csv     ylds.csv\n",
      "intervention_person_time.hdf     ylds.hdf\n",
      "ldlc_medication_person_time.csv  ylls.csv\n",
      "ldlc_medication_person_time.hdf  ylls.hdf\n"
     ]
    }
   ],
   "source": [
    "ls /mnt/team/simulation_science/priv/engineering/vivarium_nih_us_cvd/seed-testing/alabama/2023_10_24_14_50_26/count_data"
   ]
  },
  {
   "cell_type": "code",
   "execution_count": 4,
   "id": "535b5cea-d455-4dd7-ad39-9b67b4e2bd22",
   "metadata": {},
   "outputs": [],
   "source": [
    "sim_results_dir = '/mnt/team/simulation_science/priv/engineering/vivarium_nih_us_cvd/seed-testing/alabama/2023_10_24_14_50_26/count_data/'"
   ]
  },
  {
   "cell_type": "markdown",
   "id": "826965fc",
   "metadata": {},
   "source": [
    "# Loading and Cleaning Data\n",
    "\n",
    "### Load Data"
   ]
  },
  {
   "cell_type": "code",
   "execution_count": 6,
   "id": "7706ad8a",
   "metadata": {},
   "outputs": [],
   "source": [
    "tran = pd.read_csv(sim_results_dir + 'transition_count.csv')"
   ]
  },
  {
   "cell_type": "code",
   "execution_count": 7,
   "id": "3a31aefe-ed4a-4696-807d-c65b4946117d",
   "metadata": {},
   "outputs": [
    {
     "data": {
      "text/html": [
       "<div>\n",
       "<style scoped>\n",
       "    .dataframe tbody tr th:only-of-type {\n",
       "        vertical-align: middle;\n",
       "    }\n",
       "\n",
       "    .dataframe tbody tr th {\n",
       "        vertical-align: top;\n",
       "    }\n",
       "\n",
       "    .dataframe thead th {\n",
       "        text-align: right;\n",
       "    }\n",
       "</style>\n",
       "<table border=\"1\" class=\"dataframe\">\n",
       "  <thead>\n",
       "    <tr style=\"text-align: right;\">\n",
       "      <th></th>\n",
       "      <th>input_draw</th>\n",
       "      <th>year</th>\n",
       "      <th>scenario</th>\n",
       "      <th>transition_new</th>\n",
       "      <th>value</th>\n",
       "    </tr>\n",
       "  </thead>\n",
       "  <tbody>\n",
       "    <tr>\n",
       "      <th>0</th>\n",
       "      <td>357</td>\n",
       "      <td>2021</td>\n",
       "      <td>baseline</td>\n",
       "      <td>Heart Failure</td>\n",
       "      <td>3463.0</td>\n",
       "    </tr>\n",
       "    <tr>\n",
       "      <th>1</th>\n",
       "      <td>357</td>\n",
       "      <td>2021</td>\n",
       "      <td>baseline</td>\n",
       "      <td>Ischemic Stroke</td>\n",
       "      <td>708.0</td>\n",
       "    </tr>\n",
       "    <tr>\n",
       "      <th>2</th>\n",
       "      <td>357</td>\n",
       "      <td>2021</td>\n",
       "      <td>baseline</td>\n",
       "      <td>Myocardial Infarction</td>\n",
       "      <td>1072.0</td>\n",
       "    </tr>\n",
       "    <tr>\n",
       "      <th>3</th>\n",
       "      <td>357</td>\n",
       "      <td>2021</td>\n",
       "      <td>lifestyle_100</td>\n",
       "      <td>Heart Failure</td>\n",
       "      <td>3463.0</td>\n",
       "    </tr>\n",
       "    <tr>\n",
       "      <th>4</th>\n",
       "      <td>357</td>\n",
       "      <td>2021</td>\n",
       "      <td>lifestyle_100</td>\n",
       "      <td>Ischemic Stroke</td>\n",
       "      <td>708.0</td>\n",
       "    </tr>\n",
       "  </tbody>\n",
       "</table>\n",
       "</div>"
      ],
      "text/plain": [
       "   input_draw  year       scenario         transition_new   value\n",
       "0         357  2021       baseline          Heart Failure  3463.0\n",
       "1         357  2021       baseline        Ischemic Stroke   708.0\n",
       "2         357  2021       baseline  Myocardial Infarction  1072.0\n",
       "3         357  2021  lifestyle_100          Heart Failure  3463.0\n",
       "4         357  2021  lifestyle_100        Ischemic Stroke   708.0"
      ]
     },
     "execution_count": 7,
     "metadata": {},
     "output_type": "execute_result"
    }
   ],
   "source": [
    "tran = tran.loc[tran.transition.isin(['susceptible_to_ischemic_heart_disease_and_heart_failure_to_acute_myocardial_infarction','heart_failure_from_ischemic_heart_disease_to_acute_myocardial_infarction_and_heart_failure','post_myocardial_infarction_to_acute_myocardial_infarction','susceptible_to_ischemic_heart_disease_and_heart_failure_to_heart_failure_from_ischemic_heart_disease','susceptible_to_ischemic_heart_disease_and_heart_failure_to_heart_failure_residual','post_myocardial_infarction_to_heart_failure_from_ischemic_heart_disease','susceptible_to_ischemic_stroke_to_acute_ischemic_stroke','chronic_ischemic_stroke_to_acute_ischemic_stroke'])]\n",
    "tran['transition_new'] = np.where(tran.transition.isin(['susceptible_to_ischemic_heart_disease_and_heart_failure_to_acute_myocardial_infarction','heart_failure_from_ischemic_heart_disease_to_acute_myocardial_infarction_and_heart_failure','post_myocardial_infarction_to_acute_myocardial_infarction']), 'Myocardial Infarction', np.where(tran.transition.isin(['susceptible_to_ischemic_stroke_to_acute_ischemic_stroke','chronic_ischemic_stroke_to_acute_ischemic_stroke']),'Ischemic Stroke','Heart Failure'))\n",
    "tran_US = tran.groupby(['input_draw','year','scenario','transition_new']).value.sum().reset_index()\n",
    "tran_US.head()"
   ]
  },
  {
   "cell_type": "code",
   "execution_count": 8,
   "id": "6ca87111-292d-415d-9678-25f8d2f36df9",
   "metadata": {},
   "outputs": [
    {
     "data": {
      "text/html": [
       "<div>\n",
       "<style scoped>\n",
       "    .dataframe tbody tr th:only-of-type {\n",
       "        vertical-align: middle;\n",
       "    }\n",
       "\n",
       "    .dataframe tbody tr th {\n",
       "        vertical-align: top;\n",
       "    }\n",
       "\n",
       "    .dataframe thead th {\n",
       "        text-align: right;\n",
       "    }\n",
       "</style>\n",
       "<table border=\"1\" class=\"dataframe\">\n",
       "  <thead>\n",
       "    <tr style=\"text-align: right;\">\n",
       "      <th></th>\n",
       "      <th>input_draw</th>\n",
       "      <th>year</th>\n",
       "      <th>scenario</th>\n",
       "      <th>transition_new</th>\n",
       "      <th>value</th>\n",
       "      <th>baseline</th>\n",
       "      <th>averted_count</th>\n",
       "      <th>averted_percent</th>\n",
       "    </tr>\n",
       "  </thead>\n",
       "  <tbody>\n",
       "    <tr>\n",
       "      <th>0</th>\n",
       "      <td>357</td>\n",
       "      <td>2021</td>\n",
       "      <td>baseline</td>\n",
       "      <td>Heart Failure</td>\n",
       "      <td>3463.0</td>\n",
       "      <td>3463.0</td>\n",
       "      <td>0.0</td>\n",
       "      <td>0.0</td>\n",
       "    </tr>\n",
       "    <tr>\n",
       "      <th>1</th>\n",
       "      <td>357</td>\n",
       "      <td>2021</td>\n",
       "      <td>lifestyle_100</td>\n",
       "      <td>Heart Failure</td>\n",
       "      <td>3463.0</td>\n",
       "      <td>3463.0</td>\n",
       "      <td>0.0</td>\n",
       "      <td>0.0</td>\n",
       "    </tr>\n",
       "    <tr>\n",
       "      <th>2</th>\n",
       "      <td>357</td>\n",
       "      <td>2021</td>\n",
       "      <td>lifestyle_50</td>\n",
       "      <td>Heart Failure</td>\n",
       "      <td>3463.0</td>\n",
       "      <td>3463.0</td>\n",
       "      <td>0.0</td>\n",
       "      <td>0.0</td>\n",
       "    </tr>\n",
       "    <tr>\n",
       "      <th>3</th>\n",
       "      <td>357</td>\n",
       "      <td>2021</td>\n",
       "      <td>outreach_100</td>\n",
       "      <td>Heart Failure</td>\n",
       "      <td>3463.0</td>\n",
       "      <td>3463.0</td>\n",
       "      <td>0.0</td>\n",
       "      <td>0.0</td>\n",
       "    </tr>\n",
       "    <tr>\n",
       "      <th>4</th>\n",
       "      <td>357</td>\n",
       "      <td>2021</td>\n",
       "      <td>outreach_50</td>\n",
       "      <td>Heart Failure</td>\n",
       "      <td>3463.0</td>\n",
       "      <td>3463.0</td>\n",
       "      <td>0.0</td>\n",
       "      <td>0.0</td>\n",
       "    </tr>\n",
       "  </tbody>\n",
       "</table>\n",
       "</div>"
      ],
      "text/plain": [
       "   input_draw  year       scenario transition_new   value  baseline  \\\n",
       "0         357  2021       baseline  Heart Failure  3463.0    3463.0   \n",
       "1         357  2021  lifestyle_100  Heart Failure  3463.0    3463.0   \n",
       "2         357  2021   lifestyle_50  Heart Failure  3463.0    3463.0   \n",
       "3         357  2021   outreach_100  Heart Failure  3463.0    3463.0   \n",
       "4         357  2021    outreach_50  Heart Failure  3463.0    3463.0   \n",
       "\n",
       "   averted_count  averted_percent  \n",
       "0            0.0              0.0  \n",
       "1            0.0              0.0  \n",
       "2            0.0              0.0  \n",
       "3            0.0              0.0  \n",
       "4            0.0              0.0  "
      ]
     },
     "execution_count": 8,
     "metadata": {},
     "output_type": "execute_result"
    }
   ],
   "source": [
    "tran_US_baseline = tran_US.loc[tran_US.scenario == 'baseline']\n",
    "tran_US_baseline = tran_US_baseline.rename(columns = {'value':'baseline'})\n",
    "tran_US_total = tran_US.merge(tran_US_baseline[['input_draw','year','transition_new','baseline']], on=['input_draw','year','transition_new']) \n",
    "tran_US_total['averted_count'] = tran_US_total['baseline'] - tran_US_total['value']\n",
    "tran_US_total['averted_percent'] = 100*((tran_US_total['baseline'] - tran_US_total['value'])/tran_US_total['baseline'])\n",
    "tran_US_total.head()"
   ]
  },
  {
   "cell_type": "code",
   "execution_count": 14,
   "id": "04cfbd0d-556e-4456-963c-f9da61427710",
   "metadata": {},
   "outputs": [
    {
     "data": {
      "text/html": [
       "<div>\n",
       "<style scoped>\n",
       "    .dataframe tbody tr th:only-of-type {\n",
       "        vertical-align: middle;\n",
       "    }\n",
       "\n",
       "    .dataframe tbody tr th {\n",
       "        vertical-align: top;\n",
       "    }\n",
       "\n",
       "    .dataframe thead th {\n",
       "        text-align: right;\n",
       "    }\n",
       "</style>\n",
       "<table border=\"1\" class=\"dataframe\">\n",
       "  <thead>\n",
       "    <tr style=\"text-align: right;\">\n",
       "      <th></th>\n",
       "      <th>input_draw</th>\n",
       "      <th>year</th>\n",
       "      <th>scenario</th>\n",
       "      <th>transition_new</th>\n",
       "      <th>value</th>\n",
       "      <th>baseline</th>\n",
       "      <th>averted_count</th>\n",
       "      <th>averted_percent</th>\n",
       "    </tr>\n",
       "  </thead>\n",
       "  <tbody>\n",
       "    <tr>\n",
       "      <th>46</th>\n",
       "      <td>357</td>\n",
       "      <td>2023</td>\n",
       "      <td>outreach_50</td>\n",
       "      <td>Heart Failure</td>\n",
       "      <td>3373.0</td>\n",
       "      <td>3372.0</td>\n",
       "      <td>-1.0</td>\n",
       "      <td>-0.029656</td>\n",
       "    </tr>\n",
       "    <tr>\n",
       "      <th>477</th>\n",
       "      <td>602</td>\n",
       "      <td>2023</td>\n",
       "      <td>lifestyle_100</td>\n",
       "      <td>Myocardial Infarction</td>\n",
       "      <td>1659.0</td>\n",
       "      <td>1658.0</td>\n",
       "      <td>-1.0</td>\n",
       "      <td>-0.060314</td>\n",
       "    </tr>\n",
       "    <tr>\n",
       "      <th>478</th>\n",
       "      <td>602</td>\n",
       "      <td>2023</td>\n",
       "      <td>lifestyle_50</td>\n",
       "      <td>Myocardial Infarction</td>\n",
       "      <td>1659.0</td>\n",
       "      <td>1658.0</td>\n",
       "      <td>-1.0</td>\n",
       "      <td>-0.060314</td>\n",
       "    </tr>\n",
       "  </tbody>\n",
       "</table>\n",
       "</div>"
      ],
      "text/plain": [
       "     input_draw  year       scenario         transition_new   value  baseline  \\\n",
       "46          357  2023    outreach_50          Heart Failure  3373.0    3372.0   \n",
       "477         602  2023  lifestyle_100  Myocardial Infarction  1659.0    1658.0   \n",
       "478         602  2023   lifestyle_50  Myocardial Infarction  1659.0    1658.0   \n",
       "\n",
       "     averted_count  averted_percent  \n",
       "46            -1.0        -0.029656  \n",
       "477           -1.0        -0.060314  \n",
       "478           -1.0        -0.060314  "
      ]
     },
     "execution_count": 14,
     "metadata": {},
     "output_type": "execute_result"
    }
   ],
   "source": [
    "tran_US_total.loc[(tran_US_total.averted_count < 0) & (tran_US_total.year == 2023)] "
   ]
  },
  {
   "cell_type": "code",
   "execution_count": null,
   "id": "4764fa72-3b40-4278-ba08-f093edb1e002",
   "metadata": {},
   "outputs": [],
   "source": []
  },
  {
   "cell_type": "code",
   "execution_count": null,
   "id": "00b89730-7dae-415e-adc5-d08ab14ec9d3",
   "metadata": {},
   "outputs": [],
   "source": []
  }
 ],
 "metadata": {
  "kernelspec": {
   "display_name": "Python 3 (ipykernel)",
   "language": "python",
   "name": "python3"
  },
  "language_info": {
   "codemirror_mode": {
    "name": "ipython",
    "version": 3
   },
   "file_extension": ".py",
   "mimetype": "text/x-python",
   "name": "python",
   "nbconvert_exporter": "python",
   "pygments_lexer": "ipython3",
   "version": "3.9.18"
  }
 },
 "nbformat": 4,
 "nbformat_minor": 5
}
