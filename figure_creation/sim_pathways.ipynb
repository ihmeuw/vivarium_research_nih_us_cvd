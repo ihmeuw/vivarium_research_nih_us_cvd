{
 "cells": [
  {
   "cell_type": "markdown",
   "id": "22923afc",
   "metadata": {},
   "source": [
    "# Finding Percent of Sims to Take Pathways"
   ]
  },
  {
   "cell_type": "code",
   "execution_count": 1,
   "id": "c70fb93f",
   "metadata": {},
   "outputs": [],
   "source": [
    "import warnings\n",
    "warnings.simplefilter(action='ignore', category=FutureWarning)\n",
    "from vivarium import InteractiveContext, Artifact\n",
    "\n",
    "from datetime import datetime, timedelta\n",
    "from pathlib import Path\n",
    "import itertools\n",
    "import matplotlib.pyplot as plt\n",
    "import ipywidgets\n",
    "import pandas as pd, numpy as np\n",
    "pd.set_option('display.max_rows', 100)\n",
    "\n",
    "import numpy as np\n",
    "import researchpy as rp\n",
    "import statsmodels.api as sm\n",
    "import statsmodels.formula.api as smf\n",
    "from matplotlib.backends.backend_pdf import PdfPages\n",
    "import seaborn as sns\n",
    "\n",
    "from db_queries import get_outputs as go\n",
    "from db_queries import get_ids\n",
    "from get_draws.api import get_draws"
   ]
  },
  {
   "cell_type": "markdown",
   "id": "8426c69f",
   "metadata": {},
   "source": [
    "### Create interactive sim data \n",
    "#### Note: I have saved an old version of this data, you can choose to skip this step and just load the dataset below"
   ]
  },
  {
   "cell_type": "code",
   "execution_count": 2,
   "id": "b9492536",
   "metadata": {},
   "outputs": [
    {
     "data": {
      "text/plain": [
       "PosixPath('/ihme/homes/lutzes/vivarium_nih_us_cvd/src/vivarium_nih_us_cvd/model_specifications/nih_us_cvd.yaml')"
      ]
     },
     "execution_count": 2,
     "metadata": {},
     "output_type": "execute_result"
    }
   ],
   "source": [
    "path = Path('/ihme/homes/lutzes/vivarium_nih_us_cvd/src/vivarium_nih_us_cvd/model_specifications/nih_us_cvd.yaml')\n",
    "path"
   ]
  },
  {
   "cell_type": "code",
   "execution_count": 3,
   "id": "45d43d58",
   "metadata": {},
   "outputs": [
    {
     "name": "stdout",
     "output_type": "stream",
     "text": [
      "\u001b[32m2023-08-22 14:19:00.454\u001b[0m | \u001b[1mINFO    \u001b[0m | \u001b[36msimulation_1\u001b[0m-\u001b[36martifact_manager\u001b[0m:\u001b[36m66\u001b[0m - \u001b[1mRunning simulation from artifact located at /mnt/team/simulation_science/costeffectiveness/artifacts/vivarium_nih_us_cvd/alabama.hdf.\u001b[0m\n",
      "\u001b[32m2023-08-22 14:19:00.456\u001b[0m | \u001b[1mINFO    \u001b[0m | \u001b[36msimulation_1\u001b[0m-\u001b[36martifact_manager\u001b[0m:\u001b[36m67\u001b[0m - \u001b[1mArtifact base filter terms are ['draw == 829'].\u001b[0m\n",
      "\u001b[32m2023-08-22 14:19:00.458\u001b[0m | \u001b[1mINFO    \u001b[0m | \u001b[36msimulation_1\u001b[0m-\u001b[36martifact_manager\u001b[0m:\u001b[36m68\u001b[0m - \u001b[1mArtifact additional filter terms are None.\u001b[0m\n"
     ]
    }
   ],
   "source": [
    "sim = InteractiveContext(Path(path), setup=False)\n",
    "sim.configuration.update({\n",
    "                          'population':\n",
    "                              {'population_size': 10_000,\n",
    "                              },\n",
    "                          'time':\n",
    "                              {'start':\n",
    "                                  {'year': 2021\n",
    "                                  }\n",
    "                              },\n",
    "                          'input_data':\n",
    "                              {'input_draw_number': 829\n",
    "                              },\n",
    "                          'intervention':\n",
    "                              {'scenario': \"outreach_100\"\n",
    "                              },\n",
    "                          'outreach_scale_up':\n",
    "                              {'value': \n",
    "                               {'end': 1 \n",
    "                               }\n",
    "                              }\n",
    "                          }\n",
    "                        )\n",
    "sim.setup()"
   ]
  },
  {
   "cell_type": "code",
   "execution_count": 4,
   "id": "e81042cc",
   "metadata": {},
   "outputs": [],
   "source": [
    "pop0 = sim.get_population()\n",
    "#pop0"
   ]
  },
  {
   "cell_type": "code",
   "execution_count": 5,
   "id": "ca6960f2",
   "metadata": {},
   "outputs": [
    {
     "data": {
      "text/plain": [
       "Index(['tracked', 'age', 'alive', 'location', 'exit_time', 'sex',\n",
       "       'entrance_time', 'years_of_life_lost', 'cause_of_death',\n",
       "       'years_lived_with_disability', 'previous_ischemic_stroke',\n",
       "       'previous_ischemic_heart_disease_and_heart_failure',\n",
       "       'high_fasting_plasma_glucose_propensity',\n",
       "       'high_body_mass_index_in_adults_propensity',\n",
       "       'high_systolic_blood_pressure_propensity',\n",
       "       'high_ldl_cholesterol_propensity', 'ischemic_stroke',\n",
       "       'ischemic_heart_disease_and_heart_failure',\n",
       "       'ensemble_propensity_risk_factor.high_ldl_cholesterol',\n",
       "       'ensemble_propensity_risk_factor.high_systolic_blood_pressure',\n",
       "       'ensemble_propensity_risk_factor.high_body_mass_index_in_adults',\n",
       "       'ensemble_propensity_risk_factor.high_fasting_plasma_glucose',\n",
       "       'sbp_medication_adherence_propensity',\n",
       "       'ldlc_medication_adherence_propensity', 'outreach_propensity',\n",
       "       'polypill_propensity', 'lifestyle_propensity',\n",
       "       'susceptible_to_ischemic_stroke_event_count',\n",
       "       'susceptible_to_ischemic_stroke_event_time',\n",
       "       'acute_ischemic_stroke_event_time', 'acute_ischemic_stroke_event_count',\n",
       "       'chronic_ischemic_stroke_event_time',\n",
       "       'chronic_ischemic_stroke_event_count',\n",
       "       'susceptible_to_ischemic_heart_disease_and_heart_failure_event_time',\n",
       "       'susceptible_to_ischemic_heart_disease_and_heart_failure_event_count',\n",
       "       'transient_susceptible_to_ischemic_heart_disease_and_heart_failure_event_count',\n",
       "       'transient_susceptible_to_ischemic_heart_disease_and_heart_failure_event_time',\n",
       "       'acute_myocardial_infarction_event_time',\n",
       "       'acute_myocardial_infarction_event_count',\n",
       "       'post_myocardial_infarction_event_time',\n",
       "       'post_myocardial_infarction_event_count',\n",
       "       'transient_post_myocardial_infarction_event_count',\n",
       "       'transient_post_myocardial_infarction_event_time',\n",
       "       'heart_failure_from_ischemic_heart_disease_event_time',\n",
       "       'heart_failure_from_ischemic_heart_disease_event_count',\n",
       "       'heart_failure_residual_event_count',\n",
       "       'heart_failure_residual_event_time',\n",
       "       'acute_myocardial_infarction_and_heart_failure_event_count',\n",
       "       'acute_myocardial_infarction_and_heart_failure_event_time',\n",
       "       'sbp_multiplier', 'sbp_medication', 'polypill', 'outreach',\n",
       "       'ldlc_multiplier', 'ldlc_medication_adherence', 'lifestyle_adherence',\n",
       "       'ldlc_medication', 'sbp_medication_adherence',\n",
       "       'sbp_therapeutic_inertia_propensity', 'lifestyle',\n",
       "       'ldlc_therapeutic_inertia_propensity', 'scheduled_date',\n",
       "       'last_fpg_test_date', 'visit_type'],\n",
       "      dtype='object')"
      ]
     },
     "execution_count": 5,
     "metadata": {},
     "output_type": "execute_result"
    }
   ],
   "source": [
    "pop0.columns"
   ]
  },
  {
   "cell_type": "code",
   "execution_count": 6,
   "id": "bd78694a",
   "metadata": {},
   "outputs": [],
   "source": [
    "#sim.list_values()"
   ]
  },
  {
   "cell_type": "markdown",
   "id": "a0f9083d",
   "metadata": {},
   "source": [
    "data1 = pd.concat([pop0,\n",
    "                   sim.get_value('outreach.exposure')(pop0.index),\n",
    "                   sim.get_value('lifestyle.exposure')(pop0.index),\n",
    "                   sim.get_value('polypill.exposure')(pop0.index),\n",
    "                  ], axis=1)\n",
    "data1.head()"
   ]
  },
  {
   "cell_type": "code",
   "execution_count": 7,
   "id": "58d1ce68",
   "metadata": {
    "scrolled": true
   },
   "outputs": [
    {
     "name": "stdout",
     "output_type": "stream",
     "text": [
      "0\n",
      "1\n",
      "2\n",
      "3\n",
      "4\n",
      "5\n",
      "6\n",
      "7\n",
      "8\n",
      "9\n",
      "10\n",
      "11\n"
     ]
    }
   ],
   "source": [
    "sim_data = pd.DataFrame()\n",
    "for step in list(range(0,12)):\n",
    "    sim.step()\n",
    "    pop_t = sim.get_population()\n",
    "    data_t = pd.concat([pop_t, \n",
    "                   sim.get_value('high_ldl_cholesterol.exposure')(pop0.index).rename('high_ldl'),\n",
    "                   sim.get_value('high_systolic_blood_pressure.exposure')(pop0.index).rename('high_sbp'),\n",
    "                   sim.get_value('high_body_mass_index_in_adults.exposure')(pop0.index).rename('high_bmi'),\n",
    "                   sim.get_value('high_fasting_plasma_glucose.exposure')(pop0.index).rename('high_fpg'),\n",
    "                      ], axis=1)\n",
    "    data_t['step'] = step\n",
    "    sim_data = pd.concat([sim_data, data_t])\n",
    "    print(step)"
   ]
  },
  {
   "cell_type": "code",
   "execution_count": 8,
   "id": "2555edfe",
   "metadata": {},
   "outputs": [],
   "source": [
    "sim_data.to_csv('/ihme/homes/lutzes/sim_graphs_12_steps_outreach_08222023.csv')"
   ]
  },
  {
   "cell_type": "code",
   "execution_count": 9,
   "id": "febb281c",
   "metadata": {},
   "outputs": [
    {
     "name": "stdout",
     "output_type": "stream",
     "text": [
      "\u001b[32m2023-08-22 14:37:15.637\u001b[0m | \u001b[1mINFO    \u001b[0m | \u001b[36msimulation_2\u001b[0m-\u001b[36martifact_manager\u001b[0m:\u001b[36m66\u001b[0m - \u001b[1mRunning simulation from artifact located at /mnt/team/simulation_science/costeffectiveness/artifacts/vivarium_nih_us_cvd/alabama.hdf.\u001b[0m\n",
      "\u001b[32m2023-08-22 14:37:15.638\u001b[0m | \u001b[1mINFO    \u001b[0m | \u001b[36msimulation_2\u001b[0m-\u001b[36martifact_manager\u001b[0m:\u001b[36m67\u001b[0m - \u001b[1mArtifact base filter terms are ['draw == 829'].\u001b[0m\n",
      "\u001b[32m2023-08-22 14:37:15.641\u001b[0m | \u001b[1mINFO    \u001b[0m | \u001b[36msimulation_2\u001b[0m-\u001b[36martifact_manager\u001b[0m:\u001b[36m68\u001b[0m - \u001b[1mArtifact additional filter terms are None.\u001b[0m\n"
     ]
    }
   ],
   "source": [
    "sim = InteractiveContext(Path(path), setup=False)\n",
    "sim.configuration.update({\n",
    "                          'population':\n",
    "                              {'population_size': 10_000,\n",
    "                              },\n",
    "                          'time':\n",
    "                              {'start':\n",
    "                                  {'year': 2021\n",
    "                                  }\n",
    "                              },\n",
    "                          'input_data':\n",
    "                              {'input_draw_number': 829\n",
    "                              },\n",
    "                          'intervention':\n",
    "                              {'scenario': \"polypill_100\"\n",
    "                              },\n",
    "                          'polypill_scale_up':\n",
    "                              {'value': \n",
    "                               {'end': 1 \n",
    "                               }\n",
    "                              }\n",
    "                          }\n",
    "                        )\n",
    "sim.setup()"
   ]
  },
  {
   "cell_type": "code",
   "execution_count": 10,
   "id": "844986f6",
   "metadata": {},
   "outputs": [
    {
     "name": "stdout",
     "output_type": "stream",
     "text": [
      "0\n",
      "1\n",
      "2\n",
      "3\n",
      "4\n",
      "5\n",
      "6\n",
      "7\n",
      "8\n",
      "9\n",
      "10\n",
      "11\n"
     ]
    }
   ],
   "source": [
    "sim_data = pd.DataFrame()\n",
    "for step in list(range(0,12)):\n",
    "    sim.step()\n",
    "    pop_t = sim.get_population()\n",
    "    data_t = pd.concat([pop_t, \n",
    "                   sim.get_value('high_ldl_cholesterol.exposure')(pop0.index).rename('high_ldl'),\n",
    "                   sim.get_value('high_systolic_blood_pressure.exposure')(pop0.index).rename('high_sbp'),\n",
    "                   sim.get_value('high_body_mass_index_in_adults.exposure')(pop0.index).rename('high_bmi'),\n",
    "                   sim.get_value('high_fasting_plasma_glucose.exposure')(pop0.index).rename('high_fpg'),\n",
    "                      ], axis=1)\n",
    "    data_t['step'] = step\n",
    "    sim_data = pd.concat([sim_data, data_t])\n",
    "    print(step)"
   ]
  },
  {
   "cell_type": "code",
   "execution_count": 11,
   "id": "fba20dd7",
   "metadata": {},
   "outputs": [],
   "source": [
    "sim_data.to_csv('/ihme/homes/lutzes/sim_graphs_12_steps_polypill_08222023.csv')"
   ]
  },
  {
   "cell_type": "code",
   "execution_count": 12,
   "id": "7399a273",
   "metadata": {},
   "outputs": [
    {
     "name": "stdout",
     "output_type": "stream",
     "text": [
      "\u001b[32m2023-08-22 14:54:03.907\u001b[0m | \u001b[1mINFO    \u001b[0m | \u001b[36msimulation_3\u001b[0m-\u001b[36martifact_manager\u001b[0m:\u001b[36m66\u001b[0m - \u001b[1mRunning simulation from artifact located at /mnt/team/simulation_science/costeffectiveness/artifacts/vivarium_nih_us_cvd/alabama.hdf.\u001b[0m\n",
      "\u001b[32m2023-08-22 14:54:03.908\u001b[0m | \u001b[1mINFO    \u001b[0m | \u001b[36msimulation_3\u001b[0m-\u001b[36martifact_manager\u001b[0m:\u001b[36m67\u001b[0m - \u001b[1mArtifact base filter terms are ['draw == 829'].\u001b[0m\n",
      "\u001b[32m2023-08-22 14:54:03.909\u001b[0m | \u001b[1mINFO    \u001b[0m | \u001b[36msimulation_3\u001b[0m-\u001b[36martifact_manager\u001b[0m:\u001b[36m68\u001b[0m - \u001b[1mArtifact additional filter terms are None.\u001b[0m\n"
     ]
    }
   ],
   "source": [
    "sim = InteractiveContext(Path(path), setup=False)\n",
    "sim.configuration.update({\n",
    "                          'population':\n",
    "                              {'population_size': 10_000,\n",
    "                              },\n",
    "                          'time':\n",
    "                              {'start':\n",
    "                                  {'year': 2021\n",
    "                                  }\n",
    "                              },\n",
    "                          'input_data':\n",
    "                              {'input_draw_number': 829\n",
    "                              },\n",
    "                          'intervention':\n",
    "                              {'scenario': \"lifestyle_100\"\n",
    "                              },\n",
    "                          'lifestyle_scale_up':\n",
    "                              {'value': \n",
    "                               {'end': 1 \n",
    "                               }\n",
    "                              }\n",
    "                          }\n",
    "                        )\n",
    "sim.setup()"
   ]
  },
  {
   "cell_type": "code",
   "execution_count": 13,
   "id": "af0f2767",
   "metadata": {},
   "outputs": [
    {
     "name": "stdout",
     "output_type": "stream",
     "text": [
      "0\n",
      "1\n",
      "2\n",
      "3\n",
      "4\n",
      "5\n",
      "6\n",
      "7\n",
      "8\n",
      "9\n",
      "10\n",
      "11\n"
     ]
    }
   ],
   "source": [
    "sim_data = pd.DataFrame()\n",
    "for step in list(range(0,12)):\n",
    "    sim.step()\n",
    "    pop_t = sim.get_population()\n",
    "    data_t = pd.concat([pop_t, \n",
    "                   sim.get_value('high_ldl_cholesterol.exposure')(pop0.index).rename('high_ldl'),\n",
    "                   sim.get_value('high_systolic_blood_pressure.exposure')(pop0.index).rename('high_sbp'),\n",
    "                   sim.get_value('high_body_mass_index_in_adults.exposure')(pop0.index).rename('high_bmi'),\n",
    "                   sim.get_value('high_fasting_plasma_glucose.exposure')(pop0.index).rename('high_fpg'),\n",
    "                      ], axis=1)\n",
    "    data_t['step'] = step\n",
    "    sim_data = pd.concat([sim_data, data_t])\n",
    "    print(step)"
   ]
  },
  {
   "cell_type": "code",
   "execution_count": 14,
   "id": "8f150ec8",
   "metadata": {},
   "outputs": [],
   "source": [
    "sim_data.to_csv('/ihme/homes/lutzes/sim_graphs_12_steps_lifestyle_08222023.csv')"
   ]
  },
  {
   "cell_type": "code",
   "execution_count": 15,
   "id": "fdf22c9f",
   "metadata": {},
   "outputs": [
    {
     "name": "stdout",
     "output_type": "stream",
     "text": [
      "\u001b[32m2023-08-22 15:07:59.915\u001b[0m | \u001b[1mINFO    \u001b[0m | \u001b[36msimulation_4\u001b[0m-\u001b[36martifact_manager\u001b[0m:\u001b[36m66\u001b[0m - \u001b[1mRunning simulation from artifact located at /mnt/team/simulation_science/costeffectiveness/artifacts/vivarium_nih_us_cvd/alabama.hdf.\u001b[0m\n",
      "\u001b[32m2023-08-22 15:07:59.916\u001b[0m | \u001b[1mINFO    \u001b[0m | \u001b[36msimulation_4\u001b[0m-\u001b[36martifact_manager\u001b[0m:\u001b[36m67\u001b[0m - \u001b[1mArtifact base filter terms are ['draw == 829'].\u001b[0m\n",
      "\u001b[32m2023-08-22 15:07:59.917\u001b[0m | \u001b[1mINFO    \u001b[0m | \u001b[36msimulation_4\u001b[0m-\u001b[36martifact_manager\u001b[0m:\u001b[36m68\u001b[0m - \u001b[1mArtifact additional filter terms are None.\u001b[0m\n"
     ]
    }
   ],
   "source": [
    "sim = InteractiveContext(Path(path), setup=False)\n",
    "sim.configuration.update({\n",
    "                          'population':\n",
    "                              {'population_size': 10_000,\n",
    "                              },\n",
    "                          'time':\n",
    "                              {'start':\n",
    "                                  {'year': 2021\n",
    "                                  }\n",
    "                              },\n",
    "                          'input_data':\n",
    "                              {'input_draw_number': 829\n",
    "                              },\n",
    "                          'intervention':\n",
    "                              {'scenario': \"baseline\"\n",
    "                              },\n",
    "                          }\n",
    "                        )\n",
    "sim.setup()"
   ]
  },
  {
   "cell_type": "code",
   "execution_count": 16,
   "id": "aa26393c",
   "metadata": {},
   "outputs": [
    {
     "name": "stdout",
     "output_type": "stream",
     "text": [
      "0\n",
      "1\n",
      "2\n",
      "3\n",
      "4\n",
      "5\n",
      "6\n",
      "7\n",
      "8\n",
      "9\n",
      "10\n",
      "11\n"
     ]
    }
   ],
   "source": [
    "sim_data = pd.DataFrame()\n",
    "for step in list(range(0,12)):\n",
    "    sim.step()\n",
    "    pop_t = sim.get_population()\n",
    "    data_t = pd.concat([pop_t, \n",
    "                   sim.get_value('high_ldl_cholesterol.exposure')(pop0.index).rename('high_ldl'),\n",
    "                   sim.get_value('high_systolic_blood_pressure.exposure')(pop0.index).rename('high_sbp'),\n",
    "                   sim.get_value('high_body_mass_index_in_adults.exposure')(pop0.index).rename('high_bmi'),\n",
    "                   sim.get_value('high_fasting_plasma_glucose.exposure')(pop0.index).rename('high_fpg'),\n",
    "                      ], axis=1)\n",
    "    data_t['step'] = step\n",
    "    sim_data = pd.concat([sim_data, data_t])\n",
    "    print(step)"
   ]
  },
  {
   "cell_type": "code",
   "execution_count": 17,
   "id": "f59364dc",
   "metadata": {},
   "outputs": [],
   "source": [
    "sim_data.to_csv('/ihme/homes/lutzes/sim_graphs_12_steps_baseline_08222023.csv')"
   ]
  },
  {
   "cell_type": "markdown",
   "id": "653b5e5f",
   "metadata": {},
   "source": [
    "## Analyze Data and Set Up Columns for Graphing "
   ]
  },
  {
   "cell_type": "code",
   "execution_count": null,
   "id": "ee1f4d8b",
   "metadata": {},
   "outputs": [],
   "source": []
  },
  {
   "cell_type": "code",
   "execution_count": null,
   "id": "8a0bac4f",
   "metadata": {},
   "outputs": [],
   "source": []
  }
 ],
 "metadata": {
  "kernelspec": {
   "display_name": "Python 3 (ipykernel)",
   "language": "python",
   "name": "python3"
  },
  "language_info": {
   "codemirror_mode": {
    "name": "ipython",
    "version": 3
   },
   "file_extension": ".py",
   "mimetype": "text/x-python",
   "name": "python",
   "nbconvert_exporter": "python",
   "pygments_lexer": "ipython3",
   "version": "3.8.16"
  }
 },
 "nbformat": 4,
 "nbformat_minor": 5
}
