{
 "cells": [
  {
   "cell_type": "markdown",
   "id": "d495a449-fceb-4ebd-945e-3832cb447616",
   "metadata": {},
   "source": [
    "# Loading Packages and Data"
   ]
  },
  {
   "cell_type": "code",
   "execution_count": 2,
   "id": "cd3d6483-2cb2-49a5-a8a1-19b34851e8e5",
   "metadata": {
    "tags": []
   },
   "outputs": [],
   "source": [
    "%matplotlib inline\n",
    "import matplotlib.pyplot as plt\n",
    "import numpy as np\n",
    "import pandas as pd\n",
    "pd.set_option('display.max_rows', 8)\n",
    "\n",
    "#import xarray as xr\n",
    "import warnings\n",
    "warnings.filterwarnings('ignore')\n",
    "from matplotlib.backends.backend_pdf import PdfPages\n",
    "\n",
    "from db_queries import get_outputs as go\n",
    "from db_queries import get_ids\n",
    "from get_draws.api import get_draws"
   ]
  },
  {
   "cell_type": "code",
   "execution_count": 3,
   "id": "836af9e8-96d1-458f-848b-ca8de78678ae",
   "metadata": {
    "tags": []
   },
   "outputs": [
    {
     "name": "stdout",
     "output_type": "stream",
     "text": [
      "binned_ldl_exposure_time.csv  state_person_time.csv  ylls.csv\n",
      "binned_sbp_exposure_time.csv  transition_count.csv\n",
      "deaths.csv                    ylds.csv\n"
     ]
    }
   ],
   "source": [
    "ls /mnt/team/simulation_science/pub/models/vivarium_nih_us_cvd/results/final_runs/nih_us_cvd/2023_12_28_13_42_46/count_data"
   ]
  },
  {
   "cell_type": "code",
   "execution_count": 4,
   "id": "535b5cea-d455-4dd7-ad39-9b67b4e2bd22",
   "metadata": {},
   "outputs": [],
   "source": [
    "sim_results_dir = '/mnt/team/simulation_science/pub/models/vivarium_nih_us_cvd/results/final_runs/nih_us_cvd/2023_12_28_13_42_46/count_data/'"
   ]
  },
  {
   "cell_type": "markdown",
   "id": "2b062c32-c56b-49f3-800e-16f396bf1bbb",
   "metadata": {},
   "source": [
    "# Exploring Data"
   ]
  },
  {
   "cell_type": "code",
   "execution_count": 4,
   "id": "6e5566eb-e2a6-448c-bef5-620af9e496e4",
   "metadata": {},
   "outputs": [
    {
     "data": {
      "text/plain": [
       "array(['acute_ischemic_stroke', 'acute_myocardial_infarction',\n",
       "       'acute_myocardial_infarction_and_heart_failure',\n",
       "       'chronic_ischemic_stroke',\n",
       "       'heart_failure_from_ischemic_heart_disease',\n",
       "       'heart_failure_residual', 'other_causes',\n",
       "       'post_myocardial_infarction'], dtype=object)"
      ]
     },
     "execution_count": 4,
     "metadata": {},
     "output_type": "execute_result"
    }
   ],
   "source": [
    "deaths = pd.read_csv(sim_results_dir + 'deaths.csv')\n",
    "deaths.cause.unique()"
   ]
  },
  {
   "cell_type": "code",
   "execution_count": 5,
   "id": "309d253c-286a-4385-ac3e-3ee5afdd63d9",
   "metadata": {},
   "outputs": [
    {
     "data": {
      "text/plain": [
       "array(['acute_ischemic_stroke_to_chronic_ischemic_stroke',\n",
       "       'acute_myocardial_infarction_and_heart_failure_to_heart_failure_from_ischemic_heart_disease',\n",
       "       'acute_myocardial_infarction_to_post_myocardial_infarction',\n",
       "       'chronic_ischemic_stroke_to_acute_ischemic_stroke',\n",
       "       'heart_failure_from_ischemic_heart_disease_to_acute_myocardial_infarction_and_heart_failure',\n",
       "       'post_myocardial_infarction_to_acute_myocardial_infarction',\n",
       "       'post_myocardial_infarction_to_heart_failure_from_ischemic_heart_disease',\n",
       "       'susceptible_to_ischemic_heart_disease_and_heart_failure_to_acute_myocardial_infarction',\n",
       "       'susceptible_to_ischemic_heart_disease_and_heart_failure_to_heart_failure_from_ischemic_heart_disease',\n",
       "       'susceptible_to_ischemic_heart_disease_and_heart_failure_to_heart_failure_residual',\n",
       "       'susceptible_to_ischemic_stroke_to_acute_ischemic_stroke'],\n",
       "      dtype=object)"
      ]
     },
     "execution_count": 5,
     "metadata": {},
     "output_type": "execute_result"
    }
   ],
   "source": [
    "tran = pd.read_csv(sim_results_dir + 'transition_count.csv')\n",
    "tran.transition.unique()"
   ]
  },
  {
   "cell_type": "code",
   "execution_count": 6,
   "id": "ab9f1283-13d6-43b8-a3c9-cd98d6387bf8",
   "metadata": {},
   "outputs": [
    {
     "data": {
      "text/plain": [
       "3069572019.143054"
      ]
     },
     "execution_count": 6,
     "metadata": {},
     "output_type": "execute_result"
    }
   ],
   "source": [
    "state_person_time = pd.read_csv(sim_results_dir + '/state_person_time.csv')\n",
    "person_time = state_person_time.loc[state_person_time['state'].isin([\"acute_ischemic_stroke\", \"chronic_ischemic_stroke\", \"susceptible_to_ischemic_stroke\"])].reset_index() \n",
    "\n",
    "person_time.value.sum()"
   ]
  },
  {
   "cell_type": "code",
   "execution_count": 5,
   "id": "326bd58d-b8a0-4c55-b79d-615b274fd540",
   "metadata": {},
   "outputs": [
    {
     "data": {
      "text/html": [
       "<div>\n",
       "<style scoped>\n",
       "    .dataframe tbody tr th:only-of-type {\n",
       "        vertical-align: middle;\n",
       "    }\n",
       "\n",
       "    .dataframe tbody tr th {\n",
       "        vertical-align: top;\n",
       "    }\n",
       "\n",
       "    .dataframe thead th {\n",
       "        text-align: right;\n",
       "    }\n",
       "</style>\n",
       "<table border=\"1\" class=\"dataframe\">\n",
       "  <thead>\n",
       "    <tr style=\"text-align: right;\">\n",
       "      <th></th>\n",
       "      <th>Unnamed: 0</th>\n",
       "      <th>sex</th>\n",
       "      <th>year</th>\n",
       "      <th>cause</th>\n",
       "      <th>measure</th>\n",
       "      <th>input_draw</th>\n",
       "      <th>scenario</th>\n",
       "      <th>location</th>\n",
       "      <th>age</th>\n",
       "      <th>value</th>\n",
       "    </tr>\n",
       "  </thead>\n",
       "  <tbody>\n",
       "    <tr>\n",
       "      <th>0</th>\n",
       "      <td>0</td>\n",
       "      <td>Female</td>\n",
       "      <td>2021</td>\n",
       "      <td>acute_ischemic_stroke</td>\n",
       "      <td>ylls</td>\n",
       "      <td>29</td>\n",
       "      <td>baseline</td>\n",
       "      <td>alabama</td>\n",
       "      <td>25_to_29</td>\n",
       "      <td>0.0</td>\n",
       "    </tr>\n",
       "    <tr>\n",
       "      <th>1</th>\n",
       "      <td>1</td>\n",
       "      <td>Female</td>\n",
       "      <td>2021</td>\n",
       "      <td>acute_ischemic_stroke</td>\n",
       "      <td>ylls</td>\n",
       "      <td>29</td>\n",
       "      <td>baseline</td>\n",
       "      <td>alaska</td>\n",
       "      <td>25_to_29</td>\n",
       "      <td>0.0</td>\n",
       "    </tr>\n",
       "    <tr>\n",
       "      <th>2</th>\n",
       "      <td>2</td>\n",
       "      <td>Female</td>\n",
       "      <td>2021</td>\n",
       "      <td>acute_ischemic_stroke</td>\n",
       "      <td>ylls</td>\n",
       "      <td>29</td>\n",
       "      <td>baseline</td>\n",
       "      <td>arizona</td>\n",
       "      <td>25_to_29</td>\n",
       "      <td>0.0</td>\n",
       "    </tr>\n",
       "    <tr>\n",
       "      <th>3</th>\n",
       "      <td>3</td>\n",
       "      <td>Female</td>\n",
       "      <td>2021</td>\n",
       "      <td>acute_ischemic_stroke</td>\n",
       "      <td>ylls</td>\n",
       "      <td>29</td>\n",
       "      <td>baseline</td>\n",
       "      <td>arkansas</td>\n",
       "      <td>25_to_29</td>\n",
       "      <td>0.0</td>\n",
       "    </tr>\n",
       "    <tr>\n",
       "      <th>4</th>\n",
       "      <td>4</td>\n",
       "      <td>Female</td>\n",
       "      <td>2021</td>\n",
       "      <td>acute_ischemic_stroke</td>\n",
       "      <td>ylls</td>\n",
       "      <td>29</td>\n",
       "      <td>baseline</td>\n",
       "      <td>california</td>\n",
       "      <td>25_to_29</td>\n",
       "      <td>0.0</td>\n",
       "    </tr>\n",
       "  </tbody>\n",
       "</table>\n",
       "</div>"
      ],
      "text/plain": [
       "   Unnamed: 0     sex  year                  cause measure  input_draw  \\\n",
       "0           0  Female  2021  acute_ischemic_stroke    ylls          29   \n",
       "1           1  Female  2021  acute_ischemic_stroke    ylls          29   \n",
       "2           2  Female  2021  acute_ischemic_stroke    ylls          29   \n",
       "3           3  Female  2021  acute_ischemic_stroke    ylls          29   \n",
       "4           4  Female  2021  acute_ischemic_stroke    ylls          29   \n",
       "\n",
       "   scenario    location       age  value  \n",
       "0  baseline     alabama  25_to_29    0.0  \n",
       "1  baseline      alaska  25_to_29    0.0  \n",
       "2  baseline     arizona  25_to_29    0.0  \n",
       "3  baseline    arkansas  25_to_29    0.0  \n",
       "4  baseline  california  25_to_29    0.0  "
      ]
     },
     "execution_count": 5,
     "metadata": {},
     "output_type": "execute_result"
    }
   ],
   "source": [
    "yll = pd.read_csv(sim_results_dir + 'ylls.csv')\n",
    "yll.head()"
   ]
  },
  {
   "cell_type": "code",
   "execution_count": 6,
   "id": "6b54fbd2-6f6c-4a41-b535-bc6c4a0eda4c",
   "metadata": {},
   "outputs": [
    {
     "data": {
      "text/html": [
       "<div>\n",
       "<style scoped>\n",
       "    .dataframe tbody tr th:only-of-type {\n",
       "        vertical-align: middle;\n",
       "    }\n",
       "\n",
       "    .dataframe tbody tr th {\n",
       "        vertical-align: top;\n",
       "    }\n",
       "\n",
       "    .dataframe thead th {\n",
       "        text-align: right;\n",
       "    }\n",
       "</style>\n",
       "<table border=\"1\" class=\"dataframe\">\n",
       "  <thead>\n",
       "    <tr style=\"text-align: right;\">\n",
       "      <th></th>\n",
       "      <th>Unnamed: 0</th>\n",
       "      <th>sex</th>\n",
       "      <th>year</th>\n",
       "      <th>measure</th>\n",
       "      <th>input_draw</th>\n",
       "      <th>scenario</th>\n",
       "      <th>location</th>\n",
       "      <th>age</th>\n",
       "      <th>cause_of_disability</th>\n",
       "      <th>value</th>\n",
       "    </tr>\n",
       "  </thead>\n",
       "  <tbody>\n",
       "    <tr>\n",
       "      <th>0</th>\n",
       "      <td>0</td>\n",
       "      <td>Female</td>\n",
       "      <td>2021</td>\n",
       "      <td>ylds</td>\n",
       "      <td>29</td>\n",
       "      <td>baseline</td>\n",
       "      <td>alabama</td>\n",
       "      <td>25_to_29</td>\n",
       "      <td>acute_ischemic_stroke</td>\n",
       "      <td>0.000000</td>\n",
       "    </tr>\n",
       "    <tr>\n",
       "      <th>1</th>\n",
       "      <td>1</td>\n",
       "      <td>Female</td>\n",
       "      <td>2021</td>\n",
       "      <td>ylds</td>\n",
       "      <td>29</td>\n",
       "      <td>baseline</td>\n",
       "      <td>alaska</td>\n",
       "      <td>25_to_29</td>\n",
       "      <td>acute_ischemic_stroke</td>\n",
       "      <td>0.000075</td>\n",
       "    </tr>\n",
       "    <tr>\n",
       "      <th>2</th>\n",
       "      <td>2</td>\n",
       "      <td>Female</td>\n",
       "      <td>2021</td>\n",
       "      <td>ylds</td>\n",
       "      <td>29</td>\n",
       "      <td>baseline</td>\n",
       "      <td>arizona</td>\n",
       "      <td>25_to_29</td>\n",
       "      <td>acute_ischemic_stroke</td>\n",
       "      <td>0.000199</td>\n",
       "    </tr>\n",
       "    <tr>\n",
       "      <th>3</th>\n",
       "      <td>3</td>\n",
       "      <td>Female</td>\n",
       "      <td>2021</td>\n",
       "      <td>ylds</td>\n",
       "      <td>29</td>\n",
       "      <td>baseline</td>\n",
       "      <td>arkansas</td>\n",
       "      <td>25_to_29</td>\n",
       "      <td>acute_ischemic_stroke</td>\n",
       "      <td>0.000190</td>\n",
       "    </tr>\n",
       "    <tr>\n",
       "      <th>4</th>\n",
       "      <td>4</td>\n",
       "      <td>Female</td>\n",
       "      <td>2021</td>\n",
       "      <td>ylds</td>\n",
       "      <td>29</td>\n",
       "      <td>baseline</td>\n",
       "      <td>california</td>\n",
       "      <td>25_to_29</td>\n",
       "      <td>acute_ischemic_stroke</td>\n",
       "      <td>0.000232</td>\n",
       "    </tr>\n",
       "  </tbody>\n",
       "</table>\n",
       "</div>"
      ],
      "text/plain": [
       "   Unnamed: 0     sex  year measure  input_draw  scenario    location  \\\n",
       "0           0  Female  2021    ylds          29  baseline     alabama   \n",
       "1           1  Female  2021    ylds          29  baseline      alaska   \n",
       "2           2  Female  2021    ylds          29  baseline     arizona   \n",
       "3           3  Female  2021    ylds          29  baseline    arkansas   \n",
       "4           4  Female  2021    ylds          29  baseline  california   \n",
       "\n",
       "        age    cause_of_disability     value  \n",
       "0  25_to_29  acute_ischemic_stroke  0.000000  \n",
       "1  25_to_29  acute_ischemic_stroke  0.000075  \n",
       "2  25_to_29  acute_ischemic_stroke  0.000199  \n",
       "3  25_to_29  acute_ischemic_stroke  0.000190  \n",
       "4  25_to_29  acute_ischemic_stroke  0.000232  "
      ]
     },
     "execution_count": 6,
     "metadata": {},
     "output_type": "execute_result"
    }
   ],
   "source": [
    "yld = pd.read_csv(sim_results_dir + 'ylds.csv')\n",
    "yld.head()"
   ]
  },
  {
   "cell_type": "markdown",
   "id": "a5d96f60-0301-41d4-9937-825774194bf2",
   "metadata": {},
   "source": [
    "# General PDF Function\n",
    "\n",
    "Notes: this works for DALYs, YLLs, YLDs, deaths and incidence. Some things in the function need to be changed manually. These include: counts vs percent decrease (it is set to counts currently), and types of deaths/incidence. It was too complex to have the function auto-select the transitions or causes based on an input. The above section should be helpful in this. "
   ]
  },
  {
   "cell_type": "code",
   "execution_count": 9,
   "id": "e32492f1-078e-4570-8c5f-f7a96e5a5a60",
   "metadata": {},
   "outputs": [],
   "source": [
    "metric = 'dalys'\n",
    "groupby_columns = ['sex', 'input_draw', 'year','scenario','location']\n",
    "\n",
    "def subtract_baseline(group):\n",
    "    baseline_value = group[group['scenario'] == 'baseline']['value'].values[0]\n",
    "    group['averted_count'] = baseline_value - group['value']\n",
    "    group['averted_percent'] = 100*((baseline_value - group['value'])/baseline_value)\n",
    "    return group"
   ]
  },
  {
   "cell_type": "code",
   "execution_count": 10,
   "id": "916f6bd2-82fc-4843-80ca-7e5bb4b2ae66",
   "metadata": {},
   "outputs": [],
   "source": [
    "def pdf_generator(metric, groupby_columns, directory, pdf_title):\n",
    "\n",
    "    if metric == 'dalys':\n",
    "        yll = pd.read_csv(sim_results_dir + 'ylls.csv')\n",
    "        yll = yll.rename(columns = {'value':'yll'})\n",
    "        yll = yll.groupby(groupby_columns).yll.sum().reset_index()\n",
    "        yld = pd.read_csv(sim_results_dir + 'ylds.csv')\n",
    "        yld = yld.rename(columns = {'value':'yld'})\n",
    "        yld = yld.groupby(groupby_columns).yld.sum().reset_index()\n",
    "        data = yll.merge(yld, on=groupby_columns)\n",
    "        data['value'] = data['yll'] + data['yld']\n",
    "\n",
    "    elif metric == 'cvd_deaths': \n",
    "        data = pd.read_csv(directory + 'deaths.csv')\n",
    "        data = data.loc[data.cause != 'other_causes']\n",
    "\n",
    "    elif metric == 'incidence':\n",
    "        data = pd.read_csv(directory + 'transition_count.csv')\n",
    "        data = data.loc[data.isin(['heart_failure_from_ischemic_heart_disease_to_acute_myocardial_infarction_and_heart_failure','post_myocardial_infarction_to_acute_myocardial_infarction','susceptible_to_ischemic_heart_disease_and_heart_failure_to_acute_myocardial_infarction'])]\n",
    "\n",
    "    else: \n",
    "        data = pd.read_csv(directory + f'{metric}.csv')\n",
    "    \n",
    "    data = data.groupby(groupby_columns).value.sum().reset_index()\n",
    "    \n",
    "    #state_person_time = pd.read_csv(sim_results_dir + '/state_person_time.csv')\n",
    "    #person_time = state_person_time.loc[state_person_time['state'].isin([\"acute_ischemic_stroke\", \"chronic_ischemic_stroke\", \"susceptible_to_ischemic_stroke\"])].reset_index() \n",
    "    #person_time = person_time.rename(columns = {'value':'ptvalue'})\n",
    "    #person_time = person_time.groupby(groupby_columns).ptvalue.sum().reset_index()\n",
    "    #data = data.merge(person_time[groupby_columns+['ptvalue']], on=groupby_columns)\n",
    "    #data['value_rate'] = data['value'] / data['ptvalue']\n",
    "    \n",
    "    groupby_not_scenario = [x for x in groupby_columns if x != 'scenario']\n",
    "    data = data.groupby(groupby_not_scenario).apply(subtract_baseline)\n",
    "\n",
    "    groupby_not_draw = [x for x in groupby_columns if x != 'input_draw']\n",
    "    data_count_final = data.groupby(groupby_not_draw).averted_count.describe(percentiles=[.025, .975]).filter(['mean', '2.5%', '97.5%']).reset_index()\n",
    "    data_percent_final = data.groupby(groupby_not_draw).averted_percent.describe(percentiles=[.025, .975]).filter(['mean', '2.5%', '97.5%']).reset_index()\n",
    "\n",
    "    with PdfPages(pdf_title) as pdf:\n",
    "        graph_data = data_percent_final\n",
    "        for location in graph_data.location.unique():\n",
    "            for sex in graph_data.sex.unique():\n",
    "                plt.figure()\n",
    "                subdata = graph_data.loc[(graph_data.sex==sex) & (graph_data.location==location) & (graph_data.scenario=='baseline')]\n",
    "                plt.plot(subdata['year'], subdata['mean'], marker = 'o', label = 'Baseline')\n",
    "                plt.fill_between(subdata['year'], subdata['2.5%'], subdata['97.5%'], alpha = 0.3)\n",
    "                subdata = graph_data.loc[(graph_data.sex==sex) & (graph_data.location==location) & (graph_data.scenario=='lifestyle_100')]\n",
    "                plt.plot(subdata['year'], subdata['mean'], marker = 'o', label='Community-based NDPP')\n",
    "                plt.fill_between(subdata['year'], subdata['2.5%'], subdata['97.5%'], alpha = 0.3)\n",
    "                subdata = graph_data.loc[(graph_data.sex==sex) & (graph_data.location==location) & (graph_data.scenario=='outreach_100')]\n",
    "                plt.plot(subdata['year'], subdata['mean'], marker = 'o', label = 'Nurse intervention to increase medication adherence')\n",
    "                plt.fill_between(subdata['year'], subdata['2.5%'], subdata['97.5%'], alpha = 0.3)\n",
    "                subdata = graph_data.loc[(graph_data.sex==sex) & (graph_data.location==location) & (graph_data.scenario=='polypill_100')]\n",
    "                plt.plot(subdata['year'], subdata['mean'], marker = 'o', label = 'FDC antihypertensive')\n",
    "                plt.fill_between(subdata['year'], subdata['2.5%'], subdata['97.5%'], alpha = 0.3)\n",
    "                plt.title(f'Percent Reduction in {metric} for {location} and {sex}')\n",
    "                plt.legend(loc='center left', bbox_to_anchor=(1, 0.5))\n",
    "                plt.xticks(rotation=90) \n",
    "                plt.xlabel('Year')\n",
    "                plt.xticks(ticks=[2022.5, 2025, 2027.5, 2030, 2032.5, 2035,2037.5, 2040], labels=['','2025','','2030','','2035','','2040'])\n",
    "                plt.ylabel(f'Percent Reduction in {metric}')\n",
    "                pdf.savefig(bbox_inches='tight')"
   ]
  },
  {
   "cell_type": "code",
   "execution_count": null,
   "id": "be7ae0d7-2856-42eb-ae1c-292d8895d622",
   "metadata": {},
   "outputs": [],
   "source": [
    "pdf_generator(metric, groupby_columns, sim_results_dir, pdf_title='dalys_averted_1_10_24.pdf')"
   ]
  },
  {
   "cell_type": "code",
   "execution_count": null,
   "id": "1407c2d8-1ef7-4ed5-8f07-2ff03b343661",
   "metadata": {},
   "outputs": [],
   "source": []
  },
  {
   "cell_type": "code",
   "execution_count": null,
   "id": "3a3cbe7f-0470-4a4a-ad81-ff294c542182",
   "metadata": {},
   "outputs": [],
   "source": []
  }
 ],
 "metadata": {
  "kernelspec": {
   "display_name": "Python 3 (ipykernel)",
   "language": "python",
   "name": "python3"
  },
  "language_info": {
   "codemirror_mode": {
    "name": "ipython",
    "version": 3
   },
   "file_extension": ".py",
   "mimetype": "text/x-python",
   "name": "python",
   "nbconvert_exporter": "python",
   "pygments_lexer": "ipython3",
   "version": "3.9.18"
  }
 },
 "nbformat": 4,
 "nbformat_minor": 5
}
