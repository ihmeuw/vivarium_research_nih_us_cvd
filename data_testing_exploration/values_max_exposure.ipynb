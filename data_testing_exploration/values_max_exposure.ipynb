{
 "cells": [
  {
   "cell_type": "code",
   "execution_count": 1,
   "id": "4f1abbbc-20f5-4c49-8559-f03c1876667c",
   "metadata": {},
   "outputs": [],
   "source": [
    "import numpy as np\n",
    "import pandas as pd\n",
    "pd.set_option('display.max_rows', 8)\n",
    "\n",
    "from db_queries import get_outputs as go\n",
    "from db_queries import get_ids\n",
    "from get_draws.api import get_draws"
   ]
  },
  {
   "cell_type": "code",
   "execution_count": 48,
   "id": "0ff83623-03dc-4053-909d-5e352fed7402",
   "metadata": {},
   "outputs": [
    {
     "name": "stderr",
     "output_type": "stream",
     "text": [
      "/ihme/homes/lutzes/.conda/envs/vivarium_nih_us_cvd/lib/python3.8/site-packages/get_draws/api.py:189: UserWarning: No version_id was specified, so get_draws will automatically determine a best version ID to use from the given parameters. If you want to retrieve a specific version please pass a version_id directly.\n",
      "  warnings.warn(\n"
     ]
    }
   ],
   "source": [
    "pafs = get_draws(gbd_id_type=['rei_id', 'cause_id'], \n",
    "                 gbd_id=[370, 493], \n",
    "                 source='burdenator', \n",
    "                 measure_id=2, \n",
    "                 metric_id=2, \n",
    "                 year_id=2019, \n",
    "                 location_id=523, \n",
    "                sex_id=[1,2], \n",
    "                age_group_id=[10,11,12,13,14,15,16,17,18,19,20,30,31,32],\n",
    "                 gbd_round_id=6, \n",
    "                 status='best', \n",
    "                 decomp_step='step5')\n"
   ]
  },
  {
   "cell_type": "code",
   "execution_count": 49,
   "id": "446c0735-8e01-4e01-acde-11e49f5873a5",
   "metadata": {},
   "outputs": [
    {
     "data": {
      "text/plain": [
       "draw_667   -0.094045\n",
       "draw_398    0.005783\n",
       "draw_483    0.016995\n",
       "draw_920    0.018915\n",
       "draw_864    0.026671\n",
       "dtype: float64"
      ]
     },
     "execution_count": 49,
     "metadata": {},
     "output_type": "execute_result"
    }
   ],
   "source": [
    "test = pafs.iloc[:,2:1002].min()\n",
    "test.nsmallest()"
   ]
  },
  {
   "cell_type": "code",
   "execution_count": 43,
   "id": "99d74342-dd83-4c8f-9c19-b1dc55711904",
   "metadata": {},
   "outputs": [
    {
     "name": "stderr",
     "output_type": "stream",
     "text": [
      "/ihme/homes/lutzes/.conda/envs/vivarium_nih_us_cvd/lib/python3.8/site-packages/get_draws/api.py:189: UserWarning: No version_id was specified, so get_draws will automatically determine a best version ID to use from the given parameters. If you want to retrieve a specific version please pass a version_id directly.\n",
      "  warnings.warn(\n"
     ]
    }
   ],
   "source": [
    "pafs_sbp_mi = get_draws(gbd_id_type=['rei_id', 'cause_id'], \n",
    "                 gbd_id=[107, 493], \n",
    "                 source='burdenator', \n",
    "                 measure_id=2, \n",
    "                 metric_id=2, \n",
    "                 year_id=2019, \n",
    "                 gbd_round_id=6, \n",
    "                 status='best', \n",
    "                 location_id=523, \n",
    "                sex_id=[1,2], \n",
    "                age_group_id=[10,11,12,13,14,15,16,17,18,19,20,30,31,32],\n",
    "                 decomp_step='step5')\n"
   ]
  },
  {
   "cell_type": "code",
   "execution_count": 47,
   "id": "302b353c-4f88-40f1-8f54-61e8bf15b8e7",
   "metadata": {},
   "outputs": [
    {
     "data": {
      "text/plain": [
       "draw_226    0.001731\n",
       "draw_544    0.004390\n",
       "draw_227    0.008873\n",
       "draw_550    0.009054\n",
       "draw_826    0.009812\n",
       "dtype: float64"
      ]
     },
     "execution_count": 47,
     "metadata": {},
     "output_type": "execute_result"
    }
   ],
   "source": [
    "test = pafs_sbp_mi.iloc[:,2:1002].min()\n",
    "test.nsmallest()"
   ]
  },
  {
   "cell_type": "code",
   "execution_count": 50,
   "id": "7999a39a-a369-4152-a98b-848165bab3da",
   "metadata": {},
   "outputs": [
    {
     "name": "stderr",
     "output_type": "stream",
     "text": [
      "/ihme/homes/lutzes/.conda/envs/vivarium_nih_us_cvd/lib/python3.8/site-packages/get_draws/api.py:189: UserWarning: No version_id was specified, so get_draws will automatically determine a best version ID to use from the given parameters. If you want to retrieve a specific version please pass a version_id directly.\n",
      "  warnings.warn(\n"
     ]
    }
   ],
   "source": [
    "pafs_fpg_mi = get_draws(gbd_id_type=['rei_id', 'cause_id'], \n",
    "                 gbd_id=[105, 493], \n",
    "                 source='burdenator', \n",
    "                 measure_id=2, \n",
    "                 metric_id=2, \n",
    "                 year_id=2019, \n",
    "                 gbd_round_id=6, \n",
    "                 location_id=523, \n",
    "                sex_id=[1,2], \n",
    "                age_group_id=[10,11,12,13,14,15,16,17,18,19,20,30,31,32],\n",
    "                 status='best', \n",
    "                 decomp_step='step5')\n"
   ]
  },
  {
   "cell_type": "code",
   "execution_count": 51,
   "id": "bc58e919-94e6-490a-8605-604d94caea0a",
   "metadata": {},
   "outputs": [
    {
     "data": {
      "text/plain": [
       "draw_966    0.010983\n",
       "draw_878    0.011764\n",
       "draw_985    0.017130\n",
       "draw_42     0.017666\n",
       "draw_11     0.017857\n",
       "dtype: float64"
      ]
     },
     "execution_count": 51,
     "metadata": {},
     "output_type": "execute_result"
    }
   ],
   "source": [
    "test = pafs_fpg_mi.iloc[:,2:1002].min()\n",
    "test.nsmallest()"
   ]
  },
  {
   "cell_type": "code",
   "execution_count": 52,
   "id": "a90a8bf3-5e96-49a4-8943-a603388bb64a",
   "metadata": {},
   "outputs": [
    {
     "name": "stderr",
     "output_type": "stream",
     "text": [
      "/ihme/homes/lutzes/.conda/envs/vivarium_nih_us_cvd/lib/python3.8/site-packages/get_draws/api.py:189: UserWarning: No version_id was specified, so get_draws will automatically determine a best version ID to use from the given parameters. If you want to retrieve a specific version please pass a version_id directly.\n",
      "  warnings.warn(\n"
     ]
    }
   ],
   "source": [
    "pafs_ldl_mi = get_draws(gbd_id_type=['rei_id', 'cause_id'], \n",
    "                 gbd_id=[367, 493], \n",
    "                 source='burdenator', \n",
    "                 measure_id=2, \n",
    "                 metric_id=2, \n",
    "                 year_id=2019, \n",
    "                 gbd_round_id=6, \n",
    "                 location_id=523, \n",
    "                sex_id=[1,2], \n",
    "                age_group_id=[10,11,12,13,14,15,16,17,18,19,20,30,31,32],\n",
    "                 status='best', \n",
    "                 decomp_step='step5')\n"
   ]
  },
  {
   "cell_type": "code",
   "execution_count": 53,
   "id": "f7d1514f-3fb7-4512-b3bb-772965e794a0",
   "metadata": {},
   "outputs": [
    {
     "data": {
      "text/plain": [
       "draw_95     0.052212\n",
       "draw_425    0.057346\n",
       "draw_566    0.061150\n",
       "draw_736    0.064157\n",
       "draw_493    0.071176\n",
       "dtype: float64"
      ]
     },
     "execution_count": 53,
     "metadata": {},
     "output_type": "execute_result"
    }
   ],
   "source": [
    "test = pafs_ldl_mi.iloc[:,2:1002].min()\n",
    "test.nsmallest()"
   ]
  },
  {
   "cell_type": "code",
   "execution_count": 2,
   "id": "417d1478-dbaf-4e73-8396-b846d3cb38b6",
   "metadata": {},
   "outputs": [
    {
     "ename": "RotisserieServerError",
     "evalue": "Failed to query Rotisserie with status code 500 and reason phrase Internal Server Error. Server sent additional message Internal server error. If you are seeing this error from a shared functions call, please file a help ticket with Central Computation",
     "output_type": "error",
     "traceback": [
      "\u001b[0;31m---------------------------------------------------------------------------\u001b[0m",
      "\u001b[0;31mRotisserieServerError\u001b[0m                     Traceback (most recent call last)",
      "Input \u001b[0;32mIn [2]\u001b[0m, in \u001b[0;36m<cell line: 1>\u001b[0;34m()\u001b[0m\n\u001b[0;32m----> 1\u001b[0m rrs_bmi_mi \u001b[38;5;241m=\u001b[39m \u001b[43mget_draws\u001b[49m\u001b[43m(\u001b[49m\u001b[43mgbd_id_type\u001b[49m\u001b[38;5;241;43m=\u001b[39;49m\u001b[38;5;124;43m'\u001b[39;49m\u001b[38;5;124;43mrei_id\u001b[39;49m\u001b[38;5;124;43m'\u001b[39;49m\u001b[43m,\u001b[49m\u001b[43m \u001b[49m\n\u001b[1;32m      2\u001b[0m \u001b[43m                    \u001b[49m\u001b[43mgbd_id\u001b[49m\u001b[38;5;241;43m=\u001b[39;49m\u001b[38;5;241;43m370\u001b[39;49m\u001b[43m,\u001b[49m\u001b[43m \u001b[49m\n\u001b[1;32m      3\u001b[0m \u001b[43m                    \u001b[49m\u001b[43msource\u001b[49m\u001b[38;5;241;43m=\u001b[39;49m\u001b[38;5;124;43m'\u001b[39;49m\u001b[38;5;124;43mrr\u001b[39;49m\u001b[38;5;124;43m'\u001b[39;49m\u001b[43m,\u001b[49m\u001b[43m \u001b[49m\n\u001b[1;32m      4\u001b[0m \u001b[43m                    \u001b[49m\u001b[43myear_id\u001b[49m\u001b[38;5;241;43m=\u001b[39;49m\u001b[38;5;241;43m2019\u001b[39;49m\u001b[43m,\u001b[49m\u001b[43m \u001b[49m\n\u001b[1;32m      5\u001b[0m \u001b[43m                    \u001b[49m\u001b[43mgbd_round_id\u001b[49m\u001b[38;5;241;43m=\u001b[39;49m\u001b[38;5;241;43m6\u001b[39;49m\u001b[43m,\u001b[49m\u001b[43m \u001b[49m\n\u001b[1;32m      6\u001b[0m \u001b[43m                    \u001b[49m\u001b[43mstatus\u001b[49m\u001b[38;5;241;43m=\u001b[39;49m\u001b[38;5;124;43m'\u001b[39;49m\u001b[38;5;124;43mbest\u001b[39;49m\u001b[38;5;124;43m'\u001b[39;49m\u001b[43m,\u001b[49m\u001b[43m \u001b[49m\n\u001b[1;32m      7\u001b[0m \u001b[43m                    \u001b[49m\u001b[43mdecomp_step\u001b[49m\u001b[38;5;241;43m=\u001b[39;49m\u001b[38;5;124;43m'\u001b[39;49m\u001b[38;5;124;43mstep4\u001b[39;49m\u001b[38;5;124;43m'\u001b[39;49m\u001b[43m)\u001b[49m\n\u001b[1;32m      8\u001b[0m rrs_bmi_mi \u001b[38;5;241m=\u001b[39m rrs_bmi_mi\u001b[38;5;241m.\u001b[39mloc[rrs_bmi_mi\u001b[38;5;241m.\u001b[39mcause_id\u001b[38;5;241m==\u001b[39m\u001b[38;5;241m493\u001b[39m]\n",
      "File \u001b[0;32m~/.conda/envs/vivarium_nih_us_cvd/lib/python3.8/site-packages/get_draws/api.py:357\u001b[0m, in \u001b[0;36mget_draws\u001b[0;34m(gbd_id_type, gbd_id, source, measure_id, location_id, year_id, age_group_id, sex_id, metric_id, version_id, status, gbd_round_id, num_workers, downsample, decomp_step, release_id, n_draws)\u001b[0m\n\u001b[1;32m    345\u001b[0m factory_instantiation_args \u001b[38;5;241m=\u001b[39m _get_factory_arguments(\n\u001b[1;32m    346\u001b[0m     gbd_ids,\n\u001b[1;32m    347\u001b[0m     gbd_id_types,\n\u001b[0;32m   (...)\u001b[0m\n\u001b[1;32m    353\u001b[0m     metric_id,\n\u001b[1;32m    354\u001b[0m )\n\u001b[1;32m    355\u001b[0m formula_factory \u001b[38;5;241m=\u001b[39m factory_constructor(\u001b[38;5;241m*\u001b[39m\u001b[38;5;241m*\u001b[39mfactory_instantiation_args)\n\u001b[0;32m--> 357\u001b[0m df \u001b[38;5;241m=\u001b[39m \u001b[43m_derive_results\u001b[49m\u001b[43m(\u001b[49m\u001b[43mformula_factory\u001b[49m\u001b[43m,\u001b[49m\u001b[43m \u001b[49m\u001b[43mnum_workers\u001b[49m\u001b[43m,\u001b[49m\u001b[43m \u001b[49m\u001b[43mrelease_id\u001b[49m\u001b[43m,\u001b[49m\u001b[43m \u001b[49m\u001b[43mversion_id\u001b[49m\u001b[43m)\u001b[49m\n\u001b[1;32m    359\u001b[0m \u001b[38;5;66;03m# Downsample different year groups if necessary\u001b[39;00m\n\u001b[1;32m    360\u001b[0m \u001b[38;5;66;03m# RR Max draws do not use year_id, use age_group_id to determine draw demographic grouping\u001b[39;00m\n\u001b[1;32m    361\u001b[0m draw_demographic_exceptions \u001b[38;5;241m=\u001b[39m {\u001b[38;5;124m\"\u001b[39m\u001b[38;5;124mrr_max\u001b[39m\u001b[38;5;124m\"\u001b[39m: \u001b[38;5;124m\"\u001b[39m\u001b[38;5;124mage_group_id\u001b[39m\u001b[38;5;124m\"\u001b[39m}\n",
      "File \u001b[0;32m~/.conda/envs/vivarium_nih_us_cvd/lib/python3.8/site-packages/get_draws/api.py:450\u001b[0m, in \u001b[0;36m_derive_results\u001b[0;34m(formula_factory, num_workers, release_id, version_id)\u001b[0m\n\u001b[1;32m    448\u001b[0m \u001b[38;5;28;01mdef\u001b[39;00m \u001b[38;5;21m_derive_results\u001b[39m(formula_factory, num_workers, release_id, version_id):\n\u001b[1;32m    449\u001b[0m     \u001b[38;5;28;01mtry\u001b[39;00m:\n\u001b[0;32m--> 450\u001b[0m         \u001b[43mformula_factory\u001b[49m\u001b[38;5;241;43m.\u001b[39;49m\u001b[43mderive\u001b[49m\u001b[43m(\u001b[49m\u001b[43mnum_workers\u001b[49m\u001b[43m,\u001b[49m\u001b[43m \u001b[49m\u001b[43mrelease_id\u001b[49m\u001b[43m,\u001b[49m\u001b[43m \u001b[49m\u001b[43mversion_id\u001b[49m\u001b[43m)\u001b[49m\n\u001b[1;32m    452\u001b[0m     \u001b[38;5;28;01mexcept\u001b[39;00m InvalidSpec \u001b[38;5;28;01mas\u001b[39;00m file_not_found_error:\n\u001b[1;32m    453\u001b[0m         \u001b[38;5;28;01mraise\u001b[39;00m \u001b[38;5;167;01mFileNotFoundError\u001b[39;00m(\n\u001b[1;32m    454\u001b[0m             \u001b[38;5;124m\"\u001b[39m\u001b[38;5;124mResource could not be located. If you are retrieving draws from a GBD release \u001b[39m\u001b[38;5;124m\"\u001b[39m\n\u001b[1;32m    455\u001b[0m             \u001b[38;5;124m\"\u001b[39m\u001b[38;5;124mmore than two releases prior to the current GBD release, \u001b[39m\u001b[38;5;124m\"\u001b[39m\n\u001b[1;32m    456\u001b[0m             \u001b[38;5;124m\"\u001b[39m\u001b[38;5;124mthey may have been moved to the J drive. Did you request the appropriate J drive \u001b[39m\u001b[38;5;124m\"\u001b[39m\n\u001b[1;32m    457\u001b[0m             \u001b[38;5;124m\"\u001b[39m\u001b[38;5;124mresource with srun? Error message: \u001b[39m\u001b[38;5;132;01m{}\u001b[39;00m\u001b[38;5;124m\"\u001b[39m\u001b[38;5;241m.\u001b[39mformat(file_not_found_error)\n\u001b[1;32m    458\u001b[0m         )\n",
      "File \u001b[0;32m~/.conda/envs/vivarium_nih_us_cvd/lib/python3.8/site-packages/get_draws/sources/rr.py:214\u001b[0m, in \u001b[0;36mRelativeRisk.derive\u001b[0;34m(self, n_workers, release_id, version_id)\u001b[0m\n\u001b[1;32m    212\u001b[0m \u001b[38;5;28mself\u001b[39m\u001b[38;5;241m.\u001b[39msources \u001b[38;5;241m=\u001b[39m []\n\u001b[1;32m    213\u001b[0m \u001b[38;5;28;01mfor\u001b[39;00m gbd_id, version_id \u001b[38;5;129;01min\u001b[39;00m gbd_id_version_id:\n\u001b[0;32m--> 214\u001b[0m     draw_source \u001b[38;5;241m=\u001b[39m \u001b[38;5;28;43mself\u001b[39;49m\u001b[38;5;241;43m.\u001b[39;49m\u001b[43mcreate_rr_draw_source\u001b[49m\u001b[43m(\u001b[49m\n\u001b[1;32m    215\u001b[0m \u001b[43m        \u001b[49m\u001b[43mn_workers\u001b[49m\u001b[43m,\u001b[49m\u001b[43m \u001b[49m\u001b[43mgbd_id\u001b[49m\u001b[43m,\u001b[49m\u001b[43m \u001b[49m\u001b[43mrelease_id\u001b[49m\u001b[43m,\u001b[49m\u001b[43m \u001b[49m\u001b[43mversion_id\u001b[49m\n\u001b[1;32m    216\u001b[0m \u001b[43m    \u001b[49m\u001b[43m)\u001b[49m\n\u001b[1;32m    217\u001b[0m     \u001b[38;5;28mself\u001b[39m\u001b[38;5;241m.\u001b[39msources\u001b[38;5;241m.\u001b[39mappend(draw_source)\n",
      "File \u001b[0;32m~/.conda/envs/vivarium_nih_us_cvd/lib/python3.8/site-packages/get_draws/sources/rr.py:165\u001b[0m, in \u001b[0;36mRelativeRisk.create_rr_draw_source\u001b[0;34m(cls, n_workers, rei_id, release_id, version_id)\u001b[0m\n\u001b[1;32m    149\u001b[0m \u001b[38;5;129m@classmethod\u001b[39m\n\u001b[1;32m    150\u001b[0m \u001b[38;5;28;01mdef\u001b[39;00m \u001b[38;5;21mcreate_rr_draw_source\u001b[39m(\u001b[38;5;28mcls\u001b[39m, n_workers, rei_id, release_id, version_id\u001b[38;5;241m=\u001b[39m\u001b[38;5;28;01mNone\u001b[39;00m):\n\u001b[1;32m    151\u001b[0m     \u001b[38;5;124;03m\"\"\"Create an instance of a relative risk draw_source for a rei_id\u001b[39;00m\n\u001b[1;32m    152\u001b[0m \n\u001b[1;32m    153\u001b[0m \u001b[38;5;124;03m    Args:\u001b[39;00m\n\u001b[0;32m   (...)\u001b[0m\n\u001b[1;32m    163\u001b[0m \u001b[38;5;124;03m        a rr draw_source\u001b[39;00m\n\u001b[1;32m    164\u001b[0m \u001b[38;5;124;03m    \"\"\"\u001b[39;00m\n\u001b[0;32m--> 165\u001b[0m     arti \u001b[38;5;241m=\u001b[39m \u001b[43mArtifact\u001b[49m\u001b[43m(\u001b[49m\u001b[43midentifier\u001b[49m\u001b[38;5;241;43m=\u001b[39;49m\u001b[43mrei_id\u001b[49m\u001b[43m,\u001b[49m\u001b[43m \u001b[49m\u001b[43martifact_type_id\u001b[49m\u001b[38;5;241;43m=\u001b[39;49m\u001b[38;5;241;43m8\u001b[39;49m\u001b[43m,\u001b[49m\u001b[43m \u001b[49m\u001b[43mrelease_id\u001b[49m\u001b[38;5;241;43m=\u001b[39;49m\u001b[43mrelease_id\u001b[49m\u001b[43m)\u001b[49m\n\u001b[1;32m    167\u001b[0m     \u001b[38;5;28;01mif\u001b[39;00m \u001b[38;5;129;01mnot\u001b[39;00m version_id:\n\u001b[1;32m    168\u001b[0m         version_id \u001b[38;5;241m=\u001b[39m arti\u001b[38;5;241m.\u001b[39mmetadata\u001b[38;5;241m.\u001b[39mbest_version\n",
      "File \u001b[0;32m~/.conda/envs/vivarium_nih_us_cvd/lib/python3.8/site-packages/gbd_artifacts/artifact.py:92\u001b[0m, in \u001b[0;36mArtifact.__init__\u001b[0;34m(self, artifact_type_id, identifier, gbd_round_id, decomp_step, release_id)\u001b[0m\n\u001b[1;32m     81\u001b[0m \u001b[38;5;28mself\u001b[39m\u001b[38;5;241m.\u001b[39mrelease_id \u001b[38;5;241m=\u001b[39m release_id \u001b[38;5;129;01mor\u001b[39;00m release_helpers\u001b[38;5;241m.\u001b[39mget_release_id(\n\u001b[1;32m     82\u001b[0m     decomp_step\u001b[38;5;241m=\u001b[39mdecomp_step,\n\u001b[1;32m     83\u001b[0m     gbd_round_id\u001b[38;5;241m=\u001b[39mgbd_round_id,\n\u001b[1;32m     84\u001b[0m     research_area_id\u001b[38;5;241m=\u001b[39mresearch_area_id,\n\u001b[1;32m     85\u001b[0m     tool_type_id\u001b[38;5;241m=\u001b[39mtool_type_id,\n\u001b[1;32m     86\u001b[0m )\n\u001b[1;32m     88\u001b[0m metadata_obj \u001b[38;5;241m=\u001b[39m get_obj_from_str(\u001b[38;5;28mself\u001b[39m\u001b[38;5;241m.\u001b[39m_metadata_map[artifact_type_id])\n\u001b[1;32m     89\u001b[0m \u001b[38;5;28mself\u001b[39m\u001b[38;5;241m.\u001b[39mmetadata \u001b[38;5;241m=\u001b[39m (\n\u001b[1;32m     90\u001b[0m     metadata_obj(release_id\u001b[38;5;241m=\u001b[39m\u001b[38;5;28mself\u001b[39m\u001b[38;5;241m.\u001b[39mrelease_id)\n\u001b[1;32m     91\u001b[0m     \u001b[38;5;28;01mif\u001b[39;00m artifact_type_id \u001b[38;5;129;01min\u001b[39;00m constants\u001b[38;5;241m.\u001b[39mNO_IDENTIFIER_ARTIFACT_TYPE_IDS\n\u001b[0;32m---> 92\u001b[0m     \u001b[38;5;28;01melse\u001b[39;00m \u001b[43mmetadata_obj\u001b[49m\u001b[43m(\u001b[49m\u001b[38;5;28;43mself\u001b[39;49m\u001b[38;5;241;43m.\u001b[39;49m\u001b[43midentifier\u001b[49m\u001b[43m,\u001b[49m\u001b[43m \u001b[49m\u001b[43mrelease_id\u001b[49m\u001b[38;5;241;43m=\u001b[39;49m\u001b[38;5;28;43mself\u001b[39;49m\u001b[38;5;241;43m.\u001b[39;49m\u001b[43mrelease_id\u001b[49m\u001b[43m)\u001b[49m\n\u001b[1;32m     93\u001b[0m )\n",
      "File \u001b[0;32m~/.conda/envs/vivarium_nih_us_cvd/lib/python3.8/site-packages/gbd_artifacts/rr.py:52\u001b[0m, in \u001b[0;36mRRMetadata.__init__\u001b[0;34m(self, rei_id, release_id, session, metadata_cache)\u001b[0m\n\u001b[1;32m     50\u001b[0m \u001b[38;5;66;03m# Use rotisserie to determine best release id\u001b[39;00m\n\u001b[1;32m     51\u001b[0m \u001b[38;5;28;01mwith\u001b[39;00m rotisserie\u001b[38;5;241m.\u001b[39mclient() \u001b[38;5;28;01mas\u001b[39;00m rc:\n\u001b[0;32m---> 52\u001b[0m     \u001b[38;5;28mself\u001b[39m\u001b[38;5;241m.\u001b[39mbest_release_id \u001b[38;5;241m=\u001b[39m \u001b[43mrc\u001b[49m\u001b[38;5;241;43m.\u001b[39;49m\u001b[43mget_mapped_release\u001b[49m\u001b[43m(\u001b[49m\n\u001b[1;32m     53\u001b[0m \u001b[43m        \u001b[49m\u001b[43mrotation_context\u001b[49m\u001b[38;5;241;43m=\u001b[39;49m\u001b[38;5;28;43mself\u001b[39;49m\u001b[38;5;241;43m.\u001b[39;49m\u001b[43mrotation_context_id\u001b[49m\u001b[43m,\u001b[49m\n\u001b[1;32m     54\u001b[0m \u001b[43m        \u001b[49m\u001b[43mgbd_type\u001b[49m\u001b[38;5;241;43m=\u001b[39;49m\u001b[43mGbdType\u001b[49m\u001b[38;5;241;43m.\u001b[39;49m\u001b[43mREI\u001b[49m\u001b[43m,\u001b[49m\n\u001b[1;32m     55\u001b[0m \u001b[43m        \u001b[49m\u001b[43mgbd_id\u001b[49m\u001b[38;5;241;43m=\u001b[39;49m\u001b[38;5;28;43mself\u001b[39;49m\u001b[38;5;241;43m.\u001b[39;49m\u001b[43mrei_id\u001b[49m\u001b[43m,\u001b[49m\n\u001b[1;32m     56\u001b[0m \u001b[43m        \u001b[49m\u001b[43mrelease_id\u001b[49m\u001b[38;5;241;43m=\u001b[39;49m\u001b[38;5;28;43mself\u001b[39;49m\u001b[38;5;241;43m.\u001b[39;49m\u001b[43mrelease_id\u001b[49m\u001b[43m,\u001b[49m\n\u001b[1;32m     57\u001b[0m \u001b[43m    \u001b[49m\u001b[43m)\u001b[49m\n",
      "File \u001b[0;32m~/.conda/envs/vivarium_nih_us_cvd/lib/python3.8/site-packages/rotisserie/lib/client.py:43\u001b[0m, in \u001b[0;36m_retries.<locals>._retries_helper\u001b[0;34m(*args, **kwargs)\u001b[0m\n\u001b[1;32m     41\u001b[0m \u001b[38;5;129m@functools\u001b[39m\u001b[38;5;241m.\u001b[39mwraps(func)\n\u001b[1;32m     42\u001b[0m \u001b[38;5;28;01mdef\u001b[39;00m \u001b[38;5;21m_retries_helper\u001b[39m(\u001b[38;5;241m*\u001b[39margs: P\u001b[38;5;241m.\u001b[39margs, \u001b[38;5;241m*\u001b[39m\u001b[38;5;241m*\u001b[39mkwargs: P\u001b[38;5;241m.\u001b[39mkwargs) \u001b[38;5;241m-\u001b[39m\u001b[38;5;241m>\u001b[39m T:\n\u001b[0;32m---> 43\u001b[0m     \u001b[38;5;28;01mfor\u001b[39;00m attempt \u001b[38;5;129;01min\u001b[39;00m tenacity\u001b[38;5;241m.\u001b[39mRetrying(\n\u001b[1;32m     44\u001b[0m         retry\u001b[38;5;241m=\u001b[39mtenacity\u001b[38;5;241m.\u001b[39mretry_if_exception_type(exceptions\u001b[38;5;241m.\u001b[39mRotisserieServerError),\n\u001b[1;32m     45\u001b[0m         stop\u001b[38;5;241m=\u001b[39mtenacity\u001b[38;5;241m.\u001b[39mstop_after_attempt(\u001b[38;5;241m5\u001b[39m),\n\u001b[1;32m     46\u001b[0m         wait\u001b[38;5;241m=\u001b[39mtenacity\u001b[38;5;241m.\u001b[39mwait_exponential(exp_base\u001b[38;5;241m=\u001b[39m\u001b[38;5;241m3\u001b[39m, \u001b[38;5;28mmax\u001b[39m\u001b[38;5;241m=\u001b[39m\u001b[38;5;241m20\u001b[39m),\n\u001b[1;32m     47\u001b[0m         reraise\u001b[38;5;241m=\u001b[39m\u001b[38;5;28;01mTrue\u001b[39;00m,  \u001b[38;5;66;03m# Raise our exception rather than tenacity.RetryError\u001b[39;00m\n\u001b[1;32m     48\u001b[0m     ):\n\u001b[1;32m     49\u001b[0m         \u001b[38;5;28;01mwith\u001b[39;00m attempt:\n\u001b[1;32m     50\u001b[0m             \u001b[38;5;28;01mtry\u001b[39;00m:\n",
      "File \u001b[0;32m~/.conda/envs/vivarium_nih_us_cvd/lib/python3.8/site-packages/tenacity/__init__.py:400\u001b[0m, in \u001b[0;36mBaseRetrying.__iter__\u001b[0;34m(self)\u001b[0m\n\u001b[1;32m    398\u001b[0m retry_state \u001b[38;5;241m=\u001b[39m RetryCallState(\u001b[38;5;28mself\u001b[39m, fn\u001b[38;5;241m=\u001b[39m\u001b[38;5;28;01mNone\u001b[39;00m, args\u001b[38;5;241m=\u001b[39m(), kwargs\u001b[38;5;241m=\u001b[39m{})\n\u001b[1;32m    399\u001b[0m \u001b[38;5;28;01mwhile\u001b[39;00m \u001b[38;5;28;01mTrue\u001b[39;00m:\n\u001b[0;32m--> 400\u001b[0m     do \u001b[38;5;241m=\u001b[39m \u001b[38;5;28;43mself\u001b[39;49m\u001b[38;5;241;43m.\u001b[39;49m\u001b[43miter\u001b[49m\u001b[43m(\u001b[49m\u001b[43mretry_state\u001b[49m\u001b[38;5;241;43m=\u001b[39;49m\u001b[43mretry_state\u001b[49m\u001b[43m)\u001b[49m\n\u001b[1;32m    401\u001b[0m     \u001b[38;5;28;01mif\u001b[39;00m \u001b[38;5;28misinstance\u001b[39m(do, DoAttempt):\n\u001b[1;32m    402\u001b[0m         \u001b[38;5;28;01myield\u001b[39;00m AttemptManager(retry_state\u001b[38;5;241m=\u001b[39mretry_state)\n",
      "File \u001b[0;32m~/.conda/envs/vivarium_nih_us_cvd/lib/python3.8/site-packages/tenacity/__init__.py:378\u001b[0m, in \u001b[0;36mBaseRetrying.iter\u001b[0;34m(self, retry_state)\u001b[0m\n\u001b[1;32m    376\u001b[0m     retry_exc \u001b[38;5;241m=\u001b[39m \u001b[38;5;28mself\u001b[39m\u001b[38;5;241m.\u001b[39mretry_error_cls(fut)\n\u001b[1;32m    377\u001b[0m     \u001b[38;5;28;01mif\u001b[39;00m \u001b[38;5;28mself\u001b[39m\u001b[38;5;241m.\u001b[39mreraise:\n\u001b[0;32m--> 378\u001b[0m         \u001b[38;5;28;01mraise\u001b[39;00m \u001b[43mretry_exc\u001b[49m\u001b[38;5;241;43m.\u001b[39;49m\u001b[43mreraise\u001b[49m\u001b[43m(\u001b[49m\u001b[43m)\u001b[49m\n\u001b[1;32m    379\u001b[0m     six\u001b[38;5;241m.\u001b[39mraise_from(retry_exc, fut\u001b[38;5;241m.\u001b[39mexception())\n\u001b[1;32m    381\u001b[0m \u001b[38;5;28;01mif\u001b[39;00m \u001b[38;5;28mself\u001b[39m\u001b[38;5;241m.\u001b[39mwait:\n",
      "File \u001b[0;32m~/.conda/envs/vivarium_nih_us_cvd/lib/python3.8/site-packages/tenacity/__init__.py:206\u001b[0m, in \u001b[0;36mRetryError.reraise\u001b[0;34m(self)\u001b[0m\n\u001b[1;32m    204\u001b[0m \u001b[38;5;28;01mdef\u001b[39;00m \u001b[38;5;21mreraise\u001b[39m(\u001b[38;5;28mself\u001b[39m):\n\u001b[1;32m    205\u001b[0m     \u001b[38;5;28;01mif\u001b[39;00m \u001b[38;5;28mself\u001b[39m\u001b[38;5;241m.\u001b[39mlast_attempt\u001b[38;5;241m.\u001b[39mfailed:\n\u001b[0;32m--> 206\u001b[0m         \u001b[38;5;28;01mraise\u001b[39;00m \u001b[38;5;28;43mself\u001b[39;49m\u001b[38;5;241;43m.\u001b[39;49m\u001b[43mlast_attempt\u001b[49m\u001b[38;5;241;43m.\u001b[39;49m\u001b[43mresult\u001b[49m\u001b[43m(\u001b[49m\u001b[43m)\u001b[49m\n\u001b[1;32m    207\u001b[0m     \u001b[38;5;28;01mraise\u001b[39;00m \u001b[38;5;28mself\u001b[39m\n",
      "File \u001b[0;32m~/.conda/envs/vivarium_nih_us_cvd/lib/python3.8/concurrent/futures/_base.py:437\u001b[0m, in \u001b[0;36mFuture.result\u001b[0;34m(self, timeout)\u001b[0m\n\u001b[1;32m    435\u001b[0m     \u001b[38;5;28;01mraise\u001b[39;00m CancelledError()\n\u001b[1;32m    436\u001b[0m \u001b[38;5;28;01melif\u001b[39;00m \u001b[38;5;28mself\u001b[39m\u001b[38;5;241m.\u001b[39m_state \u001b[38;5;241m==\u001b[39m FINISHED:\n\u001b[0;32m--> 437\u001b[0m     \u001b[38;5;28;01mreturn\u001b[39;00m \u001b[38;5;28;43mself\u001b[39;49m\u001b[38;5;241;43m.\u001b[39;49m\u001b[43m__get_result\u001b[49m\u001b[43m(\u001b[49m\u001b[43m)\u001b[49m\n\u001b[1;32m    439\u001b[0m \u001b[38;5;28mself\u001b[39m\u001b[38;5;241m.\u001b[39m_condition\u001b[38;5;241m.\u001b[39mwait(timeout)\n\u001b[1;32m    441\u001b[0m \u001b[38;5;28;01mif\u001b[39;00m \u001b[38;5;28mself\u001b[39m\u001b[38;5;241m.\u001b[39m_state \u001b[38;5;129;01min\u001b[39;00m [CANCELLED, CANCELLED_AND_NOTIFIED]:\n",
      "File \u001b[0;32m~/.conda/envs/vivarium_nih_us_cvd/lib/python3.8/concurrent/futures/_base.py:389\u001b[0m, in \u001b[0;36mFuture.__get_result\u001b[0;34m(self)\u001b[0m\n\u001b[1;32m    387\u001b[0m \u001b[38;5;28;01mif\u001b[39;00m \u001b[38;5;28mself\u001b[39m\u001b[38;5;241m.\u001b[39m_exception:\n\u001b[1;32m    388\u001b[0m     \u001b[38;5;28;01mtry\u001b[39;00m:\n\u001b[0;32m--> 389\u001b[0m         \u001b[38;5;28;01mraise\u001b[39;00m \u001b[38;5;28mself\u001b[39m\u001b[38;5;241m.\u001b[39m_exception\n\u001b[1;32m    390\u001b[0m     \u001b[38;5;28;01mfinally\u001b[39;00m:\n\u001b[1;32m    391\u001b[0m         \u001b[38;5;66;03m# Break a reference cycle with the exception in self._exception\u001b[39;00m\n\u001b[1;32m    392\u001b[0m         \u001b[38;5;28mself\u001b[39m \u001b[38;5;241m=\u001b[39m \u001b[38;5;28;01mNone\u001b[39;00m\n",
      "File \u001b[0;32m~/.conda/envs/vivarium_nih_us_cvd/lib/python3.8/site-packages/rotisserie/lib/client.py:51\u001b[0m, in \u001b[0;36m_retries.<locals>._retries_helper\u001b[0;34m(*args, **kwargs)\u001b[0m\n\u001b[1;32m     49\u001b[0m \u001b[38;5;28;01mwith\u001b[39;00m attempt:\n\u001b[1;32m     50\u001b[0m     \u001b[38;5;28;01mtry\u001b[39;00m:\n\u001b[0;32m---> 51\u001b[0m         \u001b[38;5;28;01mreturn\u001b[39;00m \u001b[43mfunc\u001b[49m\u001b[43m(\u001b[49m\u001b[38;5;241;43m*\u001b[39;49m\u001b[43margs\u001b[49m\u001b[43m,\u001b[49m\u001b[43m \u001b[49m\u001b[38;5;241;43m*\u001b[39;49m\u001b[38;5;241;43m*\u001b[39;49m\u001b[43mkwargs\u001b[49m\u001b[43m)\u001b[49m\n\u001b[1;32m     52\u001b[0m     \u001b[38;5;28;01mexcept\u001b[39;00m requests\u001b[38;5;241m.\u001b[39mRequestException \u001b[38;5;28;01mas\u001b[39;00m exc:\n\u001b[1;32m     53\u001b[0m         \u001b[38;5;28;01mraise\u001b[39;00m exceptions\u001b[38;5;241m.\u001b[39mRotisserieServerError(  \u001b[38;5;66;03m# noqa: B904\u001b[39;00m\n\u001b[1;32m     54\u001b[0m             \u001b[38;5;124mf\u001b[39m\u001b[38;5;124m\"\u001b[39m\u001b[38;5;124mFailed to query Rotisserie with error: \u001b[39m\u001b[38;5;132;01m{\u001b[39;00mexc\u001b[38;5;132;01m}\u001b[39;00m\u001b[38;5;124m. If you are seeing \u001b[39m\u001b[38;5;124m\"\u001b[39m\n\u001b[1;32m     55\u001b[0m             \u001b[38;5;124m\"\u001b[39m\u001b[38;5;124mthis error from a shared functions call, please file a help ticket \u001b[39m\u001b[38;5;124m\"\u001b[39m\n\u001b[1;32m     56\u001b[0m             \u001b[38;5;124m\"\u001b[39m\u001b[38;5;124mwith Central Computation. Request details: \u001b[39m\u001b[38;5;124m\"\u001b[39m\n\u001b[1;32m     57\u001b[0m             \u001b[38;5;124mf\u001b[39m\u001b[38;5;124m\"\u001b[39m\u001b[38;5;132;01m{\u001b[39;00mexc\u001b[38;5;241m.\u001b[39mrequest\u001b[38;5;241m.\u001b[39mmethod\u001b[38;5;132;01m}\u001b[39;00m\u001b[38;5;124m \u001b[39m\u001b[38;5;132;01m{\u001b[39;00m\u001b[38;5;28mstr\u001b[39m(exc\u001b[38;5;241m.\u001b[39mrequest\u001b[38;5;241m.\u001b[39murl)\u001b[38;5;132;01m}\u001b[39;00m\u001b[38;5;124m\"\u001b[39m\n\u001b[1;32m     58\u001b[0m         )\n",
      "File \u001b[0;32m~/.conda/envs/vivarium_nih_us_cvd/lib/python3.8/site-packages/rotisserie/lib/client.py:364\u001b[0m, in \u001b[0;36mRotisserie.get_mapped_release\u001b[0;34m(self, rotation_context, gbd_type, gbd_id, release_id)\u001b[0m\n\u001b[1;32m    362\u001b[0m         \u001b[38;5;28;01mraise\u001b[39;00m exceptions\u001b[38;5;241m.\u001b[39mRotisserieNotFoundError(message)\n\u001b[1;32m    363\u001b[0m \u001b[38;5;28;01melif\u001b[39;00m response\u001b[38;5;241m.\u001b[39mstatus_code \u001b[38;5;241m!=\u001b[39m \u001b[38;5;241m200\u001b[39m:\n\u001b[0;32m--> 364\u001b[0m     \u001b[43mexceptions\u001b[49m\u001b[38;5;241;43m.\u001b[39;49m\u001b[43mraise_on_error_status\u001b[49m\u001b[43m(\u001b[49m\u001b[43mresponse\u001b[49m\u001b[43m)\u001b[49m\n\u001b[1;32m    365\u001b[0m \u001b[38;5;28;01mreturn\u001b[39;00m models\u001b[38;5;241m.\u001b[39mGetMappedReleaseResponse\u001b[38;5;241m.\u001b[39mparse_raw(response\u001b[38;5;241m.\u001b[39mcontent)\u001b[38;5;241m.\u001b[39mmapped_release_id\n",
      "File \u001b[0;32m~/.conda/envs/vivarium_nih_us_cvd/lib/python3.8/site-packages/rotisserie/lib/exceptions.py:66\u001b[0m, in \u001b[0;36mraise_on_error_status\u001b[0;34m(response)\u001b[0m\n\u001b[1;32m     64\u001b[0m exc_class \u001b[38;5;241m=\u001b[39m RotisserieClientError \u001b[38;5;28;01mif\u001b[39;00m \u001b[38;5;241m400\u001b[39m \u001b[38;5;241m<\u001b[39m\u001b[38;5;241m=\u001b[39m status_code \u001b[38;5;241m<\u001b[39m\u001b[38;5;241m=\u001b[39m \u001b[38;5;241m499\u001b[39m \u001b[38;5;28;01melse\u001b[39;00m RotisserieServerError\n\u001b[1;32m     65\u001b[0m message_text \u001b[38;5;241m=\u001b[39m \u001b[38;5;124mf\u001b[39m\u001b[38;5;124m\"\u001b[39m\u001b[38;5;124m Server sent additional message \u001b[39m\u001b[38;5;132;01m{\u001b[39;00mmessage\u001b[38;5;132;01m}\u001b[39;00m\u001b[38;5;124m.\u001b[39m\u001b[38;5;124m\"\u001b[39m \u001b[38;5;28;01mif\u001b[39;00m message \u001b[38;5;28;01melse\u001b[39;00m \u001b[38;5;124m\"\u001b[39m\u001b[38;5;124m\"\u001b[39m\n\u001b[0;32m---> 66\u001b[0m \u001b[38;5;28;01mraise\u001b[39;00m exc_class(\n\u001b[1;32m     67\u001b[0m     \u001b[38;5;124mf\u001b[39m\u001b[38;5;124m\"\u001b[39m\u001b[38;5;124mFailed to query Rotisserie with status code \u001b[39m\u001b[38;5;132;01m{\u001b[39;00mstatus_code\u001b[38;5;132;01m}\u001b[39;00m\u001b[38;5;124m and reason phrase \u001b[39m\u001b[38;5;124m\"\u001b[39m\n\u001b[1;32m     68\u001b[0m     \u001b[38;5;124mf\u001b[39m\u001b[38;5;124m\"\u001b[39m\u001b[38;5;132;01m{\u001b[39;00mreason_phrase\u001b[38;5;132;01m}\u001b[39;00m\u001b[38;5;124m.\u001b[39m\u001b[38;5;132;01m{\u001b[39;00mmessage_text\u001b[38;5;132;01m}\u001b[39;00m\u001b[38;5;124m If you are seeing this error from a shared \u001b[39m\u001b[38;5;124m\"\u001b[39m\n\u001b[1;32m     69\u001b[0m     \u001b[38;5;124m\"\u001b[39m\u001b[38;5;124mfunctions call, please file a help ticket with Central Computation\u001b[39m\u001b[38;5;124m\"\u001b[39m\n\u001b[1;32m     70\u001b[0m )\n",
      "\u001b[0;31mRotisserieServerError\u001b[0m: Failed to query Rotisserie with status code 500 and reason phrase Internal Server Error. Server sent additional message Internal server error. If you are seeing this error from a shared functions call, please file a help ticket with Central Computation"
     ]
    }
   ],
   "source": [
    "rrs_bmi_mi = get_draws(gbd_id_type='rei_id', \n",
    "                    gbd_id=370, \n",
    "                    source='rr', \n",
    "                    year_id=2019, \n",
    "                    gbd_round_id=6, \n",
    "                    status='best', \n",
    "                    decomp_step='step4')\n",
    "rrs_bmi_mi = rrs_bmi_mi.loc[rrs_bmi_mi.cause_id==493]"
   ]
  },
  {
   "cell_type": "code",
   "execution_count": 54,
   "id": "51396f12-6731-4970-ba85-efd776fd1658",
   "metadata": {},
   "outputs": [],
   "source": [
    "gbd_incd_MI = go(\"cause\", \n",
    "                 gbd_round_id=6, \n",
    "                 age_group_id=[10,11,12,13,14,15,16,17,18,19,20,30,31,32,33], \n",
    "                 cause_id=493, \n",
    "                 measure_id=6, \n",
    "                 metric_id=3, \n",
    "                 location_id=523, \n",
    "                 year_id=2019, \n",
    "                 sex_id=[1,2], \n",
    "                 decomp_step='step5')\n"
   ]
  },
  {
   "cell_type": "code",
   "execution_count": 56,
   "id": "5e3901a4-0edc-4045-a77d-f775b2c69d81",
   "metadata": {},
   "outputs": [
    {
     "data": {
      "text/plain": [
       "0.04089358532782499"
      ]
     },
     "execution_count": 56,
     "metadata": {},
     "output_type": "execute_result"
    }
   ],
   "source": [
    "gbd_incd_MI.upper.max()"
   ]
  },
  {
   "cell_type": "code",
   "execution_count": 3,
   "id": "3212de50-4c2e-44a7-88ea-6ee83da80849",
   "metadata": {},
   "outputs": [
    {
     "ename": "RotisserieServerError",
     "evalue": "Failed to query Rotisserie with status code 500 and reason phrase Internal Server Error. Server sent additional message Internal server error. If you are seeing this error from a shared functions call, please file a help ticket with Central Computation",
     "output_type": "error",
     "traceback": [
      "\u001b[0;31m---------------------------------------------------------------------------\u001b[0m",
      "\u001b[0;31mRotisserieServerError\u001b[0m                     Traceback (most recent call last)",
      "Input \u001b[0;32mIn [3]\u001b[0m, in \u001b[0;36m<cell line: 1>\u001b[0;34m()\u001b[0m\n\u001b[0;32m----> 1\u001b[0m gbd_hf_inc \u001b[38;5;241m=\u001b[39m \u001b[43mget_draws\u001b[49m\u001b[43m(\u001b[49m\u001b[43mrelease_id\u001b[49m\u001b[38;5;241;43m=\u001b[39;49m\u001b[38;5;241;43m6\u001b[39;49m\u001b[43m,\u001b[49m\n\u001b[1;32m      2\u001b[0m \u001b[43m         \u001b[49m\u001b[43myear_id\u001b[49m\u001b[38;5;241;43m=\u001b[39;49m\u001b[38;5;241;43m2019\u001b[39;49m\u001b[43m,\u001b[49m\n\u001b[1;32m      3\u001b[0m \u001b[43m         \u001b[49m\u001b[43msex_id\u001b[49m\u001b[38;5;241;43m=\u001b[39;49m\u001b[43m[\u001b[49m\u001b[38;5;241;43m1\u001b[39;49m\u001b[43m,\u001b[49m\u001b[38;5;241;43m2\u001b[39;49m\u001b[43m]\u001b[49m\u001b[43m,\u001b[49m\n\u001b[1;32m      4\u001b[0m \u001b[43m         \u001b[49m\u001b[43mlocation_id\u001b[49m\u001b[38;5;241;43m=\u001b[39;49m\u001b[38;5;241;43m523\u001b[39;49m\u001b[43m,\u001b[49m\n\u001b[1;32m      5\u001b[0m \u001b[43m         \u001b[49m\u001b[43mage_group_id\u001b[49m\u001b[38;5;241;43m=\u001b[39;49m\u001b[43m[\u001b[49m\u001b[38;5;241;43m10\u001b[39;49m\u001b[43m,\u001b[49m\u001b[38;5;241;43m11\u001b[39;49m\u001b[43m,\u001b[49m\u001b[38;5;241;43m12\u001b[39;49m\u001b[43m,\u001b[49m\u001b[38;5;241;43m13\u001b[39;49m\u001b[43m,\u001b[49m\u001b[38;5;241;43m14\u001b[39;49m\u001b[43m,\u001b[49m\u001b[38;5;241;43m15\u001b[39;49m\u001b[43m,\u001b[49m\u001b[38;5;241;43m16\u001b[39;49m\u001b[43m,\u001b[49m\u001b[38;5;241;43m17\u001b[39;49m\u001b[43m,\u001b[49m\u001b[38;5;241;43m18\u001b[39;49m\u001b[43m,\u001b[49m\u001b[38;5;241;43m19\u001b[39;49m\u001b[43m,\u001b[49m\u001b[38;5;241;43m20\u001b[39;49m\u001b[43m,\u001b[49m\u001b[38;5;241;43m30\u001b[39;49m\u001b[43m,\u001b[49m\u001b[38;5;241;43m31\u001b[39;49m\u001b[43m,\u001b[49m\u001b[38;5;241;43m32\u001b[39;49m\u001b[43m]\u001b[49m\u001b[43m,\u001b[49m\n\u001b[1;32m      6\u001b[0m \u001b[43m         \u001b[49m\u001b[43mgbd_id_type\u001b[49m\u001b[38;5;241;43m=\u001b[39;49m\u001b[38;5;124;43m'\u001b[39;49m\u001b[38;5;124;43mmodelable_entity_id\u001b[39;49m\u001b[38;5;124;43m'\u001b[39;49m\u001b[43m,\u001b[49m\n\u001b[1;32m      7\u001b[0m \u001b[43m         \u001b[49m\u001b[43mgbd_id\u001b[49m\u001b[38;5;241;43m=\u001b[39;49m\u001b[38;5;241;43m2412\u001b[39;49m\u001b[43m,\u001b[49m\n\u001b[1;32m      8\u001b[0m \u001b[43m         \u001b[49m\u001b[43mmeasure_id\u001b[49m\u001b[43m \u001b[49m\u001b[38;5;241;43m=\u001b[39;49m\u001b[43m \u001b[49m\u001b[38;5;241;43m6\u001b[39;49m\u001b[43m,\u001b[49m\n\u001b[1;32m      9\u001b[0m \u001b[43m         \u001b[49m\u001b[43mmetric_id\u001b[49m\u001b[43m \u001b[49m\u001b[38;5;241;43m=\u001b[39;49m\u001b[43m \u001b[49m\u001b[38;5;241;43m3\u001b[39;49m\u001b[43m,\u001b[49m\n\u001b[1;32m     10\u001b[0m \u001b[43m         \u001b[49m\u001b[43msource\u001b[49m\u001b[38;5;241;43m=\u001b[39;49m\u001b[38;5;124;43m'\u001b[39;49m\u001b[38;5;124;43mepi\u001b[39;49m\u001b[38;5;124;43m'\u001b[39;49m\u001b[43m)\u001b[49m\n",
      "File \u001b[0;32m~/.conda/envs/vivarium_nih_us_cvd/lib/python3.8/site-packages/get_draws/api.py:357\u001b[0m, in \u001b[0;36mget_draws\u001b[0;34m(gbd_id_type, gbd_id, source, measure_id, location_id, year_id, age_group_id, sex_id, metric_id, version_id, status, gbd_round_id, num_workers, downsample, decomp_step, release_id, n_draws)\u001b[0m\n\u001b[1;32m    345\u001b[0m factory_instantiation_args \u001b[38;5;241m=\u001b[39m _get_factory_arguments(\n\u001b[1;32m    346\u001b[0m     gbd_ids,\n\u001b[1;32m    347\u001b[0m     gbd_id_types,\n\u001b[0;32m   (...)\u001b[0m\n\u001b[1;32m    353\u001b[0m     metric_id,\n\u001b[1;32m    354\u001b[0m )\n\u001b[1;32m    355\u001b[0m formula_factory \u001b[38;5;241m=\u001b[39m factory_constructor(\u001b[38;5;241m*\u001b[39m\u001b[38;5;241m*\u001b[39mfactory_instantiation_args)\n\u001b[0;32m--> 357\u001b[0m df \u001b[38;5;241m=\u001b[39m \u001b[43m_derive_results\u001b[49m\u001b[43m(\u001b[49m\u001b[43mformula_factory\u001b[49m\u001b[43m,\u001b[49m\u001b[43m \u001b[49m\u001b[43mnum_workers\u001b[49m\u001b[43m,\u001b[49m\u001b[43m \u001b[49m\u001b[43mrelease_id\u001b[49m\u001b[43m,\u001b[49m\u001b[43m \u001b[49m\u001b[43mversion_id\u001b[49m\u001b[43m)\u001b[49m\n\u001b[1;32m    359\u001b[0m \u001b[38;5;66;03m# Downsample different year groups if necessary\u001b[39;00m\n\u001b[1;32m    360\u001b[0m \u001b[38;5;66;03m# RR Max draws do not use year_id, use age_group_id to determine draw demographic grouping\u001b[39;00m\n\u001b[1;32m    361\u001b[0m draw_demographic_exceptions \u001b[38;5;241m=\u001b[39m {\u001b[38;5;124m\"\u001b[39m\u001b[38;5;124mrr_max\u001b[39m\u001b[38;5;124m\"\u001b[39m: \u001b[38;5;124m\"\u001b[39m\u001b[38;5;124mage_group_id\u001b[39m\u001b[38;5;124m\"\u001b[39m}\n",
      "File \u001b[0;32m~/.conda/envs/vivarium_nih_us_cvd/lib/python3.8/site-packages/get_draws/api.py:450\u001b[0m, in \u001b[0;36m_derive_results\u001b[0;34m(formula_factory, num_workers, release_id, version_id)\u001b[0m\n\u001b[1;32m    448\u001b[0m \u001b[38;5;28;01mdef\u001b[39;00m \u001b[38;5;21m_derive_results\u001b[39m(formula_factory, num_workers, release_id, version_id):\n\u001b[1;32m    449\u001b[0m     \u001b[38;5;28;01mtry\u001b[39;00m:\n\u001b[0;32m--> 450\u001b[0m         \u001b[43mformula_factory\u001b[49m\u001b[38;5;241;43m.\u001b[39;49m\u001b[43mderive\u001b[49m\u001b[43m(\u001b[49m\u001b[43mnum_workers\u001b[49m\u001b[43m,\u001b[49m\u001b[43m \u001b[49m\u001b[43mrelease_id\u001b[49m\u001b[43m,\u001b[49m\u001b[43m \u001b[49m\u001b[43mversion_id\u001b[49m\u001b[43m)\u001b[49m\n\u001b[1;32m    452\u001b[0m     \u001b[38;5;28;01mexcept\u001b[39;00m InvalidSpec \u001b[38;5;28;01mas\u001b[39;00m file_not_found_error:\n\u001b[1;32m    453\u001b[0m         \u001b[38;5;28;01mraise\u001b[39;00m \u001b[38;5;167;01mFileNotFoundError\u001b[39;00m(\n\u001b[1;32m    454\u001b[0m             \u001b[38;5;124m\"\u001b[39m\u001b[38;5;124mResource could not be located. If you are retrieving draws from a GBD release \u001b[39m\u001b[38;5;124m\"\u001b[39m\n\u001b[1;32m    455\u001b[0m             \u001b[38;5;124m\"\u001b[39m\u001b[38;5;124mmore than two releases prior to the current GBD release, \u001b[39m\u001b[38;5;124m\"\u001b[39m\n\u001b[1;32m    456\u001b[0m             \u001b[38;5;124m\"\u001b[39m\u001b[38;5;124mthey may have been moved to the J drive. Did you request the appropriate J drive \u001b[39m\u001b[38;5;124m\"\u001b[39m\n\u001b[1;32m    457\u001b[0m             \u001b[38;5;124m\"\u001b[39m\u001b[38;5;124mresource with srun? Error message: \u001b[39m\u001b[38;5;132;01m{}\u001b[39;00m\u001b[38;5;124m\"\u001b[39m\u001b[38;5;241m.\u001b[39mformat(file_not_found_error)\n\u001b[1;32m    458\u001b[0m         )\n",
      "File \u001b[0;32m~/.conda/envs/vivarium_nih_us_cvd/lib/python3.8/site-packages/get_draws/sources/epi.py:284\u001b[0m, in \u001b[0;36mEpi.derive\u001b[0;34m(self, n_workers, release_id, model_version_id)\u001b[0m\n\u001b[1;32m    282\u001b[0m \u001b[38;5;28mself\u001b[39m\u001b[38;5;241m.\u001b[39msources \u001b[38;5;241m=\u001b[39m []\n\u001b[1;32m    283\u001b[0m \u001b[38;5;28;01mfor\u001b[39;00m gbd_id, version_id \u001b[38;5;129;01min\u001b[39;00m gbd_id_version_id:\n\u001b[0;32m--> 284\u001b[0m     draw_source \u001b[38;5;241m=\u001b[39m \u001b[38;5;28;43mself\u001b[39;49m\u001b[38;5;241;43m.\u001b[39;49m\u001b[43mcreate_modelable_entity_draw_source\u001b[49m\u001b[43m(\u001b[49m\n\u001b[1;32m    285\u001b[0m \u001b[43m        \u001b[49m\u001b[43mn_workers\u001b[49m\u001b[43m,\u001b[49m\u001b[43m \u001b[49m\u001b[43mgbd_id\u001b[49m\u001b[43m,\u001b[49m\u001b[43m \u001b[49m\u001b[43mrelease_id\u001b[49m\u001b[43m,\u001b[49m\u001b[43m \u001b[49m\u001b[43mversion_id\u001b[49m\n\u001b[1;32m    286\u001b[0m \u001b[43m    \u001b[49m\u001b[43m)\u001b[49m\n\u001b[1;32m    287\u001b[0m     \u001b[38;5;28mself\u001b[39m\u001b[38;5;241m.\u001b[39msources\u001b[38;5;241m.\u001b[39mappend(draw_source)\n",
      "File \u001b[0;32m~/.conda/envs/vivarium_nih_us_cvd/lib/python3.8/site-packages/get_draws/sources/epi.py:223\u001b[0m, in \u001b[0;36mEpi.create_modelable_entity_draw_source\u001b[0;34m(cls, n_workers, modelable_entity_id, release_id, model_version_id)\u001b[0m\n\u001b[1;32m    210\u001b[0m \u001b[38;5;129m@classmethod\u001b[39m\n\u001b[1;32m    211\u001b[0m \u001b[38;5;28;01mdef\u001b[39;00m \u001b[38;5;21mcreate_modelable_entity_draw_source\u001b[39m(\n\u001b[1;32m    212\u001b[0m     \u001b[38;5;28mcls\u001b[39m, n_workers, modelable_entity_id, release_id, model_version_id\u001b[38;5;241m=\u001b[39m\u001b[38;5;28;01mNone\u001b[39;00m\n\u001b[1;32m    213\u001b[0m ):\n\u001b[1;32m    214\u001b[0m     \u001b[38;5;124;03m\"\"\"Create an instance of an artifact for a modelable_entity_id\u001b[39;00m\n\u001b[1;32m    215\u001b[0m \n\u001b[1;32m    216\u001b[0m \u001b[38;5;124;03m    Args:\u001b[39;00m\n\u001b[0;32m   (...)\u001b[0m\n\u001b[1;32m    221\u001b[0m \u001b[38;5;124;03m            than best.\u001b[39;00m\n\u001b[1;32m    222\u001b[0m \u001b[38;5;124;03m    \"\"\"\u001b[39;00m\n\u001b[0;32m--> 223\u001b[0m     arti \u001b[38;5;241m=\u001b[39m \u001b[43mArtifact\u001b[49m\u001b[43m(\u001b[49m\n\u001b[1;32m    224\u001b[0m \u001b[43m        \u001b[49m\u001b[43midentifier\u001b[49m\u001b[38;5;241;43m=\u001b[39;49m\u001b[43mmodelable_entity_id\u001b[49m\u001b[43m,\u001b[49m\u001b[43m \u001b[49m\u001b[43martifact_type_id\u001b[49m\u001b[38;5;241;43m=\u001b[39;49m\u001b[38;5;241;43m1\u001b[39;49m\u001b[43m,\u001b[49m\u001b[43m \u001b[49m\u001b[43mrelease_id\u001b[49m\u001b[38;5;241;43m=\u001b[39;49m\u001b[43mrelease_id\u001b[49m\n\u001b[1;32m    225\u001b[0m \u001b[43m    \u001b[49m\u001b[43m)\u001b[49m\n\u001b[1;32m    227\u001b[0m     \u001b[38;5;66;03m# get the version\u001b[39;00m\n\u001b[1;32m    228\u001b[0m     \u001b[38;5;28;01mif\u001b[39;00m \u001b[38;5;129;01mnot\u001b[39;00m model_version_id:\n",
      "File \u001b[0;32m~/.conda/envs/vivarium_nih_us_cvd/lib/python3.8/site-packages/gbd_artifacts/artifact.py:92\u001b[0m, in \u001b[0;36mArtifact.__init__\u001b[0;34m(self, artifact_type_id, identifier, gbd_round_id, decomp_step, release_id)\u001b[0m\n\u001b[1;32m     81\u001b[0m \u001b[38;5;28mself\u001b[39m\u001b[38;5;241m.\u001b[39mrelease_id \u001b[38;5;241m=\u001b[39m release_id \u001b[38;5;129;01mor\u001b[39;00m release_helpers\u001b[38;5;241m.\u001b[39mget_release_id(\n\u001b[1;32m     82\u001b[0m     decomp_step\u001b[38;5;241m=\u001b[39mdecomp_step,\n\u001b[1;32m     83\u001b[0m     gbd_round_id\u001b[38;5;241m=\u001b[39mgbd_round_id,\n\u001b[1;32m     84\u001b[0m     research_area_id\u001b[38;5;241m=\u001b[39mresearch_area_id,\n\u001b[1;32m     85\u001b[0m     tool_type_id\u001b[38;5;241m=\u001b[39mtool_type_id,\n\u001b[1;32m     86\u001b[0m )\n\u001b[1;32m     88\u001b[0m metadata_obj \u001b[38;5;241m=\u001b[39m get_obj_from_str(\u001b[38;5;28mself\u001b[39m\u001b[38;5;241m.\u001b[39m_metadata_map[artifact_type_id])\n\u001b[1;32m     89\u001b[0m \u001b[38;5;28mself\u001b[39m\u001b[38;5;241m.\u001b[39mmetadata \u001b[38;5;241m=\u001b[39m (\n\u001b[1;32m     90\u001b[0m     metadata_obj(release_id\u001b[38;5;241m=\u001b[39m\u001b[38;5;28mself\u001b[39m\u001b[38;5;241m.\u001b[39mrelease_id)\n\u001b[1;32m     91\u001b[0m     \u001b[38;5;28;01mif\u001b[39;00m artifact_type_id \u001b[38;5;129;01min\u001b[39;00m constants\u001b[38;5;241m.\u001b[39mNO_IDENTIFIER_ARTIFACT_TYPE_IDS\n\u001b[0;32m---> 92\u001b[0m     \u001b[38;5;28;01melse\u001b[39;00m \u001b[43mmetadata_obj\u001b[49m\u001b[43m(\u001b[49m\u001b[38;5;28;43mself\u001b[39;49m\u001b[38;5;241;43m.\u001b[39;49m\u001b[43midentifier\u001b[49m\u001b[43m,\u001b[49m\u001b[43m \u001b[49m\u001b[43mrelease_id\u001b[49m\u001b[38;5;241;43m=\u001b[39;49m\u001b[38;5;28;43mself\u001b[39;49m\u001b[38;5;241;43m.\u001b[39;49m\u001b[43mrelease_id\u001b[49m\u001b[43m)\u001b[49m\n\u001b[1;32m     93\u001b[0m )\n",
      "File \u001b[0;32m~/.conda/envs/vivarium_nih_us_cvd/lib/python3.8/site-packages/gbd_artifacts/modelable_entity.py:54\u001b[0m, in \u001b[0;36mModelableEntityMetadata.__init__\u001b[0;34m(self, modelable_entity_id, release_id, session, metadata_cache)\u001b[0m\n\u001b[1;32m     52\u001b[0m \u001b[38;5;28;01mwith\u001b[39;00m rotisserie\u001b[38;5;241m.\u001b[39mclient() \u001b[38;5;28;01mas\u001b[39;00m rc:\n\u001b[1;32m     53\u001b[0m     rotation_context \u001b[38;5;241m=\u001b[39m rc\u001b[38;5;241m.\u001b[39mget_context_by_modelable_entity(\u001b[38;5;28mself\u001b[39m\u001b[38;5;241m.\u001b[39mmodelable_entity_id)\n\u001b[0;32m---> 54\u001b[0m     \u001b[38;5;28mself\u001b[39m\u001b[38;5;241m.\u001b[39mbest_release_id \u001b[38;5;241m=\u001b[39m \u001b[43mrc\u001b[49m\u001b[38;5;241;43m.\u001b[39;49m\u001b[43mget_mapped_release\u001b[49m\u001b[43m(\u001b[49m\n\u001b[1;32m     55\u001b[0m \u001b[43m        \u001b[49m\u001b[43mrotation_context\u001b[49m\u001b[38;5;241;43m=\u001b[39;49m\u001b[43mrotation_context\u001b[49m\u001b[43m,\u001b[49m\n\u001b[1;32m     56\u001b[0m \u001b[43m        \u001b[49m\u001b[43mgbd_type\u001b[49m\u001b[38;5;241;43m=\u001b[39;49m\u001b[43mGbdType\u001b[49m\u001b[38;5;241;43m.\u001b[39;49m\u001b[43mMODELABLE_ENTITY\u001b[49m\u001b[43m,\u001b[49m\n\u001b[1;32m     57\u001b[0m \u001b[43m        \u001b[49m\u001b[43mgbd_id\u001b[49m\u001b[38;5;241;43m=\u001b[39;49m\u001b[38;5;28;43mself\u001b[39;49m\u001b[38;5;241;43m.\u001b[39;49m\u001b[43mmodelable_entity_id\u001b[49m\u001b[43m,\u001b[49m\n\u001b[1;32m     58\u001b[0m \u001b[43m        \u001b[49m\u001b[43mrelease_id\u001b[49m\u001b[38;5;241;43m=\u001b[39;49m\u001b[38;5;28;43mself\u001b[39;49m\u001b[38;5;241;43m.\u001b[39;49m\u001b[43mrelease_id\u001b[49m\u001b[43m,\u001b[49m\n\u001b[1;32m     59\u001b[0m \u001b[43m    \u001b[49m\u001b[43m)\u001b[49m\n",
      "File \u001b[0;32m~/.conda/envs/vivarium_nih_us_cvd/lib/python3.8/site-packages/rotisserie/lib/client.py:43\u001b[0m, in \u001b[0;36m_retries.<locals>._retries_helper\u001b[0;34m(*args, **kwargs)\u001b[0m\n\u001b[1;32m     41\u001b[0m \u001b[38;5;129m@functools\u001b[39m\u001b[38;5;241m.\u001b[39mwraps(func)\n\u001b[1;32m     42\u001b[0m \u001b[38;5;28;01mdef\u001b[39;00m \u001b[38;5;21m_retries_helper\u001b[39m(\u001b[38;5;241m*\u001b[39margs: P\u001b[38;5;241m.\u001b[39margs, \u001b[38;5;241m*\u001b[39m\u001b[38;5;241m*\u001b[39mkwargs: P\u001b[38;5;241m.\u001b[39mkwargs) \u001b[38;5;241m-\u001b[39m\u001b[38;5;241m>\u001b[39m T:\n\u001b[0;32m---> 43\u001b[0m     \u001b[38;5;28;01mfor\u001b[39;00m attempt \u001b[38;5;129;01min\u001b[39;00m tenacity\u001b[38;5;241m.\u001b[39mRetrying(\n\u001b[1;32m     44\u001b[0m         retry\u001b[38;5;241m=\u001b[39mtenacity\u001b[38;5;241m.\u001b[39mretry_if_exception_type(exceptions\u001b[38;5;241m.\u001b[39mRotisserieServerError),\n\u001b[1;32m     45\u001b[0m         stop\u001b[38;5;241m=\u001b[39mtenacity\u001b[38;5;241m.\u001b[39mstop_after_attempt(\u001b[38;5;241m5\u001b[39m),\n\u001b[1;32m     46\u001b[0m         wait\u001b[38;5;241m=\u001b[39mtenacity\u001b[38;5;241m.\u001b[39mwait_exponential(exp_base\u001b[38;5;241m=\u001b[39m\u001b[38;5;241m3\u001b[39m, \u001b[38;5;28mmax\u001b[39m\u001b[38;5;241m=\u001b[39m\u001b[38;5;241m20\u001b[39m),\n\u001b[1;32m     47\u001b[0m         reraise\u001b[38;5;241m=\u001b[39m\u001b[38;5;28;01mTrue\u001b[39;00m,  \u001b[38;5;66;03m# Raise our exception rather than tenacity.RetryError\u001b[39;00m\n\u001b[1;32m     48\u001b[0m     ):\n\u001b[1;32m     49\u001b[0m         \u001b[38;5;28;01mwith\u001b[39;00m attempt:\n\u001b[1;32m     50\u001b[0m             \u001b[38;5;28;01mtry\u001b[39;00m:\n",
      "File \u001b[0;32m~/.conda/envs/vivarium_nih_us_cvd/lib/python3.8/site-packages/tenacity/__init__.py:400\u001b[0m, in \u001b[0;36mBaseRetrying.__iter__\u001b[0;34m(self)\u001b[0m\n\u001b[1;32m    398\u001b[0m retry_state \u001b[38;5;241m=\u001b[39m RetryCallState(\u001b[38;5;28mself\u001b[39m, fn\u001b[38;5;241m=\u001b[39m\u001b[38;5;28;01mNone\u001b[39;00m, args\u001b[38;5;241m=\u001b[39m(), kwargs\u001b[38;5;241m=\u001b[39m{})\n\u001b[1;32m    399\u001b[0m \u001b[38;5;28;01mwhile\u001b[39;00m \u001b[38;5;28;01mTrue\u001b[39;00m:\n\u001b[0;32m--> 400\u001b[0m     do \u001b[38;5;241m=\u001b[39m \u001b[38;5;28;43mself\u001b[39;49m\u001b[38;5;241;43m.\u001b[39;49m\u001b[43miter\u001b[49m\u001b[43m(\u001b[49m\u001b[43mretry_state\u001b[49m\u001b[38;5;241;43m=\u001b[39;49m\u001b[43mretry_state\u001b[49m\u001b[43m)\u001b[49m\n\u001b[1;32m    401\u001b[0m     \u001b[38;5;28;01mif\u001b[39;00m \u001b[38;5;28misinstance\u001b[39m(do, DoAttempt):\n\u001b[1;32m    402\u001b[0m         \u001b[38;5;28;01myield\u001b[39;00m AttemptManager(retry_state\u001b[38;5;241m=\u001b[39mretry_state)\n",
      "File \u001b[0;32m~/.conda/envs/vivarium_nih_us_cvd/lib/python3.8/site-packages/tenacity/__init__.py:378\u001b[0m, in \u001b[0;36mBaseRetrying.iter\u001b[0;34m(self, retry_state)\u001b[0m\n\u001b[1;32m    376\u001b[0m     retry_exc \u001b[38;5;241m=\u001b[39m \u001b[38;5;28mself\u001b[39m\u001b[38;5;241m.\u001b[39mretry_error_cls(fut)\n\u001b[1;32m    377\u001b[0m     \u001b[38;5;28;01mif\u001b[39;00m \u001b[38;5;28mself\u001b[39m\u001b[38;5;241m.\u001b[39mreraise:\n\u001b[0;32m--> 378\u001b[0m         \u001b[38;5;28;01mraise\u001b[39;00m \u001b[43mretry_exc\u001b[49m\u001b[38;5;241;43m.\u001b[39;49m\u001b[43mreraise\u001b[49m\u001b[43m(\u001b[49m\u001b[43m)\u001b[49m\n\u001b[1;32m    379\u001b[0m     six\u001b[38;5;241m.\u001b[39mraise_from(retry_exc, fut\u001b[38;5;241m.\u001b[39mexception())\n\u001b[1;32m    381\u001b[0m \u001b[38;5;28;01mif\u001b[39;00m \u001b[38;5;28mself\u001b[39m\u001b[38;5;241m.\u001b[39mwait:\n",
      "File \u001b[0;32m~/.conda/envs/vivarium_nih_us_cvd/lib/python3.8/site-packages/tenacity/__init__.py:206\u001b[0m, in \u001b[0;36mRetryError.reraise\u001b[0;34m(self)\u001b[0m\n\u001b[1;32m    204\u001b[0m \u001b[38;5;28;01mdef\u001b[39;00m \u001b[38;5;21mreraise\u001b[39m(\u001b[38;5;28mself\u001b[39m):\n\u001b[1;32m    205\u001b[0m     \u001b[38;5;28;01mif\u001b[39;00m \u001b[38;5;28mself\u001b[39m\u001b[38;5;241m.\u001b[39mlast_attempt\u001b[38;5;241m.\u001b[39mfailed:\n\u001b[0;32m--> 206\u001b[0m         \u001b[38;5;28;01mraise\u001b[39;00m \u001b[38;5;28;43mself\u001b[39;49m\u001b[38;5;241;43m.\u001b[39;49m\u001b[43mlast_attempt\u001b[49m\u001b[38;5;241;43m.\u001b[39;49m\u001b[43mresult\u001b[49m\u001b[43m(\u001b[49m\u001b[43m)\u001b[49m\n\u001b[1;32m    207\u001b[0m     \u001b[38;5;28;01mraise\u001b[39;00m \u001b[38;5;28mself\u001b[39m\n",
      "File \u001b[0;32m~/.conda/envs/vivarium_nih_us_cvd/lib/python3.8/concurrent/futures/_base.py:437\u001b[0m, in \u001b[0;36mFuture.result\u001b[0;34m(self, timeout)\u001b[0m\n\u001b[1;32m    435\u001b[0m     \u001b[38;5;28;01mraise\u001b[39;00m CancelledError()\n\u001b[1;32m    436\u001b[0m \u001b[38;5;28;01melif\u001b[39;00m \u001b[38;5;28mself\u001b[39m\u001b[38;5;241m.\u001b[39m_state \u001b[38;5;241m==\u001b[39m FINISHED:\n\u001b[0;32m--> 437\u001b[0m     \u001b[38;5;28;01mreturn\u001b[39;00m \u001b[38;5;28;43mself\u001b[39;49m\u001b[38;5;241;43m.\u001b[39;49m\u001b[43m__get_result\u001b[49m\u001b[43m(\u001b[49m\u001b[43m)\u001b[49m\n\u001b[1;32m    439\u001b[0m \u001b[38;5;28mself\u001b[39m\u001b[38;5;241m.\u001b[39m_condition\u001b[38;5;241m.\u001b[39mwait(timeout)\n\u001b[1;32m    441\u001b[0m \u001b[38;5;28;01mif\u001b[39;00m \u001b[38;5;28mself\u001b[39m\u001b[38;5;241m.\u001b[39m_state \u001b[38;5;129;01min\u001b[39;00m [CANCELLED, CANCELLED_AND_NOTIFIED]:\n",
      "File \u001b[0;32m~/.conda/envs/vivarium_nih_us_cvd/lib/python3.8/concurrent/futures/_base.py:389\u001b[0m, in \u001b[0;36mFuture.__get_result\u001b[0;34m(self)\u001b[0m\n\u001b[1;32m    387\u001b[0m \u001b[38;5;28;01mif\u001b[39;00m \u001b[38;5;28mself\u001b[39m\u001b[38;5;241m.\u001b[39m_exception:\n\u001b[1;32m    388\u001b[0m     \u001b[38;5;28;01mtry\u001b[39;00m:\n\u001b[0;32m--> 389\u001b[0m         \u001b[38;5;28;01mraise\u001b[39;00m \u001b[38;5;28mself\u001b[39m\u001b[38;5;241m.\u001b[39m_exception\n\u001b[1;32m    390\u001b[0m     \u001b[38;5;28;01mfinally\u001b[39;00m:\n\u001b[1;32m    391\u001b[0m         \u001b[38;5;66;03m# Break a reference cycle with the exception in self._exception\u001b[39;00m\n\u001b[1;32m    392\u001b[0m         \u001b[38;5;28mself\u001b[39m \u001b[38;5;241m=\u001b[39m \u001b[38;5;28;01mNone\u001b[39;00m\n",
      "File \u001b[0;32m~/.conda/envs/vivarium_nih_us_cvd/lib/python3.8/site-packages/rotisserie/lib/client.py:51\u001b[0m, in \u001b[0;36m_retries.<locals>._retries_helper\u001b[0;34m(*args, **kwargs)\u001b[0m\n\u001b[1;32m     49\u001b[0m \u001b[38;5;28;01mwith\u001b[39;00m attempt:\n\u001b[1;32m     50\u001b[0m     \u001b[38;5;28;01mtry\u001b[39;00m:\n\u001b[0;32m---> 51\u001b[0m         \u001b[38;5;28;01mreturn\u001b[39;00m \u001b[43mfunc\u001b[49m\u001b[43m(\u001b[49m\u001b[38;5;241;43m*\u001b[39;49m\u001b[43margs\u001b[49m\u001b[43m,\u001b[49m\u001b[43m \u001b[49m\u001b[38;5;241;43m*\u001b[39;49m\u001b[38;5;241;43m*\u001b[39;49m\u001b[43mkwargs\u001b[49m\u001b[43m)\u001b[49m\n\u001b[1;32m     52\u001b[0m     \u001b[38;5;28;01mexcept\u001b[39;00m requests\u001b[38;5;241m.\u001b[39mRequestException \u001b[38;5;28;01mas\u001b[39;00m exc:\n\u001b[1;32m     53\u001b[0m         \u001b[38;5;28;01mraise\u001b[39;00m exceptions\u001b[38;5;241m.\u001b[39mRotisserieServerError(  \u001b[38;5;66;03m# noqa: B904\u001b[39;00m\n\u001b[1;32m     54\u001b[0m             \u001b[38;5;124mf\u001b[39m\u001b[38;5;124m\"\u001b[39m\u001b[38;5;124mFailed to query Rotisserie with error: \u001b[39m\u001b[38;5;132;01m{\u001b[39;00mexc\u001b[38;5;132;01m}\u001b[39;00m\u001b[38;5;124m. If you are seeing \u001b[39m\u001b[38;5;124m\"\u001b[39m\n\u001b[1;32m     55\u001b[0m             \u001b[38;5;124m\"\u001b[39m\u001b[38;5;124mthis error from a shared functions call, please file a help ticket \u001b[39m\u001b[38;5;124m\"\u001b[39m\n\u001b[1;32m     56\u001b[0m             \u001b[38;5;124m\"\u001b[39m\u001b[38;5;124mwith Central Computation. Request details: \u001b[39m\u001b[38;5;124m\"\u001b[39m\n\u001b[1;32m     57\u001b[0m             \u001b[38;5;124mf\u001b[39m\u001b[38;5;124m\"\u001b[39m\u001b[38;5;132;01m{\u001b[39;00mexc\u001b[38;5;241m.\u001b[39mrequest\u001b[38;5;241m.\u001b[39mmethod\u001b[38;5;132;01m}\u001b[39;00m\u001b[38;5;124m \u001b[39m\u001b[38;5;132;01m{\u001b[39;00m\u001b[38;5;28mstr\u001b[39m(exc\u001b[38;5;241m.\u001b[39mrequest\u001b[38;5;241m.\u001b[39murl)\u001b[38;5;132;01m}\u001b[39;00m\u001b[38;5;124m\"\u001b[39m\n\u001b[1;32m     58\u001b[0m         )\n",
      "File \u001b[0;32m~/.conda/envs/vivarium_nih_us_cvd/lib/python3.8/site-packages/rotisserie/lib/client.py:364\u001b[0m, in \u001b[0;36mRotisserie.get_mapped_release\u001b[0;34m(self, rotation_context, gbd_type, gbd_id, release_id)\u001b[0m\n\u001b[1;32m    362\u001b[0m         \u001b[38;5;28;01mraise\u001b[39;00m exceptions\u001b[38;5;241m.\u001b[39mRotisserieNotFoundError(message)\n\u001b[1;32m    363\u001b[0m \u001b[38;5;28;01melif\u001b[39;00m response\u001b[38;5;241m.\u001b[39mstatus_code \u001b[38;5;241m!=\u001b[39m \u001b[38;5;241m200\u001b[39m:\n\u001b[0;32m--> 364\u001b[0m     \u001b[43mexceptions\u001b[49m\u001b[38;5;241;43m.\u001b[39;49m\u001b[43mraise_on_error_status\u001b[49m\u001b[43m(\u001b[49m\u001b[43mresponse\u001b[49m\u001b[43m)\u001b[49m\n\u001b[1;32m    365\u001b[0m \u001b[38;5;28;01mreturn\u001b[39;00m models\u001b[38;5;241m.\u001b[39mGetMappedReleaseResponse\u001b[38;5;241m.\u001b[39mparse_raw(response\u001b[38;5;241m.\u001b[39mcontent)\u001b[38;5;241m.\u001b[39mmapped_release_id\n",
      "File \u001b[0;32m~/.conda/envs/vivarium_nih_us_cvd/lib/python3.8/site-packages/rotisserie/lib/exceptions.py:66\u001b[0m, in \u001b[0;36mraise_on_error_status\u001b[0;34m(response)\u001b[0m\n\u001b[1;32m     64\u001b[0m exc_class \u001b[38;5;241m=\u001b[39m RotisserieClientError \u001b[38;5;28;01mif\u001b[39;00m \u001b[38;5;241m400\u001b[39m \u001b[38;5;241m<\u001b[39m\u001b[38;5;241m=\u001b[39m status_code \u001b[38;5;241m<\u001b[39m\u001b[38;5;241m=\u001b[39m \u001b[38;5;241m499\u001b[39m \u001b[38;5;28;01melse\u001b[39;00m RotisserieServerError\n\u001b[1;32m     65\u001b[0m message_text \u001b[38;5;241m=\u001b[39m \u001b[38;5;124mf\u001b[39m\u001b[38;5;124m\"\u001b[39m\u001b[38;5;124m Server sent additional message \u001b[39m\u001b[38;5;132;01m{\u001b[39;00mmessage\u001b[38;5;132;01m}\u001b[39;00m\u001b[38;5;124m.\u001b[39m\u001b[38;5;124m\"\u001b[39m \u001b[38;5;28;01mif\u001b[39;00m message \u001b[38;5;28;01melse\u001b[39;00m \u001b[38;5;124m\"\u001b[39m\u001b[38;5;124m\"\u001b[39m\n\u001b[0;32m---> 66\u001b[0m \u001b[38;5;28;01mraise\u001b[39;00m exc_class(\n\u001b[1;32m     67\u001b[0m     \u001b[38;5;124mf\u001b[39m\u001b[38;5;124m\"\u001b[39m\u001b[38;5;124mFailed to query Rotisserie with status code \u001b[39m\u001b[38;5;132;01m{\u001b[39;00mstatus_code\u001b[38;5;132;01m}\u001b[39;00m\u001b[38;5;124m and reason phrase \u001b[39m\u001b[38;5;124m\"\u001b[39m\n\u001b[1;32m     68\u001b[0m     \u001b[38;5;124mf\u001b[39m\u001b[38;5;124m\"\u001b[39m\u001b[38;5;132;01m{\u001b[39;00mreason_phrase\u001b[38;5;132;01m}\u001b[39;00m\u001b[38;5;124m.\u001b[39m\u001b[38;5;132;01m{\u001b[39;00mmessage_text\u001b[38;5;132;01m}\u001b[39;00m\u001b[38;5;124m If you are seeing this error from a shared \u001b[39m\u001b[38;5;124m\"\u001b[39m\n\u001b[1;32m     69\u001b[0m     \u001b[38;5;124m\"\u001b[39m\u001b[38;5;124mfunctions call, please file a help ticket with Central Computation\u001b[39m\u001b[38;5;124m\"\u001b[39m\n\u001b[1;32m     70\u001b[0m )\n",
      "\u001b[0;31mRotisserieServerError\u001b[0m: Failed to query Rotisserie with status code 500 and reason phrase Internal Server Error. Server sent additional message Internal server error. If you are seeing this error from a shared functions call, please file a help ticket with Central Computation"
     ]
    }
   ],
   "source": [
    "gbd_hf_inc = get_draws(release_id=6,\n",
    "         year_id=2019,\n",
    "         sex_id=[1,2],\n",
    "         location_id=523,\n",
    "         age_group_id=[10,11,12,13,14,15,16,17,18,19,20,30,31,32],\n",
    "         gbd_id_type='modelable_entity_id',\n",
    "         gbd_id=2412,\n",
    "         measure_id = 6,\n",
    "         metric_id = 3,\n",
    "         source='epi')"
   ]
  },
  {
   "cell_type": "code",
   "execution_count": null,
   "id": "9562dc5e-95b4-4378-9ed5-d34fbb4b84f6",
   "metadata": {},
   "outputs": [],
   "source": [
    "gbd_hf_inc"
   ]
  },
  {
   "cell_type": "code",
   "execution_count": 4,
   "id": "3b2832f8-dab4-4d50-adac-858c99c968fc",
   "metadata": {},
   "outputs": [],
   "source": [
    "from vivarium import Artifact\n",
    "\n",
    "#explore the artifact data (note age groups)\n",
    "art = Artifact('/mnt/team/simulation_science/costeffectiveness/artifacts/vivarium_nih_us_cvd/alabama.hdf', filter_terms=['year_start == 2019', 'age_start >=  25'])"
   ]
  },
  {
   "cell_type": "code",
   "execution_count": 5,
   "id": "2890d330-128b-4200-aded-1deb6d061f95",
   "metadata": {},
   "outputs": [
    {
     "data": {
      "text/plain": [
       "['metadata.keyspace',\n",
       " 'metadata.locations',\n",
       " 'population.location',\n",
       " 'population.structure',\n",
       " 'population.age_bins',\n",
       " 'population.demographic_dimensions',\n",
       " 'population.theoretical_minimum_risk_life_expectancy',\n",
       " 'cause.all_causes.cause_specific_mortality_rate',\n",
       " 'sequela.acute_ischemic_stroke.prevalence',\n",
       " 'sequela.chronic_ischemic_stroke.prevalence',\n",
       " 'cause.ischemic_stroke.incidence_rate',\n",
       " 'sequela.acute_ischemic_stroke.disability_weight',\n",
       " 'sequela.chronic_ischemic_stroke.disability_weight',\n",
       " 'sequela.acute_ischemic_stroke.excess_mortality_rate',\n",
       " 'sequela.chronic_ischemic_stroke.excess_mortality_rate',\n",
       " 'cause.ischemic_stroke.cause_specific_mortality_rate',\n",
       " 'cause.ischemic_stroke.restrictions',\n",
       " 'cause.acute_myocardial_infarction.prevalence',\n",
       " 'cause.post_myocardial_infarction.prevalence',\n",
       " 'cause.myocardial_infarction.incidence_rate',\n",
       " 'cause.acute_myocardial_infarction.disability_weight',\n",
       " 'cause.post_myocardial_infarction.disability_weight',\n",
       " 'cause.acute_myocardial_infarction.excess_mortality_rate',\n",
       " 'cause.post_myocardial_infarction.excess_mortality_rate',\n",
       " 'cause.myocardial_infarction.cause_specific_mortality_rate',\n",
       " 'cause.myocardial_infarction.restrictions',\n",
       " 'risk_factor.high_ldl_cholesterol.distribution',\n",
       " 'risk_factor.high_ldl_cholesterol.tmred',\n",
       " 'risk_factor.high_ldl_cholesterol.relative_risk_scalar',\n",
       " 'risk_factor.high_systolic_blood_pressure.distribution',\n",
       " 'risk_factor.high_systolic_blood_pressure.tmred',\n",
       " 'cause.angina.prevalence',\n",
       " 'cause.angina.incidence_rate',\n",
       " 'cause.angina.disability_weight',\n",
       " 'cause.angina.excess_mortality_rate',\n",
       " 'cause.angina.restrictions',\n",
       " 'risk_factor.high_ldl_cholesterol.relative_risk',\n",
       " 'risk_factor.high_ldl_cholesterol.population_attributable_fraction',\n",
       " 'risk_factor.high_systolic_blood_pressure.population_attributable_fraction',\n",
       " 'risk_factor.high_systolic_blood_pressure.relative_risk_scalar',\n",
       " 'cause.heart_failure_from_ihd.prevalence',\n",
       " 'cause.heart_failure_from_ihd.disability_weight',\n",
       " 'cause.heart_failure_from_ihd.excess_mortality_rate',\n",
       " 'cause.heart_failure_from_ihd.cause_specific_mortality_rate',\n",
       " 'cause.heart_failure_from_ihd.restrictions',\n",
       " 'healthcare_entity.outpatient_visits.outpatient_envelope',\n",
       " 'cause.angina.cause_specific_mortality_rate',\n",
       " 'risk_factor.high_ldl_cholesterol.medication_effect',\n",
       " 'risk_factor.ldlc_medication_adherence.distribution',\n",
       " 'risk_factor.ldlc_medication_adherence.exposure',\n",
       " 'risk_factor.sbp_medication_adherence.distribution',\n",
       " 'risk_factor.sbp_medication_adherence.exposure',\n",
       " 'risk_factor.outreach.distribution',\n",
       " 'risk_factor.high_body_mass_index_in_adults.distribution',\n",
       " 'risk_factor.high_body_mass_index_in_adults.tmred',\n",
       " 'risk_factor.high_body_mass_index_in_adults.relative_risk_scalar',\n",
       " 'risk_factor.polypill.distribution',\n",
       " 'risk_factor.high_fasting_plasma_glucose.distribution',\n",
       " 'risk_factor.high_fasting_plasma_glucose.exposure',\n",
       " 'risk_factor.high_fasting_plasma_glucose.exposure_distribution_weights',\n",
       " 'risk_factor.high_fasting_plasma_glucose.relative_risk',\n",
       " 'risk_factor.high_fasting_plasma_glucose.population_attributable_fraction',\n",
       " 'risk_factor.high_fasting_plasma_glucose.tmred',\n",
       " 'risk_factor.high_fasting_plasma_glucose.relative_risk_scalar',\n",
       " 'cause.acute_myocardial_infarction_and_heart_failure.prevalence',\n",
       " 'cause.heart_failure_from_ischemic_heart_disease.prevalence',\n",
       " 'cause.heart_failure_residual.prevalence',\n",
       " 'cause.acute_myocardial_infarction.incidence_rate',\n",
       " 'cause.heart_failure_from_ischemic_heart_disease.incidence_rate',\n",
       " 'cause.heart_failure_residual.incidence_rate',\n",
       " 'cause.heart_failure_from_ischemic_heart_disease.disability_weight',\n",
       " 'cause.heart_failure_residual.disability_weight',\n",
       " 'cause.heart_failure.excess_mortality_rate',\n",
       " 'cause.ischemic_heart_disease_and_heart_failure.restrictions',\n",
       " 'cause.ischemic_heart_disease_and_heart_failure.cause_specific_mortality_rate',\n",
       " 'risk_factor.high_systolic_blood_pressure.relative_risk',\n",
       " 'risk_factor.categorical_high_systolic_blood_pressure.relative_risk',\n",
       " 'risk_factor.high_body_mass_index_in_adults.relative_risk',\n",
       " 'risk_factor.categorical_high_systolic_blood_pressure.distribution',\n",
       " 'risk_factor.categorical_high_systolic_blood_pressure.population_attributable_fraction',\n",
       " 'risk_factor.high_body_mass_index_in_adults.population_attributable_fraction',\n",
       " 'risk_factor.high_body_mass_index_in_adults.exposure',\n",
       " 'risk_factor.high_body_mass_index_in_adults.exposure_standard_deviation',\n",
       " 'risk_factor.high_body_mass_index_in_adults.exposure_distribution_weights',\n",
       " 'risk_factor.high_ldl_cholesterol.exposure',\n",
       " 'risk_factor.high_ldl_cholesterol.exposure_standard_deviation',\n",
       " 'risk_factor.high_ldl_cholesterol.exposure_distribution_weights',\n",
       " 'risk_factor.high_systolic_blood_pressure.exposure',\n",
       " 'risk_factor.high_systolic_blood_pressure.exposure_standard_deviation',\n",
       " 'risk_factor.high_systolic_blood_pressure.exposure_distribution_weights',\n",
       " 'risk_factor.high_fasting_plasma_glucose.exposure_standard_deviation']"
      ]
     },
     "execution_count": 5,
     "metadata": {},
     "output_type": "execute_result"
    }
   ],
   "source": [
    "art.keys"
   ]
  },
  {
   "cell_type": "code",
   "execution_count": 47,
   "id": "3b163f4c-4ad1-4491-9d41-8f0e5c2e2294",
   "metadata": {},
   "outputs": [],
   "source": [
    "def load_artifact_data(word:str, cause:str, measure:str):\n",
    "    master_art_data = pd.DataFrame()\n",
    "    for i in ['alabama']: #in case there are other countries\n",
    "        \n",
    "        # grab main artifact object\n",
    "        art = Artifact('/mnt/team/simulation_science/costeffectiveness/artifacts/vivarium_nih_us_cvd/' + i + '.hdf', \n",
    "                   filter_terms=['year_start == 2019', 'age_start >=  25']) # << MIGHT WANT TO CHANGE THESE TERMS\n",
    "        \n",
    "        # load requested measure\n",
    "        data = art.load(word + '.' + cause + '.' + measure)\n",
    "        #data = data[['draw_29','draw_232','draw_357','draw_394','draw_602','draw_629','draw_650','draw_680','draw_829','draw_949']]\n",
    "\n",
    "        # collapse to desired percentiles\n",
    "        data = data.apply(pd.DataFrame.describe, percentiles=[0.025, 0.25,0.5,0.75, 0.975], axis=1).filter(['max', 'mean', '50%', '25%','2.5%','75%', '97.5%']).reset_index()\n",
    "        \n",
    "        # formatting (may want to format age as well)\n",
    "        data['location'] = i.capitalize()\n",
    "        data['measure'] = measure\n",
    "        data['sex'] = np.where(data['sex'] == 'Female', 'female', 'male')\n",
    "    \n",
    "   \n",
    "        master_art_data = master_art_data.append(data)\n",
    "        \n",
    "    return master_art_data"
   ]
  },
  {
   "cell_type": "code",
   "execution_count": 77,
   "id": "38b44d82-1992-4137-9721-349ad3c99d8d",
   "metadata": {},
   "outputs": [
    {
     "name": "stderr",
     "output_type": "stream",
     "text": [
      "/tmp/ipykernel_397086/3175792946.py:22: FutureWarning: The frame.append method is deprecated and will be removed from pandas in a future version. Use pandas.concat instead.\n",
      "  master_art_data = master_art_data.append(data)\n"
     ]
    },
    {
     "data": {
      "text/plain": [
       "1.5563203199999995"
      ]
     },
     "execution_count": 77,
     "metadata": {},
     "output_type": "execute_result"
    }
   ],
   "source": [
    "bmi_art = load_artifact_data('risk_factor', 'high_body_mass_index_in_adults', 'relative_risk')\n",
    "bmi_mi = bmi_art.loc[bmi_art.affected_entity == 'acute_myocardial_infarction']\n",
    "bmi_mi['75%'].mean()"
   ]
  },
  {
   "cell_type": "code",
   "execution_count": 76,
   "id": "5253d6d1-eb8b-4664-89eb-612bb8c75d71",
   "metadata": {},
   "outputs": [
    {
     "name": "stderr",
     "output_type": "stream",
     "text": [
      "/tmp/ipykernel_397086/3175792946.py:22: FutureWarning: The frame.append method is deprecated and will be removed from pandas in a future version. Use pandas.concat instead.\n",
      "  master_art_data = master_art_data.append(data)\n"
     ]
    },
    {
     "data": {
      "text/plain": [
       "1.1470738937811287"
      ]
     },
     "execution_count": 76,
     "metadata": {},
     "output_type": "execute_result"
    }
   ],
   "source": [
    "bmi_art = load_artifact_data('risk_factor', 'high_body_mass_index_in_adults', 'relative_risk')\n",
    "bmi_mi = bmi_art.loc[bmi_art.affected_entity == 'heart_failure_residual']\n",
    "bmi_mi['75%'].mean()"
   ]
  },
  {
   "cell_type": "code",
   "execution_count": 75,
   "id": "1c6a08d2-d4eb-408d-8550-86de3b5cae62",
   "metadata": {},
   "outputs": [
    {
     "name": "stderr",
     "output_type": "stream",
     "text": [
      "/tmp/ipykernel_397086/3175792946.py:22: FutureWarning: The frame.append method is deprecated and will be removed from pandas in a future version. Use pandas.concat instead.\n",
      "  master_art_data = master_art_data.append(data)\n"
     ]
    },
    {
     "data": {
      "text/plain": [
       "1.5211733283333333"
      ]
     },
     "execution_count": 75,
     "metadata": {},
     "output_type": "execute_result"
    }
   ],
   "source": [
    "sbp_mi = load_artifact_data('risk_factor', 'high_systolic_blood_pressure', 'relative_risk')\n",
    "sbp_mi = sbp_mi.loc[sbp_mi.affected_entity == 'acute_myocardial_infarction']\n",
    "sbp_mi['75%'].mean()"
   ]
  },
  {
   "cell_type": "code",
   "execution_count": 74,
   "id": "cdb44a21-a718-4df9-ada3-8f1203bb949e",
   "metadata": {},
   "outputs": [
    {
     "name": "stderr",
     "output_type": "stream",
     "text": [
      "/tmp/ipykernel_397086/3175792946.py:22: FutureWarning: The frame.append method is deprecated and will be removed from pandas in a future version. Use pandas.concat instead.\n",
      "  master_art_data = master_art_data.append(data)\n"
     ]
    },
    {
     "data": {
      "text/plain": [
       "1.2601700083333331"
      ]
     },
     "execution_count": 74,
     "metadata": {},
     "output_type": "execute_result"
    }
   ],
   "source": [
    "fpg_mi = load_artifact_data('risk_factor', 'high_fasting_plasma_glucose', 'relative_risk')\n",
    "fpg_mi = fpg_mi.loc[fpg_mi.affected_entity == 'acute_myocardial_infarction']\n",
    "fpg_mi['75%'].mean()"
   ]
  },
  {
   "cell_type": "code",
   "execution_count": 73,
   "id": "7fd5e0fb-d1cf-40f8-96ce-a73d2ab7b94d",
   "metadata": {},
   "outputs": [
    {
     "name": "stderr",
     "output_type": "stream",
     "text": [
      "/tmp/ipykernel_397086/3175792946.py:22: FutureWarning: The frame.append method is deprecated and will be removed from pandas in a future version. Use pandas.concat instead.\n",
      "  master_art_data = master_art_data.append(data)\n"
     ]
    },
    {
     "data": {
      "text/plain": [
       "1.6016933266666669"
      ]
     },
     "execution_count": 73,
     "metadata": {},
     "output_type": "execute_result"
    }
   ],
   "source": [
    "ldl_mi = load_artifact_data('risk_factor', 'high_ldl_cholesterol', 'relative_risk')\n",
    "ldl_mi = ldl_mi.loc[ldl_mi.affected_entity == 'acute_myocardial_infarction']\n",
    "ldl_mi['75%'].mean()"
   ]
  },
  {
   "cell_type": "code",
   "execution_count": 72,
   "id": "e9d7cf69-b6f9-4733-92e1-9abe7280b977",
   "metadata": {},
   "outputs": [
    {
     "name": "stderr",
     "output_type": "stream",
     "text": [
      "/tmp/ipykernel_397086/3175792946.py:22: FutureWarning: The frame.append method is deprecated and will be removed from pandas in a future version. Use pandas.concat instead.\n",
      "  master_art_data = master_art_data.append(data)\n"
     ]
    },
    {
     "data": {
      "text/plain": [
       "0.011568670345352122"
      ]
     },
     "execution_count": 72,
     "metadata": {},
     "output_type": "execute_result"
    }
   ],
   "source": [
    "mi_inc = load_artifact_data('cause', 'acute_myocardial_infarction', 'incidence_rate')\n",
    "mi_inc['75%'].mean()"
   ]
  },
  {
   "cell_type": "code",
   "execution_count": 71,
   "id": "c1200ef7-2025-4dd3-b87f-7847298877cb",
   "metadata": {},
   "outputs": [
    {
     "name": "stderr",
     "output_type": "stream",
     "text": [
      "/tmp/ipykernel_397086/3175792946.py:22: FutureWarning: The frame.append method is deprecated and will be removed from pandas in a future version. Use pandas.concat instead.\n",
      "  master_art_data = master_art_data.append(data)\n"
     ]
    },
    {
     "data": {
      "text/plain": [
       "0.021798577052278913"
      ]
     },
     "execution_count": 71,
     "metadata": {},
     "output_type": "execute_result"
    }
   ],
   "source": [
    "mi_inc = load_artifact_data('cause', 'heart_failure_residual', 'incidence_rate')\n",
    "mi_inc['75%'].mean()"
   ]
  },
  {
   "cell_type": "code",
   "execution_count": 70,
   "id": "dbe9974b-7850-4d80-986b-5ab899038f29",
   "metadata": {},
   "outputs": [
    {
     "name": "stderr",
     "output_type": "stream",
     "text": [
      "/tmp/ipykernel_397086/3175792946.py:22: FutureWarning: The frame.append method is deprecated and will be removed from pandas in a future version. Use pandas.concat instead.\n",
      "  master_art_data = master_art_data.append(data)\n"
     ]
    },
    {
     "data": {
      "text/plain": [
       "0.027573587812011437"
      ]
     },
     "execution_count": 70,
     "metadata": {},
     "output_type": "execute_result"
    }
   ],
   "source": [
    "mi_inc = load_artifact_data('cause', 'heart_failure_from_ischemic_heart_disease', 'incidence_rate')\n",
    "mi_inc['75%'].mean()"
   ]
  },
  {
   "cell_type": "code",
   "execution_count": 69,
   "id": "b8c3abd8-c1e7-4648-bc61-5aaf362ed0c1",
   "metadata": {},
   "outputs": [
    {
     "name": "stderr",
     "output_type": "stream",
     "text": [
      "/tmp/ipykernel_397086/3175792946.py:22: FutureWarning: The frame.append method is deprecated and will be removed from pandas in a future version. Use pandas.concat instead.\n",
      "  master_art_data = master_art_data.append(data)\n"
     ]
    },
    {
     "data": {
      "text/plain": [
       "0.47911227260375217"
      ]
     },
     "execution_count": 69,
     "metadata": {},
     "output_type": "execute_result"
    }
   ],
   "source": [
    "ldl_mi = load_artifact_data('risk_factor', 'high_ldl_cholesterol', 'population_attributable_fraction')\n",
    "ldl_mi = ldl_mi.loc[ldl_mi.affected_entity == 'acute_myocardial_infarction']\n",
    "ldl_mi['25%'].mean()"
   ]
  },
  {
   "cell_type": "code",
   "execution_count": 68,
   "id": "c9070ead-7131-4c6f-96cb-f679991b3ab3",
   "metadata": {},
   "outputs": [
    {
     "name": "stderr",
     "output_type": "stream",
     "text": [
      "/tmp/ipykernel_397086/3175792946.py:22: FutureWarning: The frame.append method is deprecated and will be removed from pandas in a future version. Use pandas.concat instead.\n",
      "  master_art_data = master_art_data.append(data)\n"
     ]
    },
    {
     "data": {
      "text/plain": [
       "0.20351694068940981"
      ]
     },
     "execution_count": 68,
     "metadata": {},
     "output_type": "execute_result"
    }
   ],
   "source": [
    "ldl_mi = load_artifact_data('risk_factor', 'high_fasting_plasma_glucose', 'population_attributable_fraction')\n",
    "ldl_mi = ldl_mi.loc[ldl_mi.affected_entity == 'acute_myocardial_infarction']\n",
    "ldl_mi['25%'].mean()"
   ]
  },
  {
   "cell_type": "code",
   "execution_count": 67,
   "id": "a587a9e9-d2db-4fa1-9b70-7983d341bf3f",
   "metadata": {},
   "outputs": [
    {
     "name": "stderr",
     "output_type": "stream",
     "text": [
      "/tmp/ipykernel_397086/3175792946.py:22: FutureWarning: The frame.append method is deprecated and will be removed from pandas in a future version. Use pandas.concat instead.\n",
      "  master_art_data = master_art_data.append(data)\n"
     ]
    },
    {
     "data": {
      "text/plain": [
       "0.36438044071065645"
      ]
     },
     "execution_count": 67,
     "metadata": {},
     "output_type": "execute_result"
    }
   ],
   "source": [
    "ldl_mi = load_artifact_data('risk_factor', 'high_systolic_blood_pressure', 'population_attributable_fraction')\n",
    "ldl_mi = ldl_mi.loc[ldl_mi.affected_entity == 'acute_myocardial_infarction']\n",
    "ldl_mi['25%'].mean()"
   ]
  },
  {
   "cell_type": "code",
   "execution_count": 38,
   "id": "f13f40a4-4647-40d2-88fc-dba26ee43f74",
   "metadata": {},
   "outputs": [
    {
     "name": "stderr",
     "output_type": "stream",
     "text": [
      "/tmp/ipykernel_397086/517227218.py:22: FutureWarning: The frame.append method is deprecated and will be removed from pandas in a future version. Use pandas.concat instead.\n",
      "  master_art_data = master_art_data.append(data)\n"
     ]
    },
    {
     "data": {
      "text/plain": [
       "array(['acute_myocardial_infarction',\n",
       "       'post_myocardial_infarction_to_acute_myocardial_infarction',\n",
       "       'angina', 'acute_ischemic_stroke',\n",
       "       'chronic_ischemic_stroke_to_acute_ischemic_stroke'], dtype=object)"
      ]
     },
     "execution_count": 38,
     "metadata": {},
     "output_type": "execute_result"
    }
   ],
   "source": [
    "ldl_mi = load_artifact_data('risk_factor', 'high_systolic_blood_pressure', 'population_attributable_fraction')\n",
    "#ldl_mi = ldl_mi.loc[ldl_mi.affected_entity == 'heart_failure_residual']\n",
    "ldl_mi.affected_entity.unique()#['2.5%'].nsmallest(20)"
   ]
  },
  {
   "cell_type": "code",
   "execution_count": 66,
   "id": "fca3167f-2fd0-4f76-aa8a-8507a7091c44",
   "metadata": {},
   "outputs": [
    {
     "name": "stderr",
     "output_type": "stream",
     "text": [
      "/tmp/ipykernel_397086/3175792946.py:22: FutureWarning: The frame.append method is deprecated and will be removed from pandas in a future version. Use pandas.concat instead.\n",
      "  master_art_data = master_art_data.append(data)\n"
     ]
    },
    {
     "data": {
      "text/plain": [
       "0.1435439822711245"
      ]
     },
     "execution_count": 66,
     "metadata": {},
     "output_type": "execute_result"
    }
   ],
   "source": [
    "ldl_mi = load_artifact_data('risk_factor', 'high_body_mass_index_in_adults', 'population_attributable_fraction')\n",
    "ldl_mi = ldl_mi.loc[ldl_mi.affected_entity == 'heart_failure_from_ischemic_heart_disease']\n",
    "ldl_mi['25%'].mean()"
   ]
  },
  {
   "cell_type": "code",
   "execution_count": 65,
   "id": "d86b8f9b-b089-4702-9858-f7d4a3b1cb89",
   "metadata": {},
   "outputs": [
    {
     "name": "stderr",
     "output_type": "stream",
     "text": [
      "/tmp/ipykernel_397086/3175792946.py:22: FutureWarning: The frame.append method is deprecated and will be removed from pandas in a future version. Use pandas.concat instead.\n",
      "  master_art_data = master_art_data.append(data)\n"
     ]
    },
    {
     "data": {
      "text/plain": [
       "0.351730853591245"
      ]
     },
     "execution_count": 65,
     "metadata": {},
     "output_type": "execute_result"
    }
   ],
   "source": [
    "ldl_mi = load_artifact_data('risk_factor', 'high_body_mass_index_in_adults', 'population_attributable_fraction')\n",
    "ldl_mi = ldl_mi.loc[ldl_mi.affected_entity == 'acute_myocardial_infarction']\n",
    "ldl_mi['25%'].mean()"
   ]
  },
  {
   "cell_type": "code",
   "execution_count": null,
   "id": "262eeb24-518c-4076-911f-7d807aace2d6",
   "metadata": {},
   "outputs": [],
   "source": []
  }
 ],
 "metadata": {
  "kernelspec": {
   "display_name": "Python 3 (ipykernel)",
   "language": "python",
   "name": "python3"
  },
  "language_info": {
   "codemirror_mode": {
    "name": "ipython",
    "version": 3
   },
   "file_extension": ".py",
   "mimetype": "text/x-python",
   "name": "python",
   "nbconvert_exporter": "python",
   "pygments_lexer": "ipython3",
   "version": "3.8.13"
  }
 },
 "nbformat": 4,
 "nbformat_minor": 5
}
