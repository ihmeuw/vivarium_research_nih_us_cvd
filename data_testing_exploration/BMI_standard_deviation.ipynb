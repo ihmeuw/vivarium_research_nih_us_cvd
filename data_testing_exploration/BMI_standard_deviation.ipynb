{
 "cells": [
  {
   "cell_type": "markdown",
   "id": "d1355498-3480-4c35-8cc6-0c0a25206402",
   "metadata": {},
   "source": [
    "## BMI Standard Deviation \n",
    "\n",
    "The purpose of this notebook is to pull in the BMI standard deviation values and then create a function that replaces values which are over a certain limit"
   ]
  },
  {
   "cell_type": "markdown",
   "id": "c83d6c03-6435-4571-ac4a-44a66e6bcc6b",
   "metadata": {},
   "source": [
    "### Pull in the 2019 BMI standard deviation values \n",
    "\n",
    "Note that the 2021 values are not terribly different and this code should be able to be used with just changing to release_id 9"
   ]
  },
  {
   "cell_type": "code",
   "execution_count": 1,
   "id": "ab2098b7-a1ed-4c29-b045-5720fa1c3039",
   "metadata": {},
   "outputs": [],
   "source": [
    "import pandas as pd, numpy as np, os\n",
    "from db_queries import get_ids, get_outputs, get_location_metadata, get_population, get_covariate_estimates\n",
    "from get_draws.api import get_draws\n",
    "import matplotlib.pyplot as plt\n",
    "import random"
   ]
  },
  {
   "cell_type": "code",
   "execution_count": 4,
   "id": "26c8b8d1-0025-4261-8dc8-839313c3e69f",
   "metadata": {},
   "outputs": [],
   "source": [
    "bmi_std = get_draws(release_id=6,\n",
    "         year_id=2019,\n",
    "         sex_id=[1,2],\n",
    "         location_id=523,\n",
    "         age_group_id=[10,11,12,13,14,15,16,17,18,19,20,30,31,32],\n",
    "         gbd_id_type='modelable_entity_id',\n",
    "         gbd_id=18706,\n",
    "         source='epi')"
   ]
  },
  {
   "cell_type": "code",
   "execution_count": 6,
   "id": "a950067c-373f-4790-838a-d3c80ba6a782",
   "metadata": {},
   "outputs": [
    {
     "data": {
      "text/html": [
       "<div>\n",
       "<style scoped>\n",
       "    .dataframe tbody tr th:only-of-type {\n",
       "        vertical-align: middle;\n",
       "    }\n",
       "\n",
       "    .dataframe tbody tr th {\n",
       "        vertical-align: top;\n",
       "    }\n",
       "\n",
       "    .dataframe thead th {\n",
       "        text-align: right;\n",
       "    }\n",
       "</style>\n",
       "<table border=\"1\" class=\"dataframe\">\n",
       "  <thead>\n",
       "    <tr style=\"text-align: right;\">\n",
       "      <th>modelable_entity_id</th>\n",
       "      <th>sex_id</th>\n",
       "      <th>age_group_id</th>\n",
       "      <th>draw</th>\n",
       "      <th>standard_deviation</th>\n",
       "    </tr>\n",
       "  </thead>\n",
       "  <tbody>\n",
       "    <tr>\n",
       "      <th>0</th>\n",
       "      <td>1</td>\n",
       "      <td>10</td>\n",
       "      <td>draw_0</td>\n",
       "      <td>9.591207</td>\n",
       "    </tr>\n",
       "    <tr>\n",
       "      <th>1</th>\n",
       "      <td>1</td>\n",
       "      <td>10</td>\n",
       "      <td>draw_1</td>\n",
       "      <td>9.922810</td>\n",
       "    </tr>\n",
       "    <tr>\n",
       "      <th>2</th>\n",
       "      <td>1</td>\n",
       "      <td>10</td>\n",
       "      <td>draw_10</td>\n",
       "      <td>5.695761</td>\n",
       "    </tr>\n",
       "    <tr>\n",
       "      <th>3</th>\n",
       "      <td>1</td>\n",
       "      <td>10</td>\n",
       "      <td>draw_100</td>\n",
       "      <td>9.091147</td>\n",
       "    </tr>\n",
       "    <tr>\n",
       "      <th>4</th>\n",
       "      <td>1</td>\n",
       "      <td>10</td>\n",
       "      <td>draw_101</td>\n",
       "      <td>3.859586</td>\n",
       "    </tr>\n",
       "  </tbody>\n",
       "</table>\n",
       "</div>"
      ],
      "text/plain": [
       "modelable_entity_id  sex_id  age_group_id      draw  standard_deviation\n",
       "0                         1            10    draw_0            9.591207\n",
       "1                         1            10    draw_1            9.922810\n",
       "2                         1            10   draw_10            5.695761\n",
       "3                         1            10  draw_100            9.091147\n",
       "4                         1            10  draw_101            3.859586"
      ]
     },
     "execution_count": 6,
     "metadata": {},
     "output_type": "execute_result"
    }
   ],
   "source": [
    "data = bmi_std.set_index(['sex_id','modelable_entity_id','age_group_id'])\n",
    "data = (data[[c for c in data.columns if 'draw' in c]].stack().reset_index()\n",
    "        .rename(columns={'level_3':'draw',0:'value'}))\n",
    "data = (data.pivot_table(index=['sex_id','age_group_id','draw'], columns='modelable_entity_id', values='value')\n",
    "        .reset_index())\n",
    "data = data.rename(columns={18706:'standard_deviation'})\n",
    "data.head()"
   ]
  },
  {
   "cell_type": "code",
   "execution_count": 4,
   "id": "bcb07061-17c2-469b-ac28-4b7c8c971b9d",
   "metadata": {},
   "outputs": [
    {
     "data": {
      "text/plain": [
       "Text(0.5, 1.0, 'Standard Deviation by Age Group')"
      ]
     },
     "execution_count": 4,
     "metadata": {},
     "output_type": "execute_result"
    },
    {
     "data": {
      "image/png": "[encoded data removed]",
      "text/plain": [
       "<Figure size 432x288 with 1 Axes>"
      ]
     },
     "metadata": {
      "needs_background": "light"
     },
     "output_type": "display_data"
    }
   ],
   "source": [
    "plt.scatter(data.age_group_id, data.standard_deviation, alpha=0.3)\n",
    "plt.xlabel(\"Age Group ID\")\n",
    "plt.ylabel(\"Standard Deviation\")\n",
    "plt.title(\"Standard Deviation by Age Group\") "
   ]
  },
  {
   "cell_type": "code",
   "execution_count": 5,
   "id": "17508d66-2783-43ad-b2e1-e2c15fe2d2cd",
   "metadata": {},
   "outputs": [
    {
     "data": {
      "text/plain": [
       "Text(0, 0.5, 'Counts')"
      ]
     },
     "execution_count": 5,
     "metadata": {},
     "output_type": "execute_result"
    },
    {
     "data": {
      "image/png": "[encoded data removed]",
      "text/plain": [
       "<Figure size 432x288 with 1 Axes>"
      ]
     },
     "metadata": {
      "needs_background": "light"
     },
     "output_type": "display_data"
    }
   ],
   "source": [
    "plt.hist(data.standard_deviation, bins=20)\n",
    "plt.xlabel(\"Standard Deviation\")\n",
    "plt.ylabel(\"Counts\")"
   ]
  },
  {
   "cell_type": "markdown",
   "id": "5c78d16b-d316-423e-9f04-affd92ae98f6",
   "metadata": {},
   "source": [
    "As we can see in the graphs above, there are very few values that are very high and there is a significant gap without any values between ~15 and ~25. Therefore, we will start by removing all standard deviations over 15 and replacing them with the average of the other standard deviations."
   ]
  },
  {
   "cell_type": "markdown",
   "id": "40100e91-ffb8-4f12-a291-d672740d99e2",
   "metadata": {},
   "source": [
    "### Replacing Value over 15\n",
    "\n",
    "Start by doing this for a single age/sex group"
   ]
  },
  {
   "cell_type": "code",
   "execution_count": 6,
   "id": "789497f7-0e7d-4c21-ab22-1afb2f24b2a6",
   "metadata": {},
   "outputs": [
    {
     "data": {
      "text/plain": [
       "965"
      ]
     },
     "execution_count": 6,
     "metadata": {},
     "output_type": "execute_result"
    }
   ],
   "source": [
    "bmi_std_2_10 = data.loc[(data.sex_id == 2) & (data.age_group_id == 10)]\n",
    "bmi_std_2_10_reasonable = bmi_std_2_10.standard_deviation.loc[bmi_std_2_10.standard_deviation < 15]\n",
    "len(bmi_std_2_10_reasonable)\n",
    "\n",
    "#So there are 965 of the samples that fall below 15. That means 35 are above 15. So we need to replace the other 35"
   ]
  },
  {
   "cell_type": "code",
   "execution_count": 7,
   "id": "e02d2039-c646-4b26-8039-52bbf9cf0f1a",
   "metadata": {},
   "outputs": [
    {
     "data": {
      "text/plain": [
       "8.944417697692648"
      ]
     },
     "execution_count": 7,
     "metadata": {},
     "output_type": "execute_result"
    }
   ],
   "source": [
    "y = random.sample(bmi_std_2_10_reasonable.tolist(),50)\n",
    "avg = np.mean(y)\n",
    "avg"
   ]
  },
  {
   "cell_type": "code",
   "execution_count": 8,
   "id": "df5fed08-4609-4749-a8bb-59de4b2a945b",
   "metadata": {},
   "outputs": [],
   "source": [
    "for i in range(len(bmi_std_2_10)):\n",
    "    if bmi_std_2_10.standard_deviation.iloc[i] > 15: \n",
    "        y = random.sample(bmi_std_2_10_reasonable.tolist(),50)\n",
    "        avg = np.mean(y)\n",
    "        bmi_std_2_10.standard_deviation.iloc[i] = avg "
   ]
  },
  {
   "cell_type": "code",
   "execution_count": 9,
   "id": "4c2d1f0c-bb8a-4b0d-8fec-bafbe295cb17",
   "metadata": {},
   "outputs": [
    {
     "data": {
      "text/plain": [
       "Text(0, 0.5, 'Counts')"
      ]
     },
     "execution_count": 9,
     "metadata": {},
     "output_type": "execute_result"
    },
    {
     "data": {
      "image/png": "[encoded data removed]",
      "text/plain": [
       "<Figure size 432x288 with 1 Axes>"
      ]
     },
     "metadata": {
      "needs_background": "light"
     },
     "output_type": "display_data"
    }
   ],
   "source": [
    "plt.hist(bmi_std_2_10.standard_deviation, bins=20)\n",
    "plt.xlabel(\"Standard Deviation\")\n",
    "plt.ylabel(\"Counts\")"
   ]
  },
  {
   "cell_type": "markdown",
   "id": "5770f288-3afb-43ac-82d9-91f75b171410",
   "metadata": {},
   "source": [
    "This seemed to work! "
   ]
  },
  {
   "cell_type": "markdown",
   "id": "b4f3272d-3da3-488a-9a35-6b5b05bf057c",
   "metadata": {},
   "source": [
    "### Generalizing the above into something that works for the full dataset"
   ]
  },
  {
   "cell_type": "code",
   "execution_count": 24,
   "id": "802baba1-1304-44d6-a201-8fed73e383f1",
   "metadata": {},
   "outputs": [],
   "source": [
    "new_data = pd.DataFrame()\n",
    "for i in range(3):\n",
    "    for j in range(data.age_group_id.nunique()):\n",
    "        age_group_id = data.age_group_id.unique()[j]\n",
    "        data_current = data.loc[(data.sex_id == i) & (data.age_group_id == age_group_id)]\n",
    "        data_current_reasonable = data_current.standard_deviation.loc[data_current.standard_deviation < 15]\n",
    "        for k in range(len(data_current)):\n",
    "            if data_current.standard_deviation.iloc[k] > 15: \n",
    "                y = random.sample(data_current_reasonable.tolist(),50)\n",
    "                avg = np.mean(y)\n",
    "                data_current.standard_deviation.iloc[k] = avg \n",
    "        new_data = pd.concat([new_data,data_current])"
   ]
  },
  {
   "cell_type": "code",
   "execution_count": 11,
   "id": "6963daec-9576-4c5b-ac43-0b588d998c14",
   "metadata": {},
   "outputs": [
    {
     "data": {
      "text/plain": [
       "Text(0.5, 1.0, 'Standard Deviation by Age Group')"
      ]
     },
     "execution_count": 11,
     "metadata": {},
     "output_type": "execute_result"
    },
    {
     "data": {
      "image/png": "[encoded data removed]",
      "text/plain": [
       "<Figure size 432x288 with 1 Axes>"
      ]
     },
     "metadata": {
      "needs_background": "light"
     },
     "output_type": "display_data"
    }
   ],
   "source": [
    "plt.scatter(new_data.age_group_id, new_data.standard_deviation, alpha=0.3)\n",
    "plt.xlabel(\"Age Group ID\")\n",
    "plt.ylabel(\"Standard Deviation\")\n",
    "plt.title(\"Standard Deviation by Age Group\") "
   ]
  },
  {
   "cell_type": "code",
   "execution_count": 12,
   "id": "3deb1bad-150d-4d73-b8c8-e83ef3efb0b6",
   "metadata": {},
   "outputs": [
    {
     "data": {
      "text/plain": [
       "Text(0, 0.5, 'Counts')"
      ]
     },
     "execution_count": 12,
     "metadata": {},
     "output_type": "execute_result"
    },
    {
     "data": {
      "image/png": "[encoded data removed]",
      "text/plain": [
       "<Figure size 432x288 with 1 Axes>"
      ]
     },
     "metadata": {
      "needs_background": "light"
     },
     "output_type": "display_data"
    }
   ],
   "source": [
    "plt.hist(bmi_std_2_10.standard_deviation, bins=20)\n",
    "plt.xlabel(\"Standard Deviation\")\n",
    "plt.ylabel(\"Counts\")"
   ]
  },
  {
   "cell_type": "code",
   "execution_count": 13,
   "id": "a2d2496a-edb0-435f-8d9c-a6a91d2c4a4d",
   "metadata": {},
   "outputs": [
    {
     "data": {
      "text/plain": [
       "0.3309285714285714"
      ]
     },
     "execution_count": 13,
     "metadata": {},
     "output_type": "execute_result"
    }
   ],
   "source": [
    "len(new_data.loc[new_data.standard_deviation > 8]) / len(new_data.standard_deviation)"
   ]
  },
  {
   "cell_type": "code",
   "execution_count": 14,
   "id": "387ba4cc-b980-494d-a773-f39d9ef6f51d",
   "metadata": {},
   "outputs": [
    {
     "data": {
      "text/plain": [
       "0.10617857142857143"
      ]
     },
     "execution_count": 14,
     "metadata": {},
     "output_type": "execute_result"
    }
   ],
   "source": [
    "len(new_data.loc[new_data.standard_deviation < 4]) / len(new_data.standard_deviation)"
   ]
  },
  {
   "cell_type": "code",
   "execution_count": 25,
   "id": "bd8a9b6a-fa74-4057-b4fb-4bfa191b88fa",
   "metadata": {},
   "outputs": [
    {
     "data": {
      "text/plain": [
       "0.022"
      ]
     },
     "execution_count": 25,
     "metadata": {},
     "output_type": "execute_result"
    }
   ],
   "source": [
    "len(new_data.loc[(new_data.standard_deviation < 4) & (new_data.age_group_id == 10)]) / len(new_data.loc[(new_data.age_group_id == 10)])"
   ]
  },
  {
   "cell_type": "markdown",
   "id": "011e0089-2d5c-4fa2-9dab-682a5c1ef548",
   "metadata": {},
   "source": [
    "While this did fix the issue with the more egregious standard deviations, the distribution still looks quite odd. This will hopefully be fixed in later rounds of GBD, but for now we can use this as a temporary fix.  "
   ]
  },
  {
   "cell_type": "markdown",
   "id": "2c654606-bda4-4cfd-a69b-4387c3fe9dcf",
   "metadata": {},
   "source": [
    "### Converting back to wide format and saving csv"
   ]
  },
  {
   "cell_type": "code",
   "execution_count": 15,
   "id": "0becd0c2-3201-4cd9-beb4-08c2f521b42a",
   "metadata": {},
   "outputs": [
    {
     "data": {
      "text/html": [
       "<div>\n",
       "<style scoped>\n",
       "    .dataframe tbody tr th:only-of-type {\n",
       "        vertical-align: middle;\n",
       "    }\n",
       "\n",
       "    .dataframe tbody tr th {\n",
       "        vertical-align: top;\n",
       "    }\n",
       "\n",
       "    .dataframe thead th {\n",
       "        text-align: right;\n",
       "    }\n",
       "</style>\n",
       "<table border=\"1\" class=\"dataframe\">\n",
       "  <thead>\n",
       "    <tr style=\"text-align: right;\">\n",
       "      <th></th>\n",
       "      <th>draw</th>\n",
       "      <th>draw_0</th>\n",
       "      <th>draw_1</th>\n",
       "      <th>draw_10</th>\n",
       "      <th>draw_100</th>\n",
       "      <th>draw_101</th>\n",
       "      <th>draw_102</th>\n",
       "      <th>draw_103</th>\n",
       "      <th>draw_104</th>\n",
       "      <th>draw_105</th>\n",
       "      <th>draw_106</th>\n",
       "      <th>...</th>\n",
       "      <th>draw_990</th>\n",
       "      <th>draw_991</th>\n",
       "      <th>draw_992</th>\n",
       "      <th>draw_993</th>\n",
       "      <th>draw_994</th>\n",
       "      <th>draw_995</th>\n",
       "      <th>draw_996</th>\n",
       "      <th>draw_997</th>\n",
       "      <th>draw_998</th>\n",
       "      <th>draw_999</th>\n",
       "    </tr>\n",
       "    <tr>\n",
       "      <th>sex_id</th>\n",
       "      <th>age_group_id</th>\n",
       "      <th></th>\n",
       "      <th></th>\n",
       "      <th></th>\n",
       "      <th></th>\n",
       "      <th></th>\n",
       "      <th></th>\n",
       "      <th></th>\n",
       "      <th></th>\n",
       "      <th></th>\n",
       "      <th></th>\n",
       "      <th></th>\n",
       "      <th></th>\n",
       "      <th></th>\n",
       "      <th></th>\n",
       "      <th></th>\n",
       "      <th></th>\n",
       "      <th></th>\n",
       "      <th></th>\n",
       "      <th></th>\n",
       "      <th></th>\n",
       "      <th></th>\n",
       "    </tr>\n",
       "  </thead>\n",
       "  <tbody>\n",
       "    <tr>\n",
       "      <th rowspan=\"5\" valign=\"top\">1</th>\n",
       "      <th>10</th>\n",
       "      <td>9.591207</td>\n",
       "      <td>9.922810</td>\n",
       "      <td>5.695761</td>\n",
       "      <td>9.091147</td>\n",
       "      <td>3.859586</td>\n",
       "      <td>9.433036</td>\n",
       "      <td>9.533512</td>\n",
       "      <td>5.579364</td>\n",
       "      <td>5.448073</td>\n",
       "      <td>9.292075</td>\n",
       "      <td>...</td>\n",
       "      <td>9.300838</td>\n",
       "      <td>5.612157</td>\n",
       "      <td>5.413803</td>\n",
       "      <td>5.555912</td>\n",
       "      <td>5.714656</td>\n",
       "      <td>3.849423</td>\n",
       "      <td>5.560263</td>\n",
       "      <td>5.732402</td>\n",
       "      <td>5.201153</td>\n",
       "      <td>5.737831</td>\n",
       "    </tr>\n",
       "    <tr>\n",
       "      <th>11</th>\n",
       "      <td>10.256039</td>\n",
       "      <td>10.391654</td>\n",
       "      <td>10.105663</td>\n",
       "      <td>5.700073</td>\n",
       "      <td>3.966391</td>\n",
       "      <td>10.399353</td>\n",
       "      <td>10.086447</td>\n",
       "      <td>5.775341</td>\n",
       "      <td>5.593524</td>\n",
       "      <td>6.105253</td>\n",
       "      <td>...</td>\n",
       "      <td>5.628805</td>\n",
       "      <td>5.591587</td>\n",
       "      <td>4.130237</td>\n",
       "      <td>4.033986</td>\n",
       "      <td>5.631593</td>\n",
       "      <td>5.566593</td>\n",
       "      <td>5.790419</td>\n",
       "      <td>5.859199</td>\n",
       "      <td>3.104723</td>\n",
       "      <td>5.719223</td>\n",
       "    </tr>\n",
       "    <tr>\n",
       "      <th>12</th>\n",
       "      <td>10.389089</td>\n",
       "      <td>10.286025</td>\n",
       "      <td>6.292133</td>\n",
       "      <td>4.231660</td>\n",
       "      <td>5.711935</td>\n",
       "      <td>10.261169</td>\n",
       "      <td>5.977911</td>\n",
       "      <td>10.238705</td>\n",
       "      <td>5.807984</td>\n",
       "      <td>9.972524</td>\n",
       "      <td>...</td>\n",
       "      <td>5.775050</td>\n",
       "      <td>5.914890</td>\n",
       "      <td>4.117794</td>\n",
       "      <td>5.614308</td>\n",
       "      <td>4.155514</td>\n",
       "      <td>4.070004</td>\n",
       "      <td>4.062159</td>\n",
       "      <td>9.906982</td>\n",
       "      <td>5.691700</td>\n",
       "      <td>10.082787</td>\n",
       "    </tr>\n",
       "    <tr>\n",
       "      <th>13</th>\n",
       "      <td>10.100829</td>\n",
       "      <td>10.286053</td>\n",
       "      <td>6.276364</td>\n",
       "      <td>5.894123</td>\n",
       "      <td>4.228448</td>\n",
       "      <td>10.519777</td>\n",
       "      <td>10.105449</td>\n",
       "      <td>10.327860</td>\n",
       "      <td>5.824145</td>\n",
       "      <td>6.360334</td>\n",
       "      <td>...</td>\n",
       "      <td>5.786042</td>\n",
       "      <td>5.713011</td>\n",
       "      <td>5.798132</td>\n",
       "      <td>5.679333</td>\n",
       "      <td>3.127180</td>\n",
       "      <td>4.104800</td>\n",
       "      <td>6.076312</td>\n",
       "      <td>5.941744</td>\n",
       "      <td>5.721536</td>\n",
       "      <td>6.188213</td>\n",
       "    </tr>\n",
       "    <tr>\n",
       "      <th>14</th>\n",
       "      <td>10.475955</td>\n",
       "      <td>11.048295</td>\n",
       "      <td>6.056815</td>\n",
       "      <td>5.826590</td>\n",
       "      <td>5.796687</td>\n",
       "      <td>9.923691</td>\n",
       "      <td>6.129840</td>\n",
       "      <td>10.229780</td>\n",
       "      <td>5.977795</td>\n",
       "      <td>10.021224</td>\n",
       "      <td>...</td>\n",
       "      <td>5.954685</td>\n",
       "      <td>5.910142</td>\n",
       "      <td>5.897804</td>\n",
       "      <td>5.871997</td>\n",
       "      <td>5.672783</td>\n",
       "      <td>5.683169</td>\n",
       "      <td>5.824476</td>\n",
       "      <td>5.874003</td>\n",
       "      <td>4.089812</td>\n",
       "      <td>10.040501</td>\n",
       "    </tr>\n",
       "  </tbody>\n",
       "</table>\n",
       "<p>5 rows × 1000 columns</p>\n",
       "</div>"
      ],
      "text/plain": [
       "draw                    draw_0     draw_1    draw_10  draw_100  draw_101  \\\n",
       "sex_id age_group_id                                                        \n",
       "1      10             9.591207   9.922810   5.695761  9.091147  3.859586   \n",
       "       11            10.256039  10.391654  10.105663  5.700073  3.966391   \n",
       "       12            10.389089  10.286025   6.292133  4.231660  5.711935   \n",
       "       13            10.100829  10.286053   6.276364  5.894123  4.228448   \n",
       "       14            10.475955  11.048295   6.056815  5.826590  5.796687   \n",
       "\n",
       "draw                  draw_102   draw_103   draw_104  draw_105   draw_106  \\\n",
       "sex_id age_group_id                                                         \n",
       "1      10             9.433036   9.533512   5.579364  5.448073   9.292075   \n",
       "       11            10.399353  10.086447   5.775341  5.593524   6.105253   \n",
       "       12            10.261169   5.977911  10.238705  5.807984   9.972524   \n",
       "       13            10.519777  10.105449  10.327860  5.824145   6.360334   \n",
       "       14             9.923691   6.129840  10.229780  5.977795  10.021224   \n",
       "\n",
       "draw                 ...  draw_990  draw_991  draw_992  draw_993  draw_994  \\\n",
       "sex_id age_group_id  ...                                                     \n",
       "1      10            ...  9.300838  5.612157  5.413803  5.555912  5.714656   \n",
       "       11            ...  5.628805  5.591587  4.130237  4.033986  5.631593   \n",
       "       12            ...  5.775050  5.914890  4.117794  5.614308  4.155514   \n",
       "       13            ...  5.786042  5.713011  5.798132  5.679333  3.127180   \n",
       "       14            ...  5.954685  5.910142  5.897804  5.871997  5.672783   \n",
       "\n",
       "draw                 draw_995  draw_996  draw_997  draw_998   draw_999  \n",
       "sex_id age_group_id                                                     \n",
       "1      10            3.849423  5.560263  5.732402  5.201153   5.737831  \n",
       "       11            5.566593  5.790419  5.859199  3.104723   5.719223  \n",
       "       12            4.070004  4.062159  9.906982  5.691700  10.082787  \n",
       "       13            4.104800  6.076312  5.941744  5.721536   6.188213  \n",
       "       14            5.683169  5.824476  5.874003  4.089812  10.040501  \n",
       "\n",
       "[5 rows x 1000 columns]"
      ]
     },
     "execution_count": 15,
     "metadata": {},
     "output_type": "execute_result"
    }
   ],
   "source": [
    "data_final = pd.pivot(new_data, index=['sex_id','age_group_id'], columns='draw', values='standard_deviation')\n",
    "data_final.head()"
   ]
  },
  {
   "cell_type": "code",
   "execution_count": 16,
   "id": "6ce47b99-8ce2-4e4b-8ff8-5e88f5fd23c8",
   "metadata": {},
   "outputs": [],
   "source": [
    "data_final.to_csv('/ihme/homes/lutzes/bmi_standard_deviations_adjusted.csv')"
   ]
  },
  {
   "cell_type": "code",
   "execution_count": null,
   "id": "32fa7876-c3b7-45bb-b948-8cacf9215367",
   "metadata": {},
   "outputs": [],
   "source": []
  },
  {
   "cell_type": "markdown",
   "id": "82976a24-3dc6-437f-8ef5-e35e2e3ca798",
   "metadata": {},
   "source": [
    "### Some V&V Checks\n",
    "\n",
    "I am checking to make sure that our draws are higher than expected. I found that there are 10% more (43% vs 33%) standard deviations that are >8 and about 1% less that are under 4. "
   ]
  },
  {
   "cell_type": "code",
   "execution_count": 17,
   "id": "cd6b9193-6a2a-4839-a55c-490fa3cafda3",
   "metadata": {},
   "outputs": [
    {
     "data": {
      "text/html": [
       "<div>\n",
       "<style scoped>\n",
       "    .dataframe tbody tr th:only-of-type {\n",
       "        vertical-align: middle;\n",
       "    }\n",
       "\n",
       "    .dataframe tbody tr th {\n",
       "        vertical-align: top;\n",
       "    }\n",
       "\n",
       "    .dataframe thead th {\n",
       "        text-align: right;\n",
       "    }\n",
       "</style>\n",
       "<table border=\"1\" class=\"dataframe\">\n",
       "  <thead>\n",
       "    <tr style=\"text-align: right;\">\n",
       "      <th>modelable_entity_id</th>\n",
       "      <th>sex_id</th>\n",
       "      <th>age_group_id</th>\n",
       "      <th>draw</th>\n",
       "      <th>standard_deviation</th>\n",
       "    </tr>\n",
       "  </thead>\n",
       "  <tbody>\n",
       "    <tr>\n",
       "      <th>149</th>\n",
       "      <td>1</td>\n",
       "      <td>10</td>\n",
       "      <td>draw_232</td>\n",
       "      <td>9.295992</td>\n",
       "    </tr>\n",
       "    <tr>\n",
       "      <th>212</th>\n",
       "      <td>1</td>\n",
       "      <td>10</td>\n",
       "      <td>draw_29</td>\n",
       "      <td>9.400274</td>\n",
       "    </tr>\n",
       "    <tr>\n",
       "      <th>287</th>\n",
       "      <td>1</td>\n",
       "      <td>10</td>\n",
       "      <td>draw_357</td>\n",
       "      <td>5.398735</td>\n",
       "    </tr>\n",
       "    <tr>\n",
       "      <th>328</th>\n",
       "      <td>1</td>\n",
       "      <td>10</td>\n",
       "      <td>draw_394</td>\n",
       "      <td>5.337914</td>\n",
       "    </tr>\n",
       "    <tr>\n",
       "      <th>560</th>\n",
       "      <td>1</td>\n",
       "      <td>10</td>\n",
       "      <td>draw_602</td>\n",
       "      <td>5.534725</td>\n",
       "    </tr>\n",
       "  </tbody>\n",
       "</table>\n",
       "</div>"
      ],
      "text/plain": [
       "modelable_entity_id  sex_id  age_group_id      draw  standard_deviation\n",
       "149                       1            10  draw_232            9.295992\n",
       "212                       1            10   draw_29            9.400274\n",
       "287                       1            10  draw_357            5.398735\n",
       "328                       1            10  draw_394            5.337914\n",
       "560                       1            10  draw_602            5.534725"
      ]
     },
     "execution_count": 17,
     "metadata": {},
     "output_type": "execute_result"
    }
   ],
   "source": [
    "data_sim_draws = data.loc[data.draw.isin(['draw_29','draw_232','draw_357','draw_394','draw_602','draw_629','draw_650','draw_680','draw_829','draw_946'])]\n",
    "data_sim_draws.head()"
   ]
  },
  {
   "cell_type": "code",
   "execution_count": 18,
   "id": "f1509668-f91a-4316-8a92-926e6d6e674c",
   "metadata": {},
   "outputs": [
    {
     "data": {
      "text/plain": [
       "Text(0.5, 1.0, 'Standard Deviation by Age Group')"
      ]
     },
     "execution_count": 18,
     "metadata": {},
     "output_type": "execute_result"
    },
    {
     "data": {
      "image/png": "[encoded data removed]",
      "text/plain": [
       "<Figure size 432x288 with 1 Axes>"
      ]
     },
     "metadata": {
      "needs_background": "light"
     },
     "output_type": "display_data"
    }
   ],
   "source": [
    "plt.scatter(data_sim_draws.age_group_id, data_sim_draws.standard_deviation, alpha=0.3)\n",
    "plt.xlabel(\"Age Group ID\")\n",
    "plt.ylabel(\"Standard Deviation\")\n",
    "plt.title(\"Standard Deviation by Age Group\") "
   ]
  },
  {
   "cell_type": "code",
   "execution_count": 19,
   "id": "7bc01b12-f76f-47b8-9be6-1aa351558f14",
   "metadata": {},
   "outputs": [],
   "source": [
    "new_data = pd.DataFrame()\n",
    "for i in range(3):\n",
    "    for j in range(data_sim_draws.age_group_id.nunique()):\n",
    "        age_group_id = data_sim_draws.age_group_id.unique()[j]\n",
    "        data_current = data_sim_draws.loc[(data_sim_draws.sex_id == i) & (data_sim_draws.age_group_id == age_group_id)]\n",
    "        data_current_reasonable = data_current.standard_deviation.loc[data_current.standard_deviation < 15]\n",
    "        for k in range(len(data_current)):\n",
    "            if data_current.standard_deviation.iloc[k] > 15: \n",
    "                y = random.sample(data_current_reasonable.tolist(),7)\n",
    "                avg = np.mean(y)\n",
    "                data_current.standard_deviation.iloc[k] = avg \n",
    "        new_data = pd.concat([new_data,data_current])"
   ]
  },
  {
   "cell_type": "code",
   "execution_count": 20,
   "id": "b3c18763-bcea-4a6e-af8a-416507893411",
   "metadata": {},
   "outputs": [
    {
     "data": {
      "text/plain": [
       "Text(0.5, 1.0, 'Standard Deviation by Age Group')"
      ]
     },
     "execution_count": 20,
     "metadata": {},
     "output_type": "execute_result"
    },
    {
     "data": {
      "image/png": "[encoded data removed]",
      "text/plain": [
       "<Figure size 432x288 with 1 Axes>"
      ]
     },
     "metadata": {
      "needs_background": "light"
     },
     "output_type": "display_data"
    }
   ],
   "source": [
    "plt.scatter(new_data.age_group_id, new_data.standard_deviation, alpha=0.3)\n",
    "plt.xlabel(\"Age Group ID\")\n",
    "plt.ylabel(\"Standard Deviation\")\n",
    "plt.title(\"Standard Deviation by Age Group\") "
   ]
  },
  {
   "cell_type": "code",
   "execution_count": 21,
   "id": "ac8ce5cf-f996-4301-9729-7924b0a3722b",
   "metadata": {},
   "outputs": [
    {
     "data": {
      "text/plain": [
       "0.4392857142857143"
      ]
     },
     "execution_count": 21,
     "metadata": {},
     "output_type": "execute_result"
    }
   ],
   "source": [
    "len(new_data.loc[new_data.standard_deviation > 8]) / len(new_data.standard_deviation)"
   ]
  },
  {
   "cell_type": "code",
   "execution_count": 22,
   "id": "6a98efe6-beeb-4ae7-bf6c-96ff359f73d3",
   "metadata": {},
   "outputs": [
    {
     "data": {
      "text/plain": [
       "0.09285714285714286"
      ]
     },
     "execution_count": 22,
     "metadata": {},
     "output_type": "execute_result"
    }
   ],
   "source": [
    "len(new_data.loc[new_data.standard_deviation < 4]) / len(new_data.standard_deviation)"
   ]
  },
  {
   "cell_type": "code",
   "execution_count": 23,
   "id": "dbeb87f1-cbaa-443e-a770-357c9016acbf",
   "metadata": {},
   "outputs": [
    {
     "data": {
      "text/plain": [
       "0.0"
      ]
     },
     "execution_count": 23,
     "metadata": {},
     "output_type": "execute_result"
    }
   ],
   "source": [
    "len(new_data.loc[(new_data.standard_deviation < 4) & (new_data.age_group_id == 10)]) / len(new_data.loc[(new_data.age_group_id == 10)])"
   ]
  },
  {
   "cell_type": "markdown",
   "id": "92c0a891-9aeb-4983-821a-521e82b51200",
   "metadata": {},
   "source": [
    "## Testing the US Health Disparities Standard Deviations"
   ]
  },
  {
   "cell_type": "code",
   "execution_count": 2,
   "id": "d6ce0a2d-eee4-4fe4-b551-2d620fe929e4",
   "metadata": {},
   "outputs": [
    {
     "name": "stderr",
     "output_type": "stream",
     "text": [
      "/ihme/homes/lutzes/.conda/envs/vivarium_nih_us_cvd/lib/python3.8/site-packages/get_draws/transforms/version_transforms.py:33: PerformanceWarning: DataFrame is highly fragmented.  This is usually the result of calling `frame.insert` many times, which has poor performance.  Consider joining all columns at once using pd.concat(axis=1) instead. To get a de-fragmented frame, use `newframe = frame.copy()`\n",
      "  df[version_id_type_name] = version_id\n"
     ]
    }
   ],
   "source": [
    "bmi_std_re = get_draws(release_id=8,\n",
    "         year_id=2019,\n",
    "         sex_id=[1,2],\n",
    "         location_id=523,\n",
    "         age_group_id=[10,11,12,13,14,15,16,17,18,19,20,30,31,32],\n",
    "         gbd_id_type='modelable_entity_id',\n",
    "         gbd_id=27050,\n",
    "         source='epi')"
   ]
  },
  {
   "cell_type": "code",
   "execution_count": 6,
   "id": "64a2972e-0c34-48ea-89bf-be01f984d5b4",
   "metadata": {},
   "outputs": [
    {
     "data": {
      "text/html": [
       "<div>\n",
       "<style scoped>\n",
       "    .dataframe tbody tr th:only-of-type {\n",
       "        vertical-align: middle;\n",
       "    }\n",
       "\n",
       "    .dataframe tbody tr th {\n",
       "        vertical-align: top;\n",
       "    }\n",
       "\n",
       "    .dataframe thead th {\n",
       "        text-align: right;\n",
       "    }\n",
       "</style>\n",
       "<table border=\"1\" class=\"dataframe\">\n",
       "  <thead>\n",
       "    <tr style=\"text-align: right;\">\n",
       "      <th></th>\n",
       "      <th>age_group_id</th>\n",
       "      <th>draw_0</th>\n",
       "      <th>draw_1</th>\n",
       "      <th>draw_10</th>\n",
       "      <th>draw_100</th>\n",
       "      <th>draw_101</th>\n",
       "      <th>draw_102</th>\n",
       "      <th>draw_103</th>\n",
       "      <th>draw_104</th>\n",
       "      <th>draw_105</th>\n",
       "      <th>...</th>\n",
       "      <th>draw_997</th>\n",
       "      <th>draw_998</th>\n",
       "      <th>draw_999</th>\n",
       "      <th>location_id</th>\n",
       "      <th>measure_id</th>\n",
       "      <th>metric_id</th>\n",
       "      <th>modelable_entity_id</th>\n",
       "      <th>sex_id</th>\n",
       "      <th>year_id</th>\n",
       "      <th>model_version_id</th>\n",
       "    </tr>\n",
       "  </thead>\n",
       "  <tbody>\n",
       "    <tr>\n",
       "      <th>0</th>\n",
       "      <td>10</td>\n",
       "      <td>9.100010</td>\n",
       "      <td>9.074114</td>\n",
       "      <td>9.465407</td>\n",
       "      <td>9.394071</td>\n",
       "      <td>9.425841</td>\n",
       "      <td>9.575472</td>\n",
       "      <td>9.470003</td>\n",
       "      <td>9.286181</td>\n",
       "      <td>9.071142</td>\n",
       "      <td>...</td>\n",
       "      <td>9.287888</td>\n",
       "      <td>9.447756</td>\n",
       "      <td>9.312545</td>\n",
       "      <td>523</td>\n",
       "      <td>19</td>\n",
       "      <td>3</td>\n",
       "      <td>27050</td>\n",
       "      <td>2</td>\n",
       "      <td>2019</td>\n",
       "      <td>753223</td>\n",
       "    </tr>\n",
       "    <tr>\n",
       "      <th>1</th>\n",
       "      <td>11</td>\n",
       "      <td>9.186415</td>\n",
       "      <td>9.023013</td>\n",
       "      <td>9.243754</td>\n",
       "      <td>9.295699</td>\n",
       "      <td>9.451908</td>\n",
       "      <td>9.550504</td>\n",
       "      <td>9.416787</td>\n",
       "      <td>9.295179</td>\n",
       "      <td>9.057416</td>\n",
       "      <td>...</td>\n",
       "      <td>9.250309</td>\n",
       "      <td>9.333406</td>\n",
       "      <td>9.393785</td>\n",
       "      <td>523</td>\n",
       "      <td>19</td>\n",
       "      <td>3</td>\n",
       "      <td>27050</td>\n",
       "      <td>2</td>\n",
       "      <td>2019</td>\n",
       "      <td>753223</td>\n",
       "    </tr>\n",
       "    <tr>\n",
       "      <th>2</th>\n",
       "      <td>12</td>\n",
       "      <td>9.296855</td>\n",
       "      <td>8.931278</td>\n",
       "      <td>9.050071</td>\n",
       "      <td>9.167780</td>\n",
       "      <td>9.348274</td>\n",
       "      <td>9.495207</td>\n",
       "      <td>9.244375</td>\n",
       "      <td>9.266964</td>\n",
       "      <td>9.184197</td>\n",
       "      <td>...</td>\n",
       "      <td>9.208411</td>\n",
       "      <td>9.180225</td>\n",
       "      <td>9.409352</td>\n",
       "      <td>523</td>\n",
       "      <td>19</td>\n",
       "      <td>3</td>\n",
       "      <td>27050</td>\n",
       "      <td>2</td>\n",
       "      <td>2019</td>\n",
       "      <td>753223</td>\n",
       "    </tr>\n",
       "    <tr>\n",
       "      <th>3</th>\n",
       "      <td>13</td>\n",
       "      <td>9.352130</td>\n",
       "      <td>8.900832</td>\n",
       "      <td>9.106520</td>\n",
       "      <td>9.102334</td>\n",
       "      <td>9.330151</td>\n",
       "      <td>9.446268</td>\n",
       "      <td>9.120186</td>\n",
       "      <td>9.132080</td>\n",
       "      <td>9.252703</td>\n",
       "      <td>...</td>\n",
       "      <td>9.192585</td>\n",
       "      <td>9.143814</td>\n",
       "      <td>9.353312</td>\n",
       "      <td>523</td>\n",
       "      <td>19</td>\n",
       "      <td>3</td>\n",
       "      <td>27050</td>\n",
       "      <td>2</td>\n",
       "      <td>2019</td>\n",
       "      <td>753223</td>\n",
       "    </tr>\n",
       "    <tr>\n",
       "      <th>4</th>\n",
       "      <td>14</td>\n",
       "      <td>9.191028</td>\n",
       "      <td>8.772064</td>\n",
       "      <td>9.136382</td>\n",
       "      <td>8.958824</td>\n",
       "      <td>9.211033</td>\n",
       "      <td>9.265887</td>\n",
       "      <td>8.919740</td>\n",
       "      <td>8.842209</td>\n",
       "      <td>9.102834</td>\n",
       "      <td>...</td>\n",
       "      <td>9.056649</td>\n",
       "      <td>9.050894</td>\n",
       "      <td>9.103398</td>\n",
       "      <td>523</td>\n",
       "      <td>19</td>\n",
       "      <td>3</td>\n",
       "      <td>27050</td>\n",
       "      <td>2</td>\n",
       "      <td>2019</td>\n",
       "      <td>753223</td>\n",
       "    </tr>\n",
       "  </tbody>\n",
       "</table>\n",
       "<p>5 rows × 1008 columns</p>\n",
       "</div>"
      ],
      "text/plain": [
       "   age_group_id    draw_0    draw_1   draw_10  draw_100  draw_101  draw_102  \\\n",
       "0            10  9.100010  9.074114  9.465407  9.394071  9.425841  9.575472   \n",
       "1            11  9.186415  9.023013  9.243754  9.295699  9.451908  9.550504   \n",
       "2            12  9.296855  8.931278  9.050071  9.167780  9.348274  9.495207   \n",
       "3            13  9.352130  8.900832  9.106520  9.102334  9.330151  9.446268   \n",
       "4            14  9.191028  8.772064  9.136382  8.958824  9.211033  9.265887   \n",
       "\n",
       "   draw_103  draw_104  draw_105  ...  draw_997  draw_998  draw_999  \\\n",
       "0  9.470003  9.286181  9.071142  ...  9.287888  9.447756  9.312545   \n",
       "1  9.416787  9.295179  9.057416  ...  9.250309  9.333406  9.393785   \n",
       "2  9.244375  9.266964  9.184197  ...  9.208411  9.180225  9.409352   \n",
       "3  9.120186  9.132080  9.252703  ...  9.192585  9.143814  9.353312   \n",
       "4  8.919740  8.842209  9.102834  ...  9.056649  9.050894  9.103398   \n",
       "\n",
       "   location_id  measure_id  metric_id  modelable_entity_id  sex_id  year_id  \\\n",
       "0          523          19          3                27050       2     2019   \n",
       "1          523          19          3                27050       2     2019   \n",
       "2          523          19          3                27050       2     2019   \n",
       "3          523          19          3                27050       2     2019   \n",
       "4          523          19          3                27050       2     2019   \n",
       "\n",
       "   model_version_id  \n",
       "0            753223  \n",
       "1            753223  \n",
       "2            753223  \n",
       "3            753223  \n",
       "4            753223  \n",
       "\n",
       "[5 rows x 1008 columns]"
      ]
     },
     "execution_count": 6,
     "metadata": {},
     "output_type": "execute_result"
    }
   ],
   "source": [
    "bmi_std_re.head()"
   ]
  },
  {
   "cell_type": "code",
   "execution_count": 4,
   "id": "eba1b59e-e640-4336-b3bd-c36392790087",
   "metadata": {},
   "outputs": [
    {
     "data": {
      "text/html": [
       "<div>\n",
       "<style scoped>\n",
       "    .dataframe tbody tr th:only-of-type {\n",
       "        vertical-align: middle;\n",
       "    }\n",
       "\n",
       "    .dataframe tbody tr th {\n",
       "        vertical-align: top;\n",
       "    }\n",
       "\n",
       "    .dataframe thead th {\n",
       "        text-align: right;\n",
       "    }\n",
       "</style>\n",
       "<table border=\"1\" class=\"dataframe\">\n",
       "  <thead>\n",
       "    <tr style=\"text-align: right;\">\n",
       "      <th>modelable_entity_id</th>\n",
       "      <th>sex_id</th>\n",
       "      <th>age_group_id</th>\n",
       "      <th>draw</th>\n",
       "      <th>standard_deviation</th>\n",
       "    </tr>\n",
       "  </thead>\n",
       "  <tbody>\n",
       "    <tr>\n",
       "      <th>0</th>\n",
       "      <td>1</td>\n",
       "      <td>10</td>\n",
       "      <td>draw_0</td>\n",
       "      <td>6.772743</td>\n",
       "    </tr>\n",
       "    <tr>\n",
       "      <th>1</th>\n",
       "      <td>1</td>\n",
       "      <td>10</td>\n",
       "      <td>draw_1</td>\n",
       "      <td>6.714839</td>\n",
       "    </tr>\n",
       "    <tr>\n",
       "      <th>2</th>\n",
       "      <td>1</td>\n",
       "      <td>10</td>\n",
       "      <td>draw_10</td>\n",
       "      <td>6.981588</td>\n",
       "    </tr>\n",
       "    <tr>\n",
       "      <th>3</th>\n",
       "      <td>1</td>\n",
       "      <td>10</td>\n",
       "      <td>draw_100</td>\n",
       "      <td>6.905563</td>\n",
       "    </tr>\n",
       "    <tr>\n",
       "      <th>4</th>\n",
       "      <td>1</td>\n",
       "      <td>10</td>\n",
       "      <td>draw_101</td>\n",
       "      <td>6.899134</td>\n",
       "    </tr>\n",
       "  </tbody>\n",
       "</table>\n",
       "</div>"
      ],
      "text/plain": [
       "modelable_entity_id  sex_id  age_group_id      draw  standard_deviation\n",
       "0                         1            10    draw_0            6.772743\n",
       "1                         1            10    draw_1            6.714839\n",
       "2                         1            10   draw_10            6.981588\n",
       "3                         1            10  draw_100            6.905563\n",
       "4                         1            10  draw_101            6.899134"
      ]
     },
     "execution_count": 4,
     "metadata": {},
     "output_type": "execute_result"
    }
   ],
   "source": [
    "data = bmi_std_re.set_index(['sex_id','modelable_entity_id','age_group_id'])\n",
    "data = (data[[c for c in data.columns if 'draw' in c]].stack().reset_index()\n",
    "        .rename(columns={'level_3':'draw',0:'value'}))\n",
    "data = (data.pivot_table(index=['sex_id','age_group_id','draw'], columns='modelable_entity_id', values='value')\n",
    "        .reset_index())\n",
    "data = data.rename(columns={27050:'standard_deviation'})\n",
    "data.head()"
   ]
  },
  {
   "cell_type": "code",
   "execution_count": 5,
   "id": "e22a1764-2424-447b-9672-002830a022e2",
   "metadata": {},
   "outputs": [
    {
     "data": {
      "text/plain": [
       "Text(0.5, 1.0, 'Standard Deviation by Age Group')"
      ]
     },
     "execution_count": 5,
     "metadata": {},
     "output_type": "execute_result"
    },
    {
     "data": {
      "image/png": "[encoded data removed]",
      "text/plain": [
       "<Figure size 432x288 with 1 Axes>"
      ]
     },
     "metadata": {
      "needs_background": "light"
     },
     "output_type": "display_data"
    }
   ],
   "source": [
    "plt.scatter(data.age_group_id, data.standard_deviation, alpha=0.3)\n",
    "plt.xlabel(\"Age Group ID\")\n",
    "plt.ylabel(\"Standard Deviation\")\n",
    "plt.title(\"Standard Deviation by Age Group\") "
   ]
  },
  {
   "cell_type": "markdown",
   "id": "d5f2773b-d5fb-413d-97dc-d10e358f3395",
   "metadata": {},
   "source": [
    "Wow this looks so much better! "
   ]
  },
  {
   "cell_type": "code",
   "execution_count": null,
   "id": "0cecfc60-cca8-4073-83a8-7e8e8824fb52",
   "metadata": {},
   "outputs": [],
   "source": []
  }
 ],
 "metadata": {
  "kernelspec": {
   "display_name": "Python 3 (ipykernel)",
   "language": "python",
   "name": "python3"
  },
  "language_info": {
   "codemirror_mode": {
    "name": "ipython",
    "version": 3
   },
   "file_extension": ".py",
   "mimetype": "text/x-python",
   "name": "python",
   "nbconvert_exporter": "python",
   "pygments_lexer": "ipython3",
   "version": "3.8.13"
  }
 },
 "nbformat": 4,
 "nbformat_minor": 5
}
