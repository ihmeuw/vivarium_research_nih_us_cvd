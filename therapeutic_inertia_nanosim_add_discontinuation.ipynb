{
 "cells": [
  {
   "cell_type": "markdown",
   "id": "26ee9985",
   "metadata": {},
   "source": [
    "# Therapeutic Inertia Nano Sim Test\n",
    "\n",
    "This notebook is designed to be a nanosim testing different therapeutic inertia parameters in order to see what might be the most effective for use in the CVD sim. \n",
    "\n",
    "To build off of that - we are adding the discontinuation piece."
   ]
  },
  {
   "cell_type": "code",
   "execution_count": 1,
   "id": "e1df663b",
   "metadata": {},
   "outputs": [],
   "source": [
    "import pandas as pd, numpy as np, os\n",
    "import scipy.stats, random, matplotlib.pyplot as plt \n",
    "import math\n",
    "\n",
    "import warnings\n",
    "warnings.simplefilter(action='ignore', category=FutureWarning)\n",
    "from vivarium import InteractiveContext, Artifact\n",
    "from pathlib import Path"
   ]
  },
  {
   "cell_type": "markdown",
   "id": "45cb9f18",
   "metadata": {},
   "source": [
    "## Data Loading / Creation"
   ]
  },
  {
   "cell_type": "code",
   "execution_count": 3,
   "id": "c4867354",
   "metadata": {},
   "outputs": [],
   "source": [
    "inertia = 0.20 ## Means 20% of people DO GET treated and/or tirated on any time step\n",
    "## Could be easier to change the cutoff instead of the sim level component \n",
    "\n",
    "medication_rate = 0.4\n",
    "nhanes_medication_rate = 0.597492 # Approx 60% of people who should be on meds are on meds \n",
    "sim_prop_rate = 0.5 #Means 50% of the propensity is due to the sim and 50% is random \n",
    "churn_rate = 0.02 #Adding a \"churn\" which is meant to represent people dying + new people needing SBP meds (aging in basically) \n",
    "base_discontinuation = 0.314"
   ]
  },
  {
   "cell_type": "code",
   "execution_count": 4,
   "id": "182f4342-cc32-4f41-b0ae-045e8027edf3",
   "metadata": {},
   "outputs": [
    {
     "data": {
      "text/plain": [
       "0.6694650304941322"
      ]
     },
     "execution_count": 4,
     "metadata": {},
     "output_type": "execute_result"
    }
   ],
   "source": [
    "med_rr = medication_rate / nhanes_medication_rate\n",
    "med_rr"
   ]
  },
  {
   "cell_type": "code",
   "execution_count": 5,
   "id": "3b28434b-b7be-447f-8c02-3544d2f824fe",
   "metadata": {},
   "outputs": [
    {
     "data": {
      "text/plain": [
       "0.039085934999999995"
      ]
     },
     "execution_count": 5,
     "metadata": {},
     "output_type": "execute_result"
    }
   ],
   "source": [
    "time_step_discon = base_discontinuation/12 / med_rr\n",
    "time_step_discon"
   ]
  },
  {
   "cell_type": "code",
   "execution_count": 6,
   "id": "e7ab3add-3b87-48ba-a71a-4bede6c4493e",
   "metadata": {},
   "outputs": [
    {
     "data": {
      "text/plain": [
       "0.46903121999999997"
      ]
     },
     "execution_count": 6,
     "metadata": {},
     "output_type": "execute_result"
    }
   ],
   "source": [
    "adjusted_discon = base_discontinuation / med_rr\n",
    "adjusted_discon"
   ]
  },
  {
   "cell_type": "markdown",
   "id": "2afbc53d",
   "metadata": {},
   "source": [
    "Notes on churn rate: \n",
    "\n",
    "We need to include a churn in the model, otherwise with any random component the medication rate will only stabilize at 100%, which we don't want. However, the churn parameter is difficult to conceptualize and quantify. Therefore we completed some sensitivity testing and found that a churn rate between 1-10% gave reasonable results in the nanosim. We think that churn in the full model will fall in this range. "
   ]
  },
  {
   "cell_type": "code",
   "execution_count": 3,
   "id": "3539b44d",
   "metadata": {},
   "outputs": [
    {
     "data": {
      "text/plain": [
       "<Axes: >"
      ]
     },
     "execution_count": 3,
     "metadata": {},
     "output_type": "execute_result"
    },
    {
     "data": {
      "image/png": "[encoded data removed]",
      "text/plain": [
       "<Figure size 640x480 with 1 Axes>"
      ]
     },
     "metadata": {},
     "output_type": "display_data"
    }
   ],
   "source": [
    "pop = 10_000\n",
    "sims = pd.DataFrame()\n",
    "sims['sim_propensity'] = np.random.normal(0, math.sqrt(sim_prop_rate), pop) \n",
    "sims['random_propensity'] = np.random.normal(0, math.sqrt(1-sim_prop_rate), pop) \n",
    "sims['total_propensity'] = scipy.stats.norm.cdf(sims['sim_propensity'] + sims['random_propensity'])\n",
    "sims['total_propensity'].hist(bins=100)\n",
    "##Looking like this works! "
   ]
  },
  {
   "cell_type": "code",
   "execution_count": 4,
   "id": "0a661020-799e-4eb7-915b-12cfb8538d65",
   "metadata": {},
   "outputs": [],
   "source": [
    "path = Path('/ihme/homes/lutzes/vivarium_nih_us_cvd/src/vivarium_nih_us_cvd/model_specifications/nih_us_cvd.yaml')\n",
    "sim = InteractiveContext(path, setup=False)"
   ]
  },
  {
   "cell_type": "code",
   "execution_count": 5,
   "id": "d0ca5288-fb02-4789-af36-e02f8a1b8ec0",
   "metadata": {},
   "outputs": [
    {
     "name": "stdout",
     "output_type": "stream",
     "text": [
      "\u001b[32m2023-12-06 10:50:11.586\u001b[0m | \u001b[1mINFO    \u001b[0m | \u001b[36msimulation_1\u001b[0m-\u001b[36martifact_manager\u001b[0m:\u001b[36m67\u001b[0m - \u001b[1mRunning simulation from artifact located at /mnt/team/simulation_science/pub/models/vivarium_nih_us_cvd/artifacts/51-locations/v3-20231019/alabama.hdf.\u001b[0m\n",
      "\u001b[32m2023-12-06 10:50:11.588\u001b[0m | \u001b[1mINFO    \u001b[0m | \u001b[36msimulation_1\u001b[0m-\u001b[36martifact_manager\u001b[0m:\u001b[36m68\u001b[0m - \u001b[1mArtifact base filter terms are ['draw == 0'].\u001b[0m\n",
      "\u001b[32m2023-12-06 10:50:11.590\u001b[0m | \u001b[1mINFO    \u001b[0m | \u001b[36msimulation_1\u001b[0m-\u001b[36martifact_manager\u001b[0m:\u001b[36m69\u001b[0m - \u001b[1mArtifact additional filter terms are None.\u001b[0m\n"
     ]
    }
   ],
   "source": [
    "sim.configuration.update({\n",
    "                      'population':\n",
    "                          {'population_size': 10_000,\n",
    "                          },\n",
    "                      }\n",
    "                    )\n",
    "sim.setup()"
   ]
  },
  {
   "cell_type": "code",
   "execution_count": 6,
   "id": "6b25a0db-b326-4caf-baa9-bb1ffd0ef31c",
   "metadata": {},
   "outputs": [],
   "source": [
    "pop0 = sim.get_population()"
   ]
  },
  {
   "cell_type": "code",
   "execution_count": 7,
   "id": "4dfcc06d-e077-4b2b-98c0-c502b8ceae77",
   "metadata": {},
   "outputs": [],
   "source": [
    "data1 = pd.concat([pop0,\n",
    "                   sim.get_value('high_systolic_blood_pressure.exposure')(pop0.index).rename('high_sbp'),\n",
    "                  ], axis=1)\n",
    "data1 = data1.loc[(data1.alive == 'alive') & (data1.age > 25)].reset_index()"
   ]
  },
  {
   "cell_type": "code",
   "execution_count": 8,
   "id": "8c6dc7c7-e87d-40e2-bb53-72b7f4301b84",
   "metadata": {},
   "outputs": [],
   "source": [
    "data1['sbp_medication_new'] = np.where(data1['sbp_medication'] == 'one_drug_half_dose_efficacy', 1, \n",
    "                                      np.where(data1['sbp_medication'] == 'two_drug_half_dose_efficacy', 3, 0))"
   ]
  },
  {
   "cell_type": "markdown",
   "id": "00a84459",
   "metadata": {},
   "source": [
    "## The Nanosim"
   ]
  },
  {
   "cell_type": "code",
   "execution_count": 64,
   "id": "b44ea0e8",
   "metadata": {},
   "outputs": [],
   "source": [
    "def run_nanosim(pop, n_steps):\n",
    "    final_data = pd.DataFrame()\n",
    "    final_data['time_step'] = range(n_steps)\n",
    "    final_data['percent_meds_1'] = range(n_steps)\n",
    "    final_data['percent_meds_2'] = range(n_steps)\n",
    "    final_data['percent_meds_3'] = range(n_steps)\n",
    "    final_data['percent_meds_4'] = range(n_steps)\n",
    "    final_data['percent_meds_5'] = range(n_steps)\n",
    "    final_data['percent_meds_6'] = range(n_steps)\n",
    "    final_data['percent_meds_all'] = range(n_steps)\n",
    "    \n",
    "    sims = pd.DataFrame()\n",
    "    sims['ID'] = range(pop)\n",
    "    sims['meds'] = data1['sbp_medication_new']\n",
    "\n",
    "    sims['start_med_time_step'] = np.where(sims['meds'] != 0, int(random.uniform(0, 36)), 9999)\n",
    "\n",
    "    sim_meds = sims.loc[sims['meds'] == 0]\n",
    "    prev_discon = np.random.choice(len(sim_meds), int(adjusted_discon*len(sim_meds)), replace = False)\n",
    "    sims.iloc[prev_discon, sims.columns.get_loc('start_med_time_step')] = 8888    \n",
    "    \n",
    "    ### 9999 indicates that you are not on meds but can start \n",
    "    ### 8888 indicates that you have previously discontinued meds \n",
    "    sims['sim_propensity'] = np.random.normal(0, math.sqrt(sim_prop_rate), pop) \n",
    "    ##Should really change this to the raw value \n",
    "    sims['original_sbp'] =  data1['high_sbp']\n",
    "    sims['adjusted_sbp'] =  data1['high_sbp']\n",
    "\n",
    "    for i in range(n_steps):\n",
    "        sims['time_step'] = i\n",
    "        sims['random_propensity'] = np.random.normal(0, math.sqrt(1-sim_prop_rate), pop) \n",
    "        sims['total_propensity'] = scipy.stats.norm.cdf(sims['sim_propensity'] + sims['random_propensity'])\n",
    "\n",
    "        #Reset some people to no meds due to churn\n",
    "        chosen_idx = np.random.choice(pop, int(churn_rate*pop), replace = False)\n",
    "        sims.iloc[chosen_idx, sims.columns.get_loc('meds')] = 0\n",
    "        sims.iloc[chosen_idx, sims.columns.get_loc('start_med_time_step')] = 9999\n",
    "        \n",
    "        #Put people on medication or up their medication \n",
    "        sims['meds'] = np.where(sims['meds'] == 6, 6, \n",
    "                                np.where(sims['start_med_time_step'] == 8888, 0, \n",
    "                                np.where(sims['adjusted_sbp'] < 130, sims['meds'], \n",
    "                                np.where(sims['total_propensity'] < inertia, sims['meds'] + 1, sims['meds']))))\n",
    "\n",
    "        ##Lower SBP levels as a result of medication. \n",
    "        ##Each additional SBP med level is assumed to decrease SBP by 5 points. This is an oversimplifcation but works on average. \n",
    "        sims['adjusted_sbp'] = sims['original_sbp'] - (5*sims['meds'])\n",
    "        \n",
    "        ##Discontinue some people based on state \n",
    "        ###First record the first time people are on meds \n",
    "        sims['start_med_time_step'] = np.where(sims['meds'] != 1, sims['start_med_time_step'], \n",
    "                                             np.where(sims['start_med_time_step'] == 9999, i, sims['start_med_time_step']))\n",
    "\n",
    "        ##Need to discontinue 1/3 ish of people who have been on meds less than 1 year \n",
    "        discon_eligible = sims.loc[(sims['start_med_time_step'] > (i - 13)) & (sims['start_med_time_step'] != 9999)]\n",
    "        discontinue_chosen_idx = np.random.choice(len(discon_eligible), int(time_step_discon*len(discon_eligible)), replace = False)\n",
    "        sims.iloc[discontinue_chosen_idx, sims.columns.get_loc('meds')] = 0\n",
    "        ###And make them ineligible for meds \n",
    "        sims.iloc[discontinue_chosen_idx, sims.columns.get_loc('start_med_time_step')] = 8888\n",
    "        \n",
    "        #Get percent medicated for each time step \n",
    "        final_data.iloc[i,1] = len(sims.loc[sims['meds'] == 1])/len(sims.loc[sims['original_sbp'] > 130])\n",
    "        final_data.iloc[i,2] = len(sims.loc[sims['meds'] == 2])/len(sims.loc[sims['original_sbp'] > 130])\n",
    "        final_data.iloc[i,3] = len(sims.loc[sims['meds'] == 3])/len(sims.loc[sims['original_sbp'] > 130])\n",
    "        final_data.iloc[i,4] = len(sims.loc[sims['meds'] == 4])/len(sims.loc[sims['original_sbp'] > 130])\n",
    "        final_data.iloc[i,5] = len(sims.loc[sims['meds'] == 5])/len(sims.loc[sims['original_sbp'] > 130])\n",
    "        final_data.iloc[i,6] = len(sims.loc[sims['meds'] == 6])/len(sims.loc[sims['original_sbp'] > 130])\n",
    "        final_data.iloc[i,7] = len(sims.loc[sims['meds'] != 0])/len(sims.loc[sims['original_sbp'] > 130])\n",
    "        \n",
    "    return final_data"
   ]
  },
  {
   "cell_type": "code",
   "execution_count": 71,
   "id": "ef4ba7f6",
   "metadata": {},
   "outputs": [],
   "source": [
    "test = run_nanosim(1_000, 200)\n",
    "#test"
   ]
  },
  {
   "cell_type": "code",
   "execution_count": 72,
   "id": "cc471197-ee70-4f59-b0c8-7f9778449932",
   "metadata": {},
   "outputs": [
    {
     "data": {
      "text/plain": [
       "Text(0.5, 1.0, 'No Meds for Target Med Rate 0.4 with RR 1.49373')"
      ]
     },
     "execution_count": 72,
     "metadata": {},
     "output_type": "execute_result"
    },
    {
     "data": {
      "image/png": "[encoded data removed]",
      "text/plain": [
       "<Figure size 640x480 with 1 Axes>"
      ]
     },
     "metadata": {},
     "output_type": "display_data"
    }
   ],
   "source": [
    "test['no_meds'] = 1 - test.percent_meds_all\n",
    "plt.plot(test.time_step, test.no_meds)\n",
    "plt.ylim(0,1)\n",
    "plt.title(f'No Meds for Target Med Rate {medication_rate} with RR {med_rr}')"
   ]
  },
  {
   "cell_type": "code",
   "execution_count": null,
   "id": "c8672334",
   "metadata": {},
   "outputs": [],
   "source": []
  },
  {
   "cell_type": "code",
   "execution_count": null,
   "id": "4c863aa3",
   "metadata": {},
   "outputs": [],
   "source": []
  }
 ],
 "metadata": {
  "kernelspec": {
   "display_name": "Python 3 (ipykernel)",
   "language": "python",
   "name": "python3"
  },
  "language_info": {
   "codemirror_mode": {
    "name": "ipython",
    "version": 3
   },
   "file_extension": ".py",
   "mimetype": "text/x-python",
   "name": "python",
   "nbconvert_exporter": "python",
   "pygments_lexer": "ipython3",
   "version": "3.9.18"
  }
 },
 "nbformat": 4,
 "nbformat_minor": 5
}
